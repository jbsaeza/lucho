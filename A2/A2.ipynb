{
 "cells": [
  {
   "cell_type": "markdown",
   "id": "certain-invasion",
   "metadata": {},
   "source": [
    "# A2\n",
    "\n",
    "### Ejercicio 1: Inversión de strings"
   ]
  },
  {
   "cell_type": "code",
   "execution_count": 30,
   "metadata": {},
   "outputs": [],
   "source": [
    "def invertir_string(string):\n",
    "    string_inv = \"\"\n",
    "    for i in range(len(string)):\n",
    "        string_inv += string[-i-1]\n",
    "    return string_inv"
   ]
  },
  {
   "cell_type": "code",
   "execution_count": 31,
   "metadata": {},
   "outputs": [
    {
     "output_type": "stream",
     "name": "stdout",
     "text": [
      "aíreinegni_al_arap_atneimarreh_omoc_nóicamargorp\n"
     ]
    }
   ],
   "source": [
    "string_original = \"programación_como_herramienta_para_la_ingeniería\"\n",
    "string_inverso = invertir_string(string_original)\n",
    "print(string_inverso)"
   ]
  },
  {
   "source": [
    "### Ejercicio 2: Producto de máximo valor absoluto"
   ],
   "cell_type": "markdown",
   "metadata": {}
  },
  {
   "cell_type": "code",
   "execution_count": 32,
   "metadata": {},
   "outputs": [],
   "source": [
    "def maximo_producto_absoluto(lista):\n",
    "    max1 = 0\n",
    "    max2 = 0\n",
    "    for i in range(len(lista)):\n",
    "        if max1 < abs(lista[i]):\n",
    "            max1 = abs(lista[i])\n",
    "        elif max2 < abs(lista[i]):\n",
    "            max2 = abs(lista[i])\n",
    "    return max1 * max2"
   ]
  },
  {
   "cell_type": "code",
   "execution_count": 33,
   "metadata": {},
   "outputs": [
    {
     "output_type": "stream",
     "name": "stdout",
     "text": [
      "60\n"
     ]
    }
   ],
   "source": [
    "lista = [-10, -3, 4, 6, -2]\n",
    "max_prod = maximo_producto_absoluto(lista)\n",
    "print(max_prod)"
   ]
  },
  {
   "source": [
    "### Ejercicio 3: Raíz cuadrada eficiente"
   ],
   "cell_type": "markdown",
   "metadata": {}
  },
  {
   "cell_type": "code",
   "execution_count": 34,
   "metadata": {},
   "outputs": [],
   "source": [
    "def calcular_raiz(number):\n",
    "    #Busqueda binaria\n",
    "    if number == 1:\n",
    "        return 1\n",
    "    raiz = number//2\n",
    "    while True:\n",
    "        if number < (raiz+1)**2 and raiz**2 <= number:\n",
    "            return raiz\n",
    "        elif raiz**2 < number:\n",
    "            raiz += raiz//2\n",
    "        else:\n",
    "            raiz = raiz//2"
   ]
  },
  {
   "cell_type": "code",
   "execution_count": 35,
   "metadata": {},
   "outputs": [
    {
     "output_type": "stream",
     "name": "stdout",
     "text": [
      "4\n"
     ]
    }
   ],
   "source": [
    "numero = 17\n",
    "raiz = calcular_raiz(numero)\n",
    "print(raiz)"
   ]
  },
  {
   "source": [
    "### Ejercicio 4: Caminos en un grafo"
   ],
   "cell_type": "markdown",
   "metadata": {}
  },
  {
   "cell_type": "code",
   "execution_count": 36,
   "metadata": {},
   "outputs": [],
   "source": [
    "def caminos_desde_todos(grafo):\n",
    "    # BFS visto en clases\n",
    "    visited, queue = list(), [0]\n",
    "    while queue:\n",
    "        vertex = queue.pop(0)\n",
    "        if vertex not in visited:\n",
    "            visited.append(vertex)\n",
    "            for v in range(len(grafo[vertex])):\n",
    "                if grafo[vertex][v] == 1 and v not in visited:\n",
    "                    queue.append(v)\n",
    "    return len(visited) == len(grafo)"
   ]
  },
  {
   "cell_type": "code",
   "execution_count": 37,
   "metadata": {},
   "outputs": [
    {
     "output_type": "stream",
     "name": "stdout",
     "text": [
      "True\n"
     ]
    }
   ],
   "source": [
    "grafo = [[0,0,0,0,1],[1,0,1,0,0],[0,1,0,0,1],[0,1,1,0,0],[0,0,0,1,0]]\r\n",
    "se_puede = caminos_desde_todos(grafo)\r\n",
    "print(se_puede)"
   ]
  }
 ],
 "metadata": {
  "kernelspec": {
   "name": "python392jvsc74a57bd0ac59ebe37160ed0dfa835113d9b8498d9f09ceb179beaac4002f036b9467c963",
   "display_name": "Python 3.9.2 64-bit"
  },
  "language_info": {
   "codemirror_mode": {
    "name": "ipython",
    "version": 3
   },
   "file_extension": ".py",
   "mimetype": "text/x-python",
   "name": "python",
   "nbconvert_exporter": "python",
   "pygments_lexer": "ipython3",
   "version": "3.9.2"
  },
  "metadata": {
   "interpreter": {
    "hash": "ac59ebe37160ed0dfa835113d9b8498d9f09ceb179beaac4002f036b9467c963"
   }
  }
 },
 "nbformat": 4,
 "nbformat_minor": 5
}