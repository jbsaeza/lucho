{
 "cells": [
  {
   "cell_type": "markdown",
   "id": "certain-invasion",
   "metadata": {},
   "source": [
    "# Ejercicio 1:\n",
    "\n"
   ]
  },
  {
   "cell_type": "code",
   "execution_count": 1,
   "id": "boxed-workstation",
   "metadata": {},
   "outputs": [
    {
     "name": "stdout",
     "output_type": "stream",
     "text": [
      "[('avión', 2), ('perro', 1), ('gato', 2), ('edificio', 1)]\n"
     ]
    }
   ],
   "source": [
    "def calcular_ocurrencias(palabras):\n",
    "    words = {}\n",
    "    for word in palabras:\n",
    "        if word not in words.keys():\n",
    "            words[word] = 1\n",
    "        else:\n",
    "            words[word] += 1\n",
    "    ocurrencias = []\n",
    "    for word in words:\n",
    "        ocurrencias.append((word, words[word]))\n",
    "    return ocurrencias\n",
    "\n",
    "\n",
    "palabras = ['avión', 'perro', 'gato', 'avión', 'edificio', 'gato']\n",
    "ocurrencias = calcular_ocurrencias(palabras)\n",
    "print(ocurrencias)"
   ]
  },
  {
   "cell_type": "markdown",
   "id": "express-difference",
   "metadata": {},
   "source": [
    "# Ejercicio 2:"
   ]
  },
  {
   "cell_type": "code",
   "execution_count": null,
   "id": "subjective-transmission",
   "metadata": {},
   "outputs": [],
   "source": []
  }
 ],
 "metadata": {
  "kernelspec": {
   "display_name": "Python 3",
   "language": "python",
   "name": "python3"
  },
  "language_info": {
   "codemirror_mode": {
    "name": "ipython",
    "version": 3
   },
   "file_extension": ".py",
   "mimetype": "text/x-python",
   "name": "python",
   "nbconvert_exporter": "python",
   "pygments_lexer": "ipython3",
   "version": "3.8.5"
  }
 },
 "nbformat": 4,
 "nbformat_minor": 5
}
