{
 "cells": [
  {
   "cell_type": "markdown",
   "id": "certain-invasion",
   "metadata": {},
   "source": [
    "# T4a"
   ]
  },
  {
   "cell_type": "code",
   "execution_count": 1,
   "metadata": {},
   "outputs": [],
   "source": [
    "import pandas as pd\n",
    "import numpy as np\n",
    "import matplotlib.pyplot as plt\n",
    "import matplotlib as mpl\n",
    "from IPython.display import display\n",
    "\n",
    "\n",
    "df = pd.read_csv(\"data.csv\")"
   ]
  },
  {
   "source": [
    "### Misión 1: Limpieza y Depuración"
   ],
   "cell_type": "markdown",
   "metadata": {}
  },
  {
   "source": [
    "Para ajustar los datos extremos, se eliminaron identificar los outlayers del dataset de acuerdo a una regla comunmente usada llamada 1.5xIQR Rule.\n",
    "Dado ques te paso se pide que sea previo al tratado de los valores Nan, se agrega una condición para evitar errores de tipo."
   ],
   "cell_type": "markdown",
   "metadata": {}
  },
  {
   "cell_type": "code",
   "execution_count": null,
   "metadata": {},
   "outputs": [],
   "source": [
    "# Corrección de datos\n",
    "\n",
    "q1 = df[\"O3\"].quantile(0.25)\n",
    "q3 = df[\"O3\"].quantile(0.75)\n",
    "iqr = q3-q1\n",
    "df = df[(df[\"O3\"].empty) or (df[\"O3\"] <= q3+1.5*iqr)]\n",
    "df = df[(df[\"O3\"].empty) or (df[\"O3\"] >= q1-1.5*iqr)]\n",
    "\n",
    "q1 = df[\"PM2.5\"].quantile(0.25)\n",
    "q3 = df[\"PM2.5\"].quantile(0.75)\n",
    "iqr = q3-q1\n",
    "df = df[(df[\"PM2.5\"].empty) or (df[\"PM2.5\"] <= q3+1.5*iqr)]\n",
    "df = df[(df[\"PM2.5\"].empty) or (df[\"PM2.5\"] >= q1-1.5*iqr)]"
   ]
  },
  {
   "source": [
    "Para el header \"Enviromental_risk\", se tomo el valor \"medio\" ya que la función display(df[\"Environmental_risk\"].value_counts()) nos permite ver que ese es el valor que mas se repite."
   ],
   "cell_type": "markdown",
   "metadata": {}
  },
  {
   "cell_type": "code",
   "execution_count": 2,
   "metadata": {},
   "outputs": [],
   "source": [
    "# Trato de datos faltantes\n",
    "\n",
    "df_media = df.copy()\n",
    "df_del = df.copy()\n",
    "\n",
    "for header in df.columns:\n",
    "    if header != \"Environmental_risk\":\n",
    "        df_media[header].fillna(df_media[header].mean(), inplace=True)\n",
    "    else:\n",
    "        df_media[header].fillna(\"medio\", inplace=True)\n",
    "\n",
    "df_del.dropna(inplace=True)"
   ]
  }
 ],
 "metadata": {
  "kernelspec": {
   "name": "python395jvsc74a57bd0ac59ebe37160ed0dfa835113d9b8498d9f09ceb179beaac4002f036b9467c963",
   "display_name": "Python 3.9.5 64-bit"
  },
  "language_info": {
   "codemirror_mode": {
    "name": "ipython",
    "version": 3
   },
   "file_extension": ".py",
   "mimetype": "text/x-python",
   "name": "python",
   "nbconvert_exporter": "python",
   "pygments_lexer": "ipython3",
   "version": "3.9.5"
  },
  "metadata": {
   "interpreter": {
    "hash": "ac59ebe37160ed0dfa835113d9b8498d9f09ceb179beaac4002f036b9467c963"
   }
  }
 },
 "nbformat": 4,
 "nbformat_minor": 5
}