{
 "cells": [
  {
   "cell_type": "markdown",
   "id": "certain-invasion",
   "metadata": {},
   "source": [
    "# T4b"
   ]
  },
  {
   "cell_type": "code",
   "execution_count": 1,
   "metadata": {},
   "outputs": [],
   "source": [
    "import pandas as pd\n",
    "from sklearn.model_selection import train_test_split\n",
    "from sklearn.preprocessing import LabelEncoder\n",
    "from sklearn.preprocessing import StandardScaler\n",
    "from sklearn import metrics\n",
    "from sklearn.tree import DecisionTreeClassifier\n",
    "from sklearn.svm import SVC\n",
    "from sklearn.neighbors import KNeighborsClassifier"
   ]
  },
  {
   "source": [
    "## Mision 1"
   ],
   "cell_type": "markdown",
   "metadata": {}
  },
  {
   "cell_type": "code",
   "execution_count": 2,
   "metadata": {},
   "outputs": [
    {
     "output_type": "stream",
     "name": "stdout",
     "text": [
      "Error Cuadratico Medio:  1.6e+05\n",
      "Error Cuadratico Medio:  2e+05\n",
      "Error Cuadratico Medio:  2.3e+05\n"
     ]
    }
   ],
   "source": [
    "df = pd.read_csv(\"data.csv\").drop(columns=\"Environmental_risk\")\n",
    "\n",
    "df_training = df.copy()\n",
    "df_training.dropna(inplace=True)\n",
    "\n",
    "# Arroja error si no trato a PM2.5 como variable categorica\n",
    "cat_vars = ['PM2.5']\n",
    "label_encoder = LabelEncoder()\n",
    "for i in cat_vars:\n",
    "    df_training[i] = label_encoder.fit_transform(df_training[i])\n",
    "\n",
    "training_set, test_set = train_test_split(df_training.copy(), test_size=0.3)\n",
    "training_set, validation_set = train_test_split(\n",
    "    training_set.copy(), test_size=0.1)\n",
    "\n",
    "scaler = StandardScaler()\n",
    "features = ['Year', 'Month', 'Day', 'O3']\n",
    "\n",
    "# training_set[features] = scaler.fit_transform(training_set[features])\n",
    "# validation_set[features] = scaler.transform(validation_set[features])\n",
    "# test_set[features] = scaler.transform(test_set[features])\n",
    "\n",
    "\n",
    "def training_and_eval(model, training, eval, features, target):\n",
    "    model.fit(training[features], training[target])\n",
    "    predictions = model.predict(eval[features])\n",
    "    mqe = metrics.mean_squared_error(predictions, eval[target])\n",
    "    print(f\"Error Cuadratico Medio: {mqe: .2}\")\n",
    "\n",
    "\n",
    "target = 'PM2.5'\n",
    "model = DecisionTreeClassifier()\n",
    "training_and_eval(model, training_set, test_set, features, target)\n",
    "model = SVC()\n",
    "training_and_eval(model, training_set, test_set, features, target)\n",
    "model = KNeighborsClassifier()\n",
    "training_and_eval(model, training_set, test_set, features, target)"
   ]
  },
  {
   "cell_type": "code",
   "execution_count": 3,
   "metadata": {},
   "outputs": [],
   "source": [
    "# El modelo con mejor rendimiento es el Decision Tree Classifier\n",
    "df_to_pred = df[df[\"PM2.5\"].isnull()]\n",
    "\n",
    "scaler = StandardScaler()\n",
    "features = ['Year', 'Month', 'Day', 'O3']\n",
    "\n",
    "# training_set[features] = scaler.fit_transform(df_training[features])\n",
    "# test_set[features] = scaler.transform(df_to_pred[features])\n",
    "\n",
    "\n",
    "model = DecisionTreeClassifier()\n",
    "model.fit(training_set[features], training_set[target])\n",
    "predictions = model.predict(test_set[features])"
   ]
  },
  {
   "cell_type": "code",
   "execution_count": null,
   "metadata": {},
   "outputs": [],
   "source": []
  }
 ],
 "metadata": {
  "kernelspec": {
   "name": "python395jvsc74a57bd0ac59ebe37160ed0dfa835113d9b8498d9f09ceb179beaac4002f036b9467c963",
   "display_name": "Python 3.9.5 64-bit"
  },
  "language_info": {
   "codemirror_mode": {
    "name": "ipython",
    "version": 3
   },
   "file_extension": ".py",
   "mimetype": "text/x-python",
   "name": "python",
   "nbconvert_exporter": "python",
   "pygments_lexer": "ipython3",
   "version": "3.9.5"
  },
  "metadata": {
   "interpreter": {
    "hash": "ac59ebe37160ed0dfa835113d9b8498d9f09ceb179beaac4002f036b9467c963"
   }
  }
 },
 "nbformat": 4,
 "nbformat_minor": 5
}