{
 "cells": [
  {
   "cell_type": "markdown",
   "id": "certain-invasion",
   "metadata": {},
   "source": [
    "# A3\n",
    "\n",
    "### Misión 1"
   ]
  },
  {
   "cell_type": "code",
   "execution_count": 15,
   "metadata": {},
   "outputs": [],
   "source": [
    "import sqlite3\n",
    "\n",
    "connection = sqlite3.connect('data.db')\n",
    "cursor = connection.cursor()"
   ]
  },
  {
   "cell_type": "code",
   "execution_count": 16,
   "metadata": {},
   "outputs": [
    {
     "output_type": "execute_result",
     "data": {
      "text/plain": [
       "<sqlite3.Cursor at 0x2a5ef3480a0>"
      ]
     },
     "metadata": {},
     "execution_count": 16
    }
   ],
   "source": [
    "cursor.execute(\n",
    "    \"CREATE TABLE empleados(id INTEGER, nombre TEXT, edad INTEGER, sueldo FLOAT, PRIMARY KEY(id))\")\n",
    "cursor.execute(\n",
    "    \"CREATE TABLE trabaja_en(id_empleado INTEGER, id_depto INTEGER, porcentaje_tiempo INTEGER, PRIMARY KEY(id_empleado, id_depto), FOREIGN KEY (id_empleado) REFERENCES empleados, FOREIGN KEY (id_depto) REFERENCES departamentos)\")\n",
    "cursor.execute(\n",
    "    \"CREATE TABLE departamentos(id INTEGER, nombre TEXT, presupuesto FLOAT, id_jefe INTEGER, PRIMARY KEY(id), FOREIGN KEY (id_jefe) REFERENCES empleados)\")"
   ]
  },
  {
   "cell_type": "code",
   "execution_count": 17,
   "metadata": {},
   "outputs": [],
   "source": [
    "with open(\"empleado.txt\") as fp:\n",
    "    Lines = fp.readlines()\n",
    "    for line in Lines:\n",
    "        row = line.strip().split(\",\")\n",
    "        cursor.execute(\n",
    "            \"INSERT INTO empleados VALUES ({}, '{}', {}, {})\".format(row[0], row[1], row[2], row[3]))\n",
    "\n",
    "with open(\"trabaja_en.txt\") as fp:\n",
    "    Lines = fp.readlines()\n",
    "    for line in Lines:\n",
    "        row = line.strip().split(\",\")\n",
    "        cursor.execute(\n",
    "            \"INSERT INTO trabaja_en VALUES ({}, {}, {})\".format(row[0], row[1], row[2]))\n",
    "\n",
    "with open(\"departamento.txt\") as fp:\n",
    "    Lines = fp.readlines()\n",
    "    for line in Lines:\n",
    "        row = line.strip().split(\",\")\n",
    "        cursor.execute(\n",
    "            \"INSERT INTO departamentos VALUES ({}, '{}', {}, {})\".format(row[0], row[1], row[2], row[3]))"
   ]
  },
  {
   "source": [
    "### Misión 2"
   ],
   "cell_type": "markdown",
   "metadata": {}
  },
  {
   "source": [
    "Consulta 1"
   ],
   "cell_type": "markdown",
   "metadata": {}
  },
  {
   "cell_type": "code",
   "execution_count": 18,
   "metadata": {},
   "outputs": [
    {
     "output_type": "execute_result",
     "data": {
      "text/plain": [
       "<sqlite3.Cursor at 0x2a5ef3480a0>"
      ]
     },
     "metadata": {},
     "execution_count": 18
    }
   ],
   "source": [
    "cursor.execute(\n",
    "    \"SELECT DISTINCT E.nombre, E.edad FROM empleados E, trabaja_en T, departamentos D WHERE E.id==T.id_empleado AND T.id_depto==D.id AND (D.nombre=='Software' OR D.nombre=='Hardware')\"\n",
    ")"
   ]
  },
  {
   "cell_type": "code",
   "execution_count": 19,
   "metadata": {},
   "outputs": [
    {
     "output_type": "stream",
     "name": "stdout",
     "text": [
      "[('Mary Johnson', 44), ('Stanley Browne', 23), ('James Smith', 68), ('Jennifer Thomas', 24)]\n"
     ]
    }
   ],
   "source": [
    "print(cursor.fetchall())"
   ]
  },
  {
   "source": [
    "Consulta 2"
   ],
   "cell_type": "markdown",
   "metadata": {}
  },
  {
   "cell_type": "code",
   "execution_count": 20,
   "metadata": {},
   "outputs": [
    {
     "output_type": "execute_result",
     "data": {
      "text/plain": [
       "<sqlite3.Cursor at 0x2a5ef3480a0>"
      ]
     },
     "metadata": {},
     "execution_count": 20
    }
   ],
   "source": [
    "cursor.execute(\n",
    "    \"SELECT E.nombre, D.presupuesto FROM empleados E, departamentos D WHERE E.id==D.id_jefe AND D.presupuesto == (SELECT MAX(D.presupuesto) FROM departamentos D)\"\n",
    ")"
   ]
  },
  {
   "cell_type": "code",
   "execution_count": 21,
   "metadata": {},
   "outputs": [
    {
     "output_type": "stream",
     "name": "stdout",
     "text": [
      "[('Michael Miller', 12099101.0), ('Edward Baker', 12099101.0)]\n"
     ]
    }
   ],
   "source": [
    "print(cursor.fetchall())"
   ]
  },
  {
   "source": [
    "Consulta 3"
   ],
   "cell_type": "markdown",
   "metadata": {}
  },
  {
   "cell_type": "code",
   "execution_count": 22,
   "metadata": {},
   "outputs": [
    {
     "output_type": "execute_result",
     "data": {
      "text/plain": [
       "<sqlite3.Cursor at 0x2a5ef3480a0>"
      ]
     },
     "metadata": {},
     "execution_count": 22
    }
   ],
   "source": [
    "cursor.execute(\n",
    "    \"SELECT E.nombre, E.sueldo FROM empleados E, (SELECT E.nombre, E.id, MAX (D.presupuesto) max_pres FROM empleados E, trabaja_en T, departamentos D WHERE E.id==T.id_empleado AND T.id_depto==D.id GROUP BY E.nombre) AS X WHERE E.id == X.id AND E.sueldo > X.max_pres\"\n",
    ")"
   ]
  },
  {
   "cell_type": "code",
   "execution_count": 23,
   "metadata": {},
   "outputs": [
    {
     "output_type": "stream",
     "name": "stdout",
     "text": [
      "[('Linda Davis', 25971.0)]\n"
     ]
    }
   ],
   "source": [
    "print(cursor.fetchall())"
   ]
  },
  {
   "source": [
    "Consulta 4"
   ],
   "cell_type": "markdown",
   "metadata": {}
  },
  {
   "cell_type": "code",
   "execution_count": 24,
   "metadata": {},
   "outputs": [
    {
     "output_type": "execute_result",
     "data": {
      "text/plain": [
       "<sqlite3.Cursor at 0x2a5ef3480a0>"
      ]
     },
     "metadata": {},
     "execution_count": 24
    }
   ],
   "source": [
    "cursor.execute(\n",
    "    \"SELECT X.nombre, X.c_emp FROM (SELECT D.nombre, COUNT(E.nombre) AS c_emp FROM empleados E, trabaja_en T, departamentos D WHERE E.id==T.id_empleado AND T.id_depto==D.id AND T.porcentaje_tiempo == 100 GROUP BY D.nombre) AS X WHERE X.c_emp >= 20\"\n",
    ")"
   ]
  },
  {
   "cell_type": "code",
   "execution_count": 25,
   "metadata": {},
   "outputs": [
    {
     "output_type": "stream",
     "name": "stdout",
     "text": [
      "[('Operations', 20), ('Production', 21)]\n"
     ]
    }
   ],
   "source": [
    "print(cursor.fetchall())"
   ]
  }
 ],
 "metadata": {
  "kernelspec": {
   "name": "python395jvsc74a57bd0ac59ebe37160ed0dfa835113d9b8498d9f09ceb179beaac4002f036b9467c963",
   "display_name": "Python 3.9.5 64-bit"
  },
  "language_info": {
   "codemirror_mode": {
    "name": "ipython",
    "version": 3
   },
   "file_extension": ".py",
   "mimetype": "text/x-python",
   "name": "python",
   "nbconvert_exporter": "python",
   "pygments_lexer": "ipython3",
   "version": "3.9.5"
  },
  "metadata": {
   "interpreter": {
    "hash": "ac59ebe37160ed0dfa835113d9b8498d9f09ceb179beaac4002f036b9467c963"
   }
  }
 },
 "nbformat": 4,
 "nbformat_minor": 5
}