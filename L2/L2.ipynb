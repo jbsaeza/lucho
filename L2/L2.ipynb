{
 "cells": [
  {
   "cell_type": "markdown",
   "source": [
    "# Laboratorio 2"
   ],
   "metadata": {
    "id": "r-Rll6QPTuhO"
   }
  },
  {
   "cell_type": "markdown",
   "source": [
    "Referencias utilizadas: Pauta Actividad 4"
   ],
   "metadata": {}
  },
  {
   "cell_type": "markdown",
   "source": [
    "# Familirización con los datos"
   ],
   "metadata": {
    "id": "olympic-degree"
   }
  },
  {
   "cell_type": "code",
   "execution_count": 1,
   "source": [
    "import pandas as pd\r\n",
    "import matplotlib.pyplot as plt\r\n",
    "import numpy as np\r\n",
    "from IPython.display import display"
   ],
   "outputs": [],
   "metadata": {
    "id": "skilled-insight"
   }
  },
  {
   "cell_type": "code",
   "execution_count": 2,
   "source": [
    "df_master = pd.read_csv(\"train.csv\")\r\n",
    "display(df_master.head())\r\n",
    "display(df_master.describe())"
   ],
   "outputs": [
    {
     "output_type": "stream",
     "name": "stderr",
     "text": [
      "C:\\Users\\Juaco\\AppData\\Roaming\\Python\\Python39\\site-packages\\IPython\\core\\interactiveshell.py:3165: DtypeWarning: Columns (7) have mixed types.Specify dtype option on import or set low_memory=False.\n",
      "  has_raised = await self.run_ast_nodes(code_ast.body, cell_name,\n"
     ]
    },
    {
     "output_type": "display_data",
     "data": {
      "text/plain": [
       "   Store  DayOfWeek        Date  Sales  Customers  Open  Promo StateHoliday  \\\n",
       "0      1          5  2015-07-31   5263        555     1      1            0   \n",
       "1      2          5  2015-07-31   6064        625     1      1            0   \n",
       "2      3          5  2015-07-31   8314        821     1      1            0   \n",
       "3      4          5  2015-07-31  13995       1498     1      1            0   \n",
       "4      5          5  2015-07-31   4822        559     1      1            0   \n",
       "\n",
       "   SchoolHoliday  \n",
       "0              1  \n",
       "1              1  \n",
       "2              1  \n",
       "3              1  \n",
       "4              1  "
      ],
      "text/html": [
       "<div>\n",
       "<style scoped>\n",
       "    .dataframe tbody tr th:only-of-type {\n",
       "        vertical-align: middle;\n",
       "    }\n",
       "\n",
       "    .dataframe tbody tr th {\n",
       "        vertical-align: top;\n",
       "    }\n",
       "\n",
       "    .dataframe thead th {\n",
       "        text-align: right;\n",
       "    }\n",
       "</style>\n",
       "<table border=\"1\" class=\"dataframe\">\n",
       "  <thead>\n",
       "    <tr style=\"text-align: right;\">\n",
       "      <th></th>\n",
       "      <th>Store</th>\n",
       "      <th>DayOfWeek</th>\n",
       "      <th>Date</th>\n",
       "      <th>Sales</th>\n",
       "      <th>Customers</th>\n",
       "      <th>Open</th>\n",
       "      <th>Promo</th>\n",
       "      <th>StateHoliday</th>\n",
       "      <th>SchoolHoliday</th>\n",
       "    </tr>\n",
       "  </thead>\n",
       "  <tbody>\n",
       "    <tr>\n",
       "      <th>0</th>\n",
       "      <td>1</td>\n",
       "      <td>5</td>\n",
       "      <td>2015-07-31</td>\n",
       "      <td>5263</td>\n",
       "      <td>555</td>\n",
       "      <td>1</td>\n",
       "      <td>1</td>\n",
       "      <td>0</td>\n",
       "      <td>1</td>\n",
       "    </tr>\n",
       "    <tr>\n",
       "      <th>1</th>\n",
       "      <td>2</td>\n",
       "      <td>5</td>\n",
       "      <td>2015-07-31</td>\n",
       "      <td>6064</td>\n",
       "      <td>625</td>\n",
       "      <td>1</td>\n",
       "      <td>1</td>\n",
       "      <td>0</td>\n",
       "      <td>1</td>\n",
       "    </tr>\n",
       "    <tr>\n",
       "      <th>2</th>\n",
       "      <td>3</td>\n",
       "      <td>5</td>\n",
       "      <td>2015-07-31</td>\n",
       "      <td>8314</td>\n",
       "      <td>821</td>\n",
       "      <td>1</td>\n",
       "      <td>1</td>\n",
       "      <td>0</td>\n",
       "      <td>1</td>\n",
       "    </tr>\n",
       "    <tr>\n",
       "      <th>3</th>\n",
       "      <td>4</td>\n",
       "      <td>5</td>\n",
       "      <td>2015-07-31</td>\n",
       "      <td>13995</td>\n",
       "      <td>1498</td>\n",
       "      <td>1</td>\n",
       "      <td>1</td>\n",
       "      <td>0</td>\n",
       "      <td>1</td>\n",
       "    </tr>\n",
       "    <tr>\n",
       "      <th>4</th>\n",
       "      <td>5</td>\n",
       "      <td>5</td>\n",
       "      <td>2015-07-31</td>\n",
       "      <td>4822</td>\n",
       "      <td>559</td>\n",
       "      <td>1</td>\n",
       "      <td>1</td>\n",
       "      <td>0</td>\n",
       "      <td>1</td>\n",
       "    </tr>\n",
       "  </tbody>\n",
       "</table>\n",
       "</div>"
      ]
     },
     "metadata": {}
    },
    {
     "output_type": "display_data",
     "data": {
      "text/plain": [
       "              Store     DayOfWeek         Sales     Customers          Open  \\\n",
       "count  1.017209e+06  1.017209e+06  1.017209e+06  1.017209e+06  1.017209e+06   \n",
       "mean   5.584297e+02  3.998341e+00  5.773819e+03  6.331459e+02  8.301067e-01   \n",
       "std    3.219087e+02  1.997391e+00  3.849926e+03  4.644117e+02  3.755392e-01   \n",
       "min    1.000000e+00  1.000000e+00  0.000000e+00  0.000000e+00  0.000000e+00   \n",
       "25%    2.800000e+02  2.000000e+00  3.727000e+03  4.050000e+02  1.000000e+00   \n",
       "50%    5.580000e+02  4.000000e+00  5.744000e+03  6.090000e+02  1.000000e+00   \n",
       "75%    8.380000e+02  6.000000e+00  7.856000e+03  8.370000e+02  1.000000e+00   \n",
       "max    1.115000e+03  7.000000e+00  4.155100e+04  7.388000e+03  1.000000e+00   \n",
       "\n",
       "              Promo  SchoolHoliday  \n",
       "count  1.017209e+06   1.017209e+06  \n",
       "mean   3.815145e-01   1.786467e-01  \n",
       "std    4.857586e-01   3.830564e-01  \n",
       "min    0.000000e+00   0.000000e+00  \n",
       "25%    0.000000e+00   0.000000e+00  \n",
       "50%    0.000000e+00   0.000000e+00  \n",
       "75%    1.000000e+00   0.000000e+00  \n",
       "max    1.000000e+00   1.000000e+00  "
      ],
      "text/html": [
       "<div>\n",
       "<style scoped>\n",
       "    .dataframe tbody tr th:only-of-type {\n",
       "        vertical-align: middle;\n",
       "    }\n",
       "\n",
       "    .dataframe tbody tr th {\n",
       "        vertical-align: top;\n",
       "    }\n",
       "\n",
       "    .dataframe thead th {\n",
       "        text-align: right;\n",
       "    }\n",
       "</style>\n",
       "<table border=\"1\" class=\"dataframe\">\n",
       "  <thead>\n",
       "    <tr style=\"text-align: right;\">\n",
       "      <th></th>\n",
       "      <th>Store</th>\n",
       "      <th>DayOfWeek</th>\n",
       "      <th>Sales</th>\n",
       "      <th>Customers</th>\n",
       "      <th>Open</th>\n",
       "      <th>Promo</th>\n",
       "      <th>SchoolHoliday</th>\n",
       "    </tr>\n",
       "  </thead>\n",
       "  <tbody>\n",
       "    <tr>\n",
       "      <th>count</th>\n",
       "      <td>1.017209e+06</td>\n",
       "      <td>1.017209e+06</td>\n",
       "      <td>1.017209e+06</td>\n",
       "      <td>1.017209e+06</td>\n",
       "      <td>1.017209e+06</td>\n",
       "      <td>1.017209e+06</td>\n",
       "      <td>1.017209e+06</td>\n",
       "    </tr>\n",
       "    <tr>\n",
       "      <th>mean</th>\n",
       "      <td>5.584297e+02</td>\n",
       "      <td>3.998341e+00</td>\n",
       "      <td>5.773819e+03</td>\n",
       "      <td>6.331459e+02</td>\n",
       "      <td>8.301067e-01</td>\n",
       "      <td>3.815145e-01</td>\n",
       "      <td>1.786467e-01</td>\n",
       "    </tr>\n",
       "    <tr>\n",
       "      <th>std</th>\n",
       "      <td>3.219087e+02</td>\n",
       "      <td>1.997391e+00</td>\n",
       "      <td>3.849926e+03</td>\n",
       "      <td>4.644117e+02</td>\n",
       "      <td>3.755392e-01</td>\n",
       "      <td>4.857586e-01</td>\n",
       "      <td>3.830564e-01</td>\n",
       "    </tr>\n",
       "    <tr>\n",
       "      <th>min</th>\n",
       "      <td>1.000000e+00</td>\n",
       "      <td>1.000000e+00</td>\n",
       "      <td>0.000000e+00</td>\n",
       "      <td>0.000000e+00</td>\n",
       "      <td>0.000000e+00</td>\n",
       "      <td>0.000000e+00</td>\n",
       "      <td>0.000000e+00</td>\n",
       "    </tr>\n",
       "    <tr>\n",
       "      <th>25%</th>\n",
       "      <td>2.800000e+02</td>\n",
       "      <td>2.000000e+00</td>\n",
       "      <td>3.727000e+03</td>\n",
       "      <td>4.050000e+02</td>\n",
       "      <td>1.000000e+00</td>\n",
       "      <td>0.000000e+00</td>\n",
       "      <td>0.000000e+00</td>\n",
       "    </tr>\n",
       "    <tr>\n",
       "      <th>50%</th>\n",
       "      <td>5.580000e+02</td>\n",
       "      <td>4.000000e+00</td>\n",
       "      <td>5.744000e+03</td>\n",
       "      <td>6.090000e+02</td>\n",
       "      <td>1.000000e+00</td>\n",
       "      <td>0.000000e+00</td>\n",
       "      <td>0.000000e+00</td>\n",
       "    </tr>\n",
       "    <tr>\n",
       "      <th>75%</th>\n",
       "      <td>8.380000e+02</td>\n",
       "      <td>6.000000e+00</td>\n",
       "      <td>7.856000e+03</td>\n",
       "      <td>8.370000e+02</td>\n",
       "      <td>1.000000e+00</td>\n",
       "      <td>1.000000e+00</td>\n",
       "      <td>0.000000e+00</td>\n",
       "    </tr>\n",
       "    <tr>\n",
       "      <th>max</th>\n",
       "      <td>1.115000e+03</td>\n",
       "      <td>7.000000e+00</td>\n",
       "      <td>4.155100e+04</td>\n",
       "      <td>7.388000e+03</td>\n",
       "      <td>1.000000e+00</td>\n",
       "      <td>1.000000e+00</td>\n",
       "      <td>1.000000e+00</td>\n",
       "    </tr>\n",
       "  </tbody>\n",
       "</table>\n",
       "</div>"
      ]
     },
     "metadata": {}
    }
   ],
   "metadata": {
    "colab": {
     "base_uri": "https://localhost:8080/",
     "height": 489
    },
    "id": "challenging-trade",
    "outputId": "a3edcf93-dbbb-4dd7-a095-1d24d489bc98"
   }
  },
  {
   "cell_type": "markdown",
   "source": [
    "A partir de lo anterior se puede notar que:\r\n",
    "1. Las variables Date y StateHoliday no aparecen en el *describe()*, esto se debe a que no son variables numéricas.\r\n",
    "4. El 83% de las ventas se realizan con la tienda abierta, y el 38.1% con promociones.\r\n",
    "5. El 17.9% de las ventas se realizan en feriados escolares.\r\n",
    "\r\n",
    "Los estadísticos asociados a las variables Store y DayOfWeek no tienen mayor interpretación, dado que son categóricas.\r\n",
    "\r\n",
    "La lógica indica que StateHoliday debiera ser una variable binaria o categórica. Analicemos los tipos de datos de cada columna."
   ],
   "metadata": {
    "id": "billion-wrestling"
   }
  },
  {
   "cell_type": "code",
   "execution_count": 3,
   "source": [
    "df_master.dtypes"
   ],
   "outputs": [
    {
     "output_type": "execute_result",
     "data": {
      "text/plain": [
       "Store             int64\n",
       "DayOfWeek         int64\n",
       "Date             object\n",
       "Sales             int64\n",
       "Customers         int64\n",
       "Open              int64\n",
       "Promo             int64\n",
       "StateHoliday     object\n",
       "SchoolHoliday     int64\n",
       "dtype: object"
      ]
     },
     "metadata": {},
     "execution_count": 3
    }
   ],
   "metadata": {
    "colab": {
     "base_uri": "https://localhost:8080/"
    },
    "id": "underlying-bradford",
    "outputId": "642381fd-3f88-43d4-f250-fac7573069da"
   }
  },
  {
   "cell_type": "markdown",
   "source": [
    "Efectivamente StateHoliday no es una variable binaria como dice la lógica. A continuación se muestran los valores que toman las distintas columnas y la cantidad de apariciones"
   ],
   "metadata": {
    "id": "painted-hollywood"
   }
  },
  {
   "cell_type": "code",
   "execution_count": 4,
   "source": [
    "for columna in df_master.columns:\r\n",
    "    print(\"\\n\\nColumn name: \",columna,\"\\nValue\\t# Registers\")\r\n",
    "    display(df_master[columna].value_counts())"
   ],
   "outputs": [
    {
     "output_type": "stream",
     "name": "stdout",
     "text": [
      "\n",
      "\n",
      "Column name:  Store \n",
      "Value\t# Registers\n"
     ]
    },
    {
     "output_type": "display_data",
     "data": {
      "text/plain": [
       "233     942\n",
       "836     942\n",
       "308     942\n",
       "309     942\n",
       "821     942\n",
       "       ... \n",
       "778     758\n",
       "677     758\n",
       "952     758\n",
       "1065    758\n",
       "512     758\n",
       "Name: Store, Length: 1115, dtype: int64"
      ]
     },
     "metadata": {}
    },
    {
     "output_type": "stream",
     "name": "stdout",
     "text": [
      "\n",
      "\n",
      "Column name:  DayOfWeek \n",
      "Value\t# Registers\n"
     ]
    },
    {
     "output_type": "display_data",
     "data": {
      "text/plain": [
       "4    145845\n",
       "5    145845\n",
       "3    145665\n",
       "2    145664\n",
       "1    144730\n",
       "6    144730\n",
       "7    144730\n",
       "Name: DayOfWeek, dtype: int64"
      ]
     },
     "metadata": {}
    },
    {
     "output_type": "stream",
     "name": "stdout",
     "text": [
      "\n",
      "\n",
      "Column name:  Date \n",
      "Value\t# Registers\n"
     ]
    },
    {
     "output_type": "display_data",
     "data": {
      "text/plain": [
       "2015-04-03    1115\n",
       "2014-02-28    1115\n",
       "2013-04-01    1115\n",
       "2013-02-17    1115\n",
       "2014-02-08    1115\n",
       "              ... \n",
       "2014-11-30     935\n",
       "2014-10-24     935\n",
       "2014-12-25     935\n",
       "2014-12-24     935\n",
       "2014-12-27     935\n",
       "Name: Date, Length: 942, dtype: int64"
      ]
     },
     "metadata": {}
    },
    {
     "output_type": "stream",
     "name": "stdout",
     "text": [
      "\n",
      "\n",
      "Column name:  Sales \n",
      "Value\t# Registers\n"
     ]
    },
    {
     "output_type": "display_data",
     "data": {
      "text/plain": [
       "0        172871\n",
       "5674        215\n",
       "5558        197\n",
       "5483        196\n",
       "6049        195\n",
       "          ...  \n",
       "17847         1\n",
       "24317         1\n",
       "25114         1\n",
       "19154         1\n",
       "21958         1\n",
       "Name: Sales, Length: 21734, dtype: int64"
      ]
     },
     "metadata": {}
    },
    {
     "output_type": "stream",
     "name": "stdout",
     "text": [
      "\n",
      "\n",
      "Column name:  Customers \n",
      "Value\t# Registers\n"
     ]
    },
    {
     "output_type": "display_data",
     "data": {
      "text/plain": [
       "0       172869\n",
       "560       2414\n",
       "576       2363\n",
       "603       2337\n",
       "571       2330\n",
       "         ...  \n",
       "4440         1\n",
       "44           1\n",
       "4142         1\n",
       "4238         1\n",
       "4472         1\n",
       "Name: Customers, Length: 4086, dtype: int64"
      ]
     },
     "metadata": {}
    },
    {
     "output_type": "stream",
     "name": "stdout",
     "text": [
      "\n",
      "\n",
      "Column name:  Open \n",
      "Value\t# Registers\n"
     ]
    },
    {
     "output_type": "display_data",
     "data": {
      "text/plain": [
       "1    844392\n",
       "0    172817\n",
       "Name: Open, dtype: int64"
      ]
     },
     "metadata": {}
    },
    {
     "output_type": "stream",
     "name": "stdout",
     "text": [
      "\n",
      "\n",
      "Column name:  Promo \n",
      "Value\t# Registers\n"
     ]
    },
    {
     "output_type": "display_data",
     "data": {
      "text/plain": [
       "0    629129\n",
       "1    388080\n",
       "Name: Promo, dtype: int64"
      ]
     },
     "metadata": {}
    },
    {
     "output_type": "stream",
     "name": "stdout",
     "text": [
      "\n",
      "\n",
      "Column name:  StateHoliday \n",
      "Value\t# Registers\n"
     ]
    },
    {
     "output_type": "display_data",
     "data": {
      "text/plain": [
       "0    855087\n",
       "0    131072\n",
       "a     20260\n",
       "b      6690\n",
       "c      4100\n",
       "Name: StateHoliday, dtype: int64"
      ]
     },
     "metadata": {}
    },
    {
     "output_type": "stream",
     "name": "stdout",
     "text": [
      "\n",
      "\n",
      "Column name:  SchoolHoliday \n",
      "Value\t# Registers\n"
     ]
    },
    {
     "output_type": "display_data",
     "data": {
      "text/plain": [
       "0    835488\n",
       "1    181721\n",
       "Name: SchoolHoliday, dtype: int64"
      ]
     },
     "metadata": {}
    }
   ],
   "metadata": {
    "colab": {
     "base_uri": "https://localhost:8080/",
     "height": 1000
    },
    "id": "comparable-rescue",
    "outputId": "6c03ba4f-6036-473e-b309-5f5cda90df63"
   }
  },
  {
   "cell_type": "markdown",
   "source": [
    "A partir de lo anterior, se puede concluir que:\r\n",
    "1. La mayoría de las ventas ocurren cuando la tienda está abierta.\r\n",
    "2. Un gran porcentaje de ventas se hacen durante promociones\r\n",
    "3. La variable StateHoliday tiene un comportamiento binario, pero está representada como un objeto.\r\n",
    "4. La variable StateHoliday posee dos interpretaciones del valor 0, una de tipo *int* y la otra de tipo *string*.\r\n",
    "\r\n",
    "En base a esto se plantea el siguiente resumen:"
   ],
   "metadata": {
    "id": "suffering-horse"
   }
  },
  {
   "cell_type": "markdown",
   "source": [
    "| Variable      |\tTipo          | Descripción |\r\n",
    "| :-:           | :-:           | :-:         | \r\n",
    "| Store         |    Categórica |  Identificador de la tienda       |\r\n",
    "| DayOfWeek     |    Categórica |  Identificador del día de semana       |\r\n",
    "| Date          |    Fecha      |  Fecha de la venta       |\r\n",
    "| Sales         |    Entera     |  Ventas       |\r\n",
    "| Customers     |    Entera     |  Clientes       |\r\n",
    "| Open          |    Binaria    |  1 si la tienda estaba abierta, 0 si no       |\r\n",
    "| Promo         |    Binaria    |  1 si habia promoción, 0 si no       |\r\n",
    "| StateHoliday  |    Categórica    |  a, b o c si era feriado estatal, 0 si no       |\r\n",
    "| SchoolHoliday |    Binaria    |  1 si era feriado escolar, 0 si no       |"
   ],
   "metadata": {
    "id": "lonely-rings"
   }
  },
  {
   "cell_type": "code",
   "execution_count": 5,
   "source": [
    "df_master[\"StateHoliday\"] = df_master[\"StateHoliday\"].replace([0], \"0\")\r\n",
    "print(\"\\n\\nColumn name: \",\"StateHoliday\",\"\\nValue\\t# Registers\")\r\n",
    "display(df_master[\"StateHoliday\"].value_counts())"
   ],
   "outputs": [
    {
     "output_type": "stream",
     "name": "stdout",
     "text": [
      "\n",
      "\n",
      "Column name:  StateHoliday \n",
      "Value\t# Registers\n"
     ]
    },
    {
     "output_type": "display_data",
     "data": {
      "text/plain": [
       "0    986159\n",
       "a     20260\n",
       "b      6690\n",
       "c      4100\n",
       "Name: StateHoliday, dtype: int64"
      ]
     },
     "metadata": {}
    }
   ],
   "metadata": {}
  },
  {
   "cell_type": "markdown",
   "source": [
    "# Datos faltantes"
   ],
   "metadata": {
    "id": "progressive-integration"
   }
  },
  {
   "cell_type": "code",
   "execution_count": 6,
   "source": [
    "print(\"Datos faltantes por columna:\")\r\n",
    "display(df_master.shape[0] - df_master[~df_master[\"Store\"].isna()].count())"
   ],
   "outputs": [
    {
     "output_type": "stream",
     "name": "stdout",
     "text": [
      "Datos faltantes por columna:\n"
     ]
    },
    {
     "output_type": "display_data",
     "data": {
      "text/plain": [
       "Store            0\n",
       "DayOfWeek        0\n",
       "Date             0\n",
       "Sales            0\n",
       "Customers        0\n",
       "Open             0\n",
       "Promo            0\n",
       "StateHoliday     0\n",
       "SchoolHoliday    0\n",
       "dtype: int64"
      ]
     },
     "metadata": {}
    }
   ],
   "metadata": {
    "colab": {
     "base_uri": "https://localhost:8080/",
     "height": 208
    },
    "id": "middle-modification",
    "outputId": "ba9aa5e7-0f00-4877-a0e5-350587fddeca"
   }
  },
  {
   "cell_type": "markdown",
   "source": [
    "No tenemos datos faltantes. Las tiendas y sus registros estan ordenados por par `(Date DESC, Store ASC)`."
   ],
   "metadata": {
    "id": "coastal-alfred"
   }
  },
  {
   "cell_type": "markdown",
   "source": [
    "# Depuración"
   ],
   "metadata": {
    "id": "former-indicator"
   }
  },
  {
   "cell_type": "markdown",
   "source": [
    "## Formato de columnas"
   ],
   "metadata": {}
  },
  {
   "cell_type": "code",
   "execution_count": 7,
   "source": [
    "transform = {\"0\": 0, \"a\": 1, \"b\": 2, \"c\": 3}\r\n",
    "df_master[\"StateHoliday\"] = df_master[\"StateHoliday\"].map(lambda x: transform[x], na_action=\"ignore\")\r\n",
    "df_master[\"SchoolHoliday\"] = df_master[\"SchoolHoliday\"].replace([\"0\"], 0)\r\n",
    "df_master[\"SchoolHoliday\"] = df_master[\"SchoolHoliday\"].replace([\"1\"], 1)"
   ],
   "outputs": [],
   "metadata": {}
  },
  {
   "cell_type": "markdown",
   "source": [
    "## Análisis de outliers"
   ],
   "metadata": {
    "id": "compound-implementation"
   }
  },
  {
   "cell_type": "markdown",
   "source": [
    "No tiene sentido analizar *outliers* en las siguientes columnas:\r\n",
    "1. Store (debido a que es un ID)\r\n",
    "2. DayOfWeek (días de la semana se mueven de 1 a 7)\r\n",
    "3. Open, Promo, SchoolHoliday (son binarias)\r\n",
    "4. StateHoliday (es categórica)\r\n",
    "\r\n",
    "Por lo tanto, solo quedan 2 variables (Sales y Customers)."
   ],
   "metadata": {
    "id": "GDOMSVnA9wS3"
   }
  },
  {
   "cell_type": "code",
   "execution_count": 8,
   "source": [
    "df_master[\"Customers\"].hist(bins=100,figsize=(10,6))\r\n",
    "plt.title(\"Histograma clientes\",fontsize = 24)\r\n",
    "plt.xlabel(\"Clientes\",fontsize = 18)\r\n",
    "plt.ylabel(\"Cantidad de registros\",fontsize = 18)\r\n",
    "print(\"Cantidad de registros sin ventas: \", df_master.value_counts(\"Customers\", 0)[0])"
   ],
   "outputs": [
    {
     "output_type": "stream",
     "name": "stdout",
     "text": [
      "Cantidad de registros sin ventas:  172869\n"
     ]
    },
    {
     "output_type": "display_data",
     "data": {
      "text/plain": [
       "<Figure size 720x432 with 1 Axes>"
      ],
      "image/png": "[encoded data removed]"
     },
     "metadata": {
      "needs_background": "light"
     }
    }
   ],
   "metadata": {
    "colab": {
     "base_uri": "https://localhost:8080/",
     "height": 392
    },
    "id": "Lj0UA5SY-Ug-",
    "outputId": "85f4c273-06a9-4f84-b1ac-cbb9175a8c31"
   }
  },
  {
   "cell_type": "code",
   "execution_count": 9,
   "source": [
    "df_master.boxplot(column=\"Customers\",figsize=(10,6))"
   ],
   "outputs": [
    {
     "output_type": "execute_result",
     "data": {
      "text/plain": [
       "<AxesSubplot:>"
      ]
     },
     "metadata": {},
     "execution_count": 9
    },
    {
     "output_type": "display_data",
     "data": {
      "text/plain": [
       "<Figure size 720x432 with 1 Axes>"
      ],
      "image/png": "[encoded data removed]"
     },
     "metadata": {
      "needs_background": "light"
     }
    }
   ],
   "metadata": {
    "colab": {
     "base_uri": "https://localhost:8080/",
     "height": 392
    },
    "id": "H7Z23KNy-RLx",
    "outputId": "50ca83f6-72bc-4449-e3db-3d9151d9847c"
   }
  },
  {
   "cell_type": "markdown",
   "source": [
    "Veamos su relación respecto a las ventas"
   ],
   "metadata": {
    "id": "yd1T_StSBwuK"
   }
  },
  {
   "cell_type": "code",
   "execution_count": 10,
   "source": [
    "pd.DataFrame(df_master[\"Sales\"] / df_master[\"Customers\"]).hist(bins=100)\r\n",
    "plt.title(\"Histograma ventas por cliente\",fontsize = 18)\r\n",
    "plt.xlabel(\"Ventas por cliente\",fontsize = 14)\r\n",
    "plt.ylabel(\"Frecuencia\",fontsize = 14)"
   ],
   "outputs": [
    {
     "output_type": "execute_result",
     "data": {
      "text/plain": [
       "Text(0, 0.5, 'Frecuencia')"
      ]
     },
     "metadata": {},
     "execution_count": 10
    },
    {
     "output_type": "display_data",
     "data": {
      "text/plain": [
       "<Figure size 432x288 with 1 Axes>"
      ],
      "image/png": "[encoded data removed]"
     },
     "metadata": {
      "needs_background": "light"
     }
    }
   ],
   "metadata": {
    "colab": {
     "base_uri": "https://localhost:8080/",
     "height": 320
    },
    "id": "s9o6PiJ9-eKN",
    "outputId": "734ff02f-6ea0-4913-ae2d-779516f9208f"
   }
  },
  {
   "cell_type": "code",
   "execution_count": 11,
   "source": [
    "# ventas por cliente\r\n",
    "pd.DataFrame(df_master[\"Sales\"] / df_master[\"Customers\"]).boxplot()\r\n",
    "plt.title(\"Boxplot ventas por cliente\",fontsize = 18)\r\n",
    "plt.ylabel(\"Ventas por cliente\",fontsize = 14)"
   ],
   "outputs": [
    {
     "output_type": "execute_result",
     "data": {
      "text/plain": [
       "Text(0, 0.5, 'Ventas por cliente')"
      ]
     },
     "metadata": {},
     "execution_count": 11
    },
    {
     "output_type": "display_data",
     "data": {
      "text/plain": [
       "<Figure size 432x288 with 1 Axes>"
      ],
      "image/png": "[encoded data removed]"
     },
     "metadata": {
      "needs_background": "light"
     }
    }
   ],
   "metadata": {
    "colab": {
     "base_uri": "https://localhost:8080/",
     "height": 302
    },
    "id": "strategic-canberra",
    "outputId": "7dcb62ec-51ca-4923-f742-c6f25045ae95"
   }
  },
  {
   "cell_type": "markdown",
   "source": [
    "Para corregir este comportamiento, apliquemos logaritmo sobre esta columna"
   ],
   "metadata": {
    "id": "Hwe-YkQ1CX4Y"
   }
  },
  {
   "cell_type": "code",
   "execution_count": 12,
   "source": [
    "df_master[\"Customers_log\"] = df_master.apply(lambda row: 0 if row[\"Customers\"] == 0 else np.log(row[\"Customers\"]),axis=1)\r\n",
    "df_master[\"Sales_log\"] = df_master.apply(lambda row: 0 if row[\"Sales\"] == 0 else np.log(row[\"Sales\"]),axis=1)\r\n",
    "# Se excluyen los ceros porque se indefine el logaritmo"
   ],
   "outputs": [],
   "metadata": {
    "colab": {
     "base_uri": "https://localhost:8080/"
    },
    "id": "yRS4sM99Cc4X",
    "outputId": "ecad784b-f154-4f7b-fc39-de2a7511588e"
   }
  },
  {
   "cell_type": "code",
   "execution_count": 13,
   "source": [
    "df_master.head()"
   ],
   "outputs": [
    {
     "output_type": "execute_result",
     "data": {
      "text/plain": [
       "   Store  DayOfWeek        Date  Sales  Customers  Open  Promo  StateHoliday  \\\n",
       "0      1          5  2015-07-31   5263        555     1      1             0   \n",
       "1      2          5  2015-07-31   6064        625     1      1             0   \n",
       "2      3          5  2015-07-31   8314        821     1      1             0   \n",
       "3      4          5  2015-07-31  13995       1498     1      1             0   \n",
       "4      5          5  2015-07-31   4822        559     1      1             0   \n",
       "\n",
       "   SchoolHoliday  Customers_log  Sales_log  \n",
       "0              1       6.318968   8.568456  \n",
       "1              1       6.437752   8.710125  \n",
       "2              1       6.710523   9.025696  \n",
       "3              1       7.311886   9.546455  \n",
       "4              1       6.326149   8.480944  "
      ],
      "text/html": [
       "<div>\n",
       "<style scoped>\n",
       "    .dataframe tbody tr th:only-of-type {\n",
       "        vertical-align: middle;\n",
       "    }\n",
       "\n",
       "    .dataframe tbody tr th {\n",
       "        vertical-align: top;\n",
       "    }\n",
       "\n",
       "    .dataframe thead th {\n",
       "        text-align: right;\n",
       "    }\n",
       "</style>\n",
       "<table border=\"1\" class=\"dataframe\">\n",
       "  <thead>\n",
       "    <tr style=\"text-align: right;\">\n",
       "      <th></th>\n",
       "      <th>Store</th>\n",
       "      <th>DayOfWeek</th>\n",
       "      <th>Date</th>\n",
       "      <th>Sales</th>\n",
       "      <th>Customers</th>\n",
       "      <th>Open</th>\n",
       "      <th>Promo</th>\n",
       "      <th>StateHoliday</th>\n",
       "      <th>SchoolHoliday</th>\n",
       "      <th>Customers_log</th>\n",
       "      <th>Sales_log</th>\n",
       "    </tr>\n",
       "  </thead>\n",
       "  <tbody>\n",
       "    <tr>\n",
       "      <th>0</th>\n",
       "      <td>1</td>\n",
       "      <td>5</td>\n",
       "      <td>2015-07-31</td>\n",
       "      <td>5263</td>\n",
       "      <td>555</td>\n",
       "      <td>1</td>\n",
       "      <td>1</td>\n",
       "      <td>0</td>\n",
       "      <td>1</td>\n",
       "      <td>6.318968</td>\n",
       "      <td>8.568456</td>\n",
       "    </tr>\n",
       "    <tr>\n",
       "      <th>1</th>\n",
       "      <td>2</td>\n",
       "      <td>5</td>\n",
       "      <td>2015-07-31</td>\n",
       "      <td>6064</td>\n",
       "      <td>625</td>\n",
       "      <td>1</td>\n",
       "      <td>1</td>\n",
       "      <td>0</td>\n",
       "      <td>1</td>\n",
       "      <td>6.437752</td>\n",
       "      <td>8.710125</td>\n",
       "    </tr>\n",
       "    <tr>\n",
       "      <th>2</th>\n",
       "      <td>3</td>\n",
       "      <td>5</td>\n",
       "      <td>2015-07-31</td>\n",
       "      <td>8314</td>\n",
       "      <td>821</td>\n",
       "      <td>1</td>\n",
       "      <td>1</td>\n",
       "      <td>0</td>\n",
       "      <td>1</td>\n",
       "      <td>6.710523</td>\n",
       "      <td>9.025696</td>\n",
       "    </tr>\n",
       "    <tr>\n",
       "      <th>3</th>\n",
       "      <td>4</td>\n",
       "      <td>5</td>\n",
       "      <td>2015-07-31</td>\n",
       "      <td>13995</td>\n",
       "      <td>1498</td>\n",
       "      <td>1</td>\n",
       "      <td>1</td>\n",
       "      <td>0</td>\n",
       "      <td>1</td>\n",
       "      <td>7.311886</td>\n",
       "      <td>9.546455</td>\n",
       "    </tr>\n",
       "    <tr>\n",
       "      <th>4</th>\n",
       "      <td>5</td>\n",
       "      <td>5</td>\n",
       "      <td>2015-07-31</td>\n",
       "      <td>4822</td>\n",
       "      <td>559</td>\n",
       "      <td>1</td>\n",
       "      <td>1</td>\n",
       "      <td>0</td>\n",
       "      <td>1</td>\n",
       "      <td>6.326149</td>\n",
       "      <td>8.480944</td>\n",
       "    </tr>\n",
       "  </tbody>\n",
       "</table>\n",
       "</div>"
      ]
     },
     "metadata": {},
     "execution_count": 13
    }
   ],
   "metadata": {
    "colab": {
     "base_uri": "https://localhost:8080/",
     "height": 206
    },
    "id": "dsKLinamKGeH",
    "outputId": "90b14034-27e2-4e91-9a9b-d3c66dfcf435"
   }
  },
  {
   "cell_type": "markdown",
   "source": [
    "# Misión 1: entrenamiento de modelos\r\n",
    "\r\n",
    "Mis tres regresores son:\r\n",
    "- Lineal\r\n",
    "- SVM\r\n",
    "- Red neuronal"
   ],
   "metadata": {
    "id": "handy-marijuana"
   }
  },
  {
   "cell_type": "markdown",
   "source": [
    "## Preparando el entorno"
   ],
   "metadata": {
    "id": "independent-frank"
   }
  },
  {
   "cell_type": "code",
   "execution_count": 14,
   "source": [
    "from sklearn.model_selection import train_test_split\r\n",
    "from sklearn.preprocessing import LabelEncoder, StandardScaler\r\n",
    "from sklearn.linear_model import LinearRegression\r\n",
    "from sklearn.neural_network import MLPRegressor\r\n",
    "from sklearn.tree import DecisionTreeRegressor\r\n",
    "from sklearn.model_selection import GridSearchCV\r\n",
    "\r\n",
    "from sklearn import metrics"
   ],
   "outputs": [],
   "metadata": {
    "id": "basic-hindu"
   }
  },
  {
   "cell_type": "markdown",
   "source": [
    "Categorizar los valores de las columnas categóricas."
   ],
   "metadata": {
    "id": "associate-authorization"
   }
  },
  {
   "cell_type": "code",
   "execution_count": 15,
   "source": [
    "label_encoder = LabelEncoder()\r\n",
    "for col in [\"Store\", \"DayOfWeek\", \"Date\", \"Open\", \"Promo\", \"StateHoliday\", \"SchoolHoliday\"]:\r\n",
    "    df_master[col] = label_encoder.fit_transform(df_master[col])"
   ],
   "outputs": [],
   "metadata": {
    "colab": {
     "base_uri": "https://localhost:8080/"
    },
    "id": "requested-purpose",
    "outputId": "4b1d6863-b4ef-48d5-f126-de9dea848221"
   }
  },
  {
   "cell_type": "code",
   "execution_count": 16,
   "source": [
    "df_master.head()"
   ],
   "outputs": [
    {
     "output_type": "execute_result",
     "data": {
      "text/plain": [
       "   Store  DayOfWeek  Date  Sales  Customers  Open  Promo  StateHoliday  \\\n",
       "0      0          4   941   5263        555     1      1             0   \n",
       "1      1          4   941   6064        625     1      1             0   \n",
       "2      2          4   941   8314        821     1      1             0   \n",
       "3      3          4   941  13995       1498     1      1             0   \n",
       "4      4          4   941   4822        559     1      1             0   \n",
       "\n",
       "   SchoolHoliday  Customers_log  Sales_log  \n",
       "0              1       6.318968   8.568456  \n",
       "1              1       6.437752   8.710125  \n",
       "2              1       6.710523   9.025696  \n",
       "3              1       7.311886   9.546455  \n",
       "4              1       6.326149   8.480944  "
      ],
      "text/html": [
       "<div>\n",
       "<style scoped>\n",
       "    .dataframe tbody tr th:only-of-type {\n",
       "        vertical-align: middle;\n",
       "    }\n",
       "\n",
       "    .dataframe tbody tr th {\n",
       "        vertical-align: top;\n",
       "    }\n",
       "\n",
       "    .dataframe thead th {\n",
       "        text-align: right;\n",
       "    }\n",
       "</style>\n",
       "<table border=\"1\" class=\"dataframe\">\n",
       "  <thead>\n",
       "    <tr style=\"text-align: right;\">\n",
       "      <th></th>\n",
       "      <th>Store</th>\n",
       "      <th>DayOfWeek</th>\n",
       "      <th>Date</th>\n",
       "      <th>Sales</th>\n",
       "      <th>Customers</th>\n",
       "      <th>Open</th>\n",
       "      <th>Promo</th>\n",
       "      <th>StateHoliday</th>\n",
       "      <th>SchoolHoliday</th>\n",
       "      <th>Customers_log</th>\n",
       "      <th>Sales_log</th>\n",
       "    </tr>\n",
       "  </thead>\n",
       "  <tbody>\n",
       "    <tr>\n",
       "      <th>0</th>\n",
       "      <td>0</td>\n",
       "      <td>4</td>\n",
       "      <td>941</td>\n",
       "      <td>5263</td>\n",
       "      <td>555</td>\n",
       "      <td>1</td>\n",
       "      <td>1</td>\n",
       "      <td>0</td>\n",
       "      <td>1</td>\n",
       "      <td>6.318968</td>\n",
       "      <td>8.568456</td>\n",
       "    </tr>\n",
       "    <tr>\n",
       "      <th>1</th>\n",
       "      <td>1</td>\n",
       "      <td>4</td>\n",
       "      <td>941</td>\n",
       "      <td>6064</td>\n",
       "      <td>625</td>\n",
       "      <td>1</td>\n",
       "      <td>1</td>\n",
       "      <td>0</td>\n",
       "      <td>1</td>\n",
       "      <td>6.437752</td>\n",
       "      <td>8.710125</td>\n",
       "    </tr>\n",
       "    <tr>\n",
       "      <th>2</th>\n",
       "      <td>2</td>\n",
       "      <td>4</td>\n",
       "      <td>941</td>\n",
       "      <td>8314</td>\n",
       "      <td>821</td>\n",
       "      <td>1</td>\n",
       "      <td>1</td>\n",
       "      <td>0</td>\n",
       "      <td>1</td>\n",
       "      <td>6.710523</td>\n",
       "      <td>9.025696</td>\n",
       "    </tr>\n",
       "    <tr>\n",
       "      <th>3</th>\n",
       "      <td>3</td>\n",
       "      <td>4</td>\n",
       "      <td>941</td>\n",
       "      <td>13995</td>\n",
       "      <td>1498</td>\n",
       "      <td>1</td>\n",
       "      <td>1</td>\n",
       "      <td>0</td>\n",
       "      <td>1</td>\n",
       "      <td>7.311886</td>\n",
       "      <td>9.546455</td>\n",
       "    </tr>\n",
       "    <tr>\n",
       "      <th>4</th>\n",
       "      <td>4</td>\n",
       "      <td>4</td>\n",
       "      <td>941</td>\n",
       "      <td>4822</td>\n",
       "      <td>559</td>\n",
       "      <td>1</td>\n",
       "      <td>1</td>\n",
       "      <td>0</td>\n",
       "      <td>1</td>\n",
       "      <td>6.326149</td>\n",
       "      <td>8.480944</td>\n",
       "    </tr>\n",
       "  </tbody>\n",
       "</table>\n",
       "</div>"
      ]
     },
     "metadata": {},
     "execution_count": 16
    }
   ],
   "metadata": {
    "colab": {
     "base_uri": "https://localhost:8080/",
     "height": 206
    },
    "id": "unlikely-collaboration",
    "outputId": "dbf84e6b-65c7-4789-d62b-3d5179ecf09a"
   }
  },
  {
   "cell_type": "markdown",
   "source": [
    "Normalizamos los valores de las columnas enteras (sin considerar al *target*, que en este caso es *Sales_log*).\r\n",
    "\r\n",
    "Para normalizar la variable *customers* se requiere separar en train y test. Normalizar en base a todo el *df* no es correcto, porque los datos de test son desconocidos al momento de entrenar."
   ],
   "metadata": {
    "id": "crazy-scotland"
   }
  },
  {
   "cell_type": "code",
   "execution_count": 17,
   "source": [
    "def escalar(train, test, col):\r\n",
    "    scaler = StandardScaler()\r\n",
    "    train[col] = scaler.fit_transform(train[col])  # la escala se ajusta sólo para train\r\n",
    "    test[col] = scaler.transform(test[col])  # y luego se aplica para test, que es desconocido\r\n",
    "    return train, test"
   ],
   "outputs": [],
   "metadata": {
    "id": "enclosed-nightmare"
   }
  },
  {
   "cell_type": "code",
   "execution_count": 18,
   "source": [
    "cut_33p = df_master.shape[0] // 3 # Para separar en entrenamiento y test\r\n",
    "\r\n",
    "df = df_master.copy()  # copiamos el data frame para no seguir cambiando el original\r\n",
    "\r\n",
    "df_test = df.loc[:cut_33p].copy() # tercio más reciente para test (esto es válido solo porque están ordenados)\r\n",
    "df_train = df.loc[(cut_33p+1):].copy()\r\n",
    "\r\n",
    "col = [\"Customers_log\"] # La feature a normalizar\r\n",
    "df_train, df_test = escalar(df_train, df_test, col)"
   ],
   "outputs": [],
   "metadata": {
    "colab": {
     "base_uri": "https://localhost:8080/",
     "height": 413
    },
    "id": "returning-westminster",
    "outputId": "ad36c26c-a386-40a1-de38-32e804e24472"
   }
  },
  {
   "cell_type": "code",
   "execution_count": 19,
   "source": [
    "display(df_test.shape)\r\n",
    "display(df_train.shape)"
   ],
   "outputs": [
    {
     "output_type": "display_data",
     "data": {
      "text/plain": [
       "(339070, 11)"
      ]
     },
     "metadata": {}
    },
    {
     "output_type": "display_data",
     "data": {
      "text/plain": [
       "(678139, 11)"
      ]
     },
     "metadata": {}
    }
   ],
   "metadata": {
    "colab": {
     "base_uri": "https://localhost:8080/",
     "height": 52
    },
    "id": "victorian-creature",
    "outputId": "244c36f2-9b6f-4fce-c4e4-8c4d7795b8a7"
   }
  },
  {
   "cell_type": "markdown",
   "source": [
    "Definimos las features y el target"
   ],
   "metadata": {
    "id": "kRtwPZmoNtA8"
   }
  },
  {
   "cell_type": "code",
   "execution_count": 20,
   "source": [
    "features = [\"Store\", \"DayOfWeek\", \"Date\", \"Customers_log\", \"Open\", \"Promo\", \"StateHoliday\", \"SchoolHoliday\"]\r\n",
    "target = \"Sales_log\""
   ],
   "outputs": [],
   "metadata": {
    "id": "international-prior"
   }
  },
  {
   "cell_type": "code",
   "execution_count": 21,
   "source": [
    "def train_and_test_model(model, train, test, *args, **kwargs):\r\n",
    "    d = {}\r\n",
    "    d[\"reg\"] = model(*args, **kwargs)\r\n",
    "    d[\"reg\"].fit(train[features], train[target])\r\n",
    "    d[\"predictions\"] = d[\"reg\"].predict(test[features])\r\n",
    "    d[\"selfpredict\"] = d[\"reg\"].predict(train[features])\r\n",
    "    d[\"mse\"] = metrics.mean_squared_error(test[target], d[\"predictions\"])\r\n",
    "    print(\"El error cuadrático medio es:\", d[\"mse\"])\r\n",
    "    return d"
   ],
   "outputs": [],
   "metadata": {
    "id": "rational-rolling"
   }
  },
  {
   "cell_type": "markdown",
   "source": [
    "### Regresión lineal"
   ],
   "metadata": {
    "id": "interracial-minnesota"
   }
  },
  {
   "cell_type": "code",
   "execution_count": 22,
   "source": [
    "lineal = train_and_test_model(LinearRegression, df_train, df_test)\r\n",
    "# CV\r\n",
    "parameters_l = {\"fit_intercept\": [True, False], \"normalize\": [True, False]}\r\n",
    "lineal_cv = train_and_test_model(GridSearchCV, df_train, df_test, LinearRegression(), parameters_l)"
   ],
   "outputs": [
    {
     "output_type": "stream",
     "name": "stdout",
     "text": [
      "El error cuadrático medio es: 0.03475944674500796\n",
      "El error cuadrático medio es: 0.03475944674492473\n"
     ]
    }
   ],
   "metadata": {
    "colab": {
     "base_uri": "https://localhost:8080/"
    },
    "id": "unique-chorus",
    "outputId": "ef762ce6-c2a5-4bb1-87dd-bf1513c984f9"
   }
  },
  {
   "cell_type": "markdown",
   "source": [
    "\r\n",
    "### Red neuronal (dura 2000 segundos o más)"
   ],
   "metadata": {
    "id": "concrete-respect"
   }
  },
  {
   "cell_type": "code",
   "execution_count": 23,
   "source": [
    "mpl = train_and_test_model(MLPRegressor, df_train, df_test, max_iter=300)\r\n",
    "# CV\r\n",
    "parameters_mpl = {\"max_iter\": [300, 350, 400]}\r\n",
    "mpl_cv = train_and_test_model(GridSearchCV, df_train, df_test, MLPRegressor(), parameters_mpl)"
   ],
   "outputs": [
    {
     "output_type": "stream",
     "name": "stdout",
     "text": [
      "El error cuadrático medio es: 0.04784304066128044\n",
      "El error cuadrático medio es: 0.039425584441520854\n"
     ]
    }
   ],
   "metadata": {
    "colab": {
     "base_uri": "https://localhost:8080/"
    },
    "id": "fifteen-victor",
    "outputId": "066e4ebb-c507-4d39-8a22-534c90b906f7"
   }
  },
  {
   "cell_type": "markdown",
   "source": [
    "### Árbol de decisión (dura 200 segundos o más)"
   ],
   "metadata": {
    "id": "minus-kidney"
   }
  },
  {
   "cell_type": "code",
   "execution_count": 24,
   "source": [
    "tree = train_and_test_model(DecisionTreeRegressor, df_train, df_test)\r\n",
    "# CV\r\n",
    "parameters_dtr = {\"criterion\": [\"mse\", \"friedman_mse\", \"poisson\"]}\r\n",
    "mpl_cv = train_and_test_model(GridSearchCV, df_train, df_test, DecisionTreeRegressor(), parameters_dtr)"
   ],
   "outputs": [
    {
     "output_type": "stream",
     "name": "stdout",
     "text": [
      "El error cuadrático medio es: 0.021672391427609624\n",
      "El error cuadrático medio es: 0.02181156724145228\n"
     ]
    }
   ],
   "metadata": {
    "colab": {
     "base_uri": "https://localhost:8080/"
    },
    "id": "relative-champion",
    "outputId": "e320dbb8-b543-49c6-8904-3e9b75ea1d36"
   }
  },
  {
   "cell_type": "markdown",
   "source": [
    "# Resumen\r\n",
    "\r\n",
    "Regresor|MSE|CV\r\n",
    "-|-|-\r\n",
    "Lineal|0,035|0,035\r\n",
    "Red neuronal|0,048|0,039\r\n",
    "Árbol de decisión|0,022|0,022\r\n",
    "\r\n",
    "\r\n",
    "## Notas\r\n",
    "* Los valores de los MSE pueden variar al ejecutar nuevamente ya que hay aleatoriedad en la red neuronal y en el árbol de decisión, pero debieran ser similares.\r\n",
    "* No se encontró una variación en la version con *cross-over* de la regresion lineal dado que los parametros de este no permiten una variación en el entrenamiento del modelo.\r\n",
    "* El modelo de redes neuronales probo tardar mucho al probar múltiples variaciones de parametros.\r\n",
    "* Se utilizo 300 iteraciones como caso base para el modelo de redes neuronales ya que con menos iteraciones no alcanzaba a converger a una solución en la mayoria de los casos.\r\n",
    "\r\n",
    "El modelo que mejor ajusta es el árbol de decisión. Además, en este caso el *cross-validation* utilizado genera diferencias marginales, excepto por el modelo de redes neuronales que tuvo una mejora perceptible, por lo que parece que la configuración por *default* de los modelos es óptima para esta base de datos."
   ],
   "metadata": {
    "id": "spiritual-greene"
   }
  },
  {
   "cell_type": "markdown",
   "source": [
    "# Misión 2"
   ],
   "metadata": {}
  },
  {
   "cell_type": "code",
   "execution_count": 25,
   "source": [
    "df_store = pd.read_csv(\"store.csv\")\r\n",
    "display(df_store.head())\r\n",
    "display(df_store.describe())"
   ],
   "outputs": [
    {
     "output_type": "display_data",
     "data": {
      "text/plain": [
       "   Store StoreType Assortment  CompetitionDistance  CompetitionOpenSinceMonth  \\\n",
       "0      1         c          a               1270.0                        9.0   \n",
       "1      2         a          a                570.0                       11.0   \n",
       "2      3         a          a              14130.0                       12.0   \n",
       "3      4         c          c                620.0                        9.0   \n",
       "4      5         a          a              29910.0                        4.0   \n",
       "\n",
       "   CompetitionOpenSinceYear  Promo2  Promo2SinceWeek  Promo2SinceYear  \\\n",
       "0                    2008.0       0              NaN              NaN   \n",
       "1                    2007.0       1             13.0           2010.0   \n",
       "2                    2006.0       1             14.0           2011.0   \n",
       "3                    2009.0       0              NaN              NaN   \n",
       "4                    2015.0       0              NaN              NaN   \n",
       "\n",
       "     PromoInterval  \n",
       "0              NaN  \n",
       "1  Jan,Apr,Jul,Oct  \n",
       "2  Jan,Apr,Jul,Oct  \n",
       "3              NaN  \n",
       "4              NaN  "
      ],
      "text/html": [
       "<div>\n",
       "<style scoped>\n",
       "    .dataframe tbody tr th:only-of-type {\n",
       "        vertical-align: middle;\n",
       "    }\n",
       "\n",
       "    .dataframe tbody tr th {\n",
       "        vertical-align: top;\n",
       "    }\n",
       "\n",
       "    .dataframe thead th {\n",
       "        text-align: right;\n",
       "    }\n",
       "</style>\n",
       "<table border=\"1\" class=\"dataframe\">\n",
       "  <thead>\n",
       "    <tr style=\"text-align: right;\">\n",
       "      <th></th>\n",
       "      <th>Store</th>\n",
       "      <th>StoreType</th>\n",
       "      <th>Assortment</th>\n",
       "      <th>CompetitionDistance</th>\n",
       "      <th>CompetitionOpenSinceMonth</th>\n",
       "      <th>CompetitionOpenSinceYear</th>\n",
       "      <th>Promo2</th>\n",
       "      <th>Promo2SinceWeek</th>\n",
       "      <th>Promo2SinceYear</th>\n",
       "      <th>PromoInterval</th>\n",
       "    </tr>\n",
       "  </thead>\n",
       "  <tbody>\n",
       "    <tr>\n",
       "      <th>0</th>\n",
       "      <td>1</td>\n",
       "      <td>c</td>\n",
       "      <td>a</td>\n",
       "      <td>1270.0</td>\n",
       "      <td>9.0</td>\n",
       "      <td>2008.0</td>\n",
       "      <td>0</td>\n",
       "      <td>NaN</td>\n",
       "      <td>NaN</td>\n",
       "      <td>NaN</td>\n",
       "    </tr>\n",
       "    <tr>\n",
       "      <th>1</th>\n",
       "      <td>2</td>\n",
       "      <td>a</td>\n",
       "      <td>a</td>\n",
       "      <td>570.0</td>\n",
       "      <td>11.0</td>\n",
       "      <td>2007.0</td>\n",
       "      <td>1</td>\n",
       "      <td>13.0</td>\n",
       "      <td>2010.0</td>\n",
       "      <td>Jan,Apr,Jul,Oct</td>\n",
       "    </tr>\n",
       "    <tr>\n",
       "      <th>2</th>\n",
       "      <td>3</td>\n",
       "      <td>a</td>\n",
       "      <td>a</td>\n",
       "      <td>14130.0</td>\n",
       "      <td>12.0</td>\n",
       "      <td>2006.0</td>\n",
       "      <td>1</td>\n",
       "      <td>14.0</td>\n",
       "      <td>2011.0</td>\n",
       "      <td>Jan,Apr,Jul,Oct</td>\n",
       "    </tr>\n",
       "    <tr>\n",
       "      <th>3</th>\n",
       "      <td>4</td>\n",
       "      <td>c</td>\n",
       "      <td>c</td>\n",
       "      <td>620.0</td>\n",
       "      <td>9.0</td>\n",
       "      <td>2009.0</td>\n",
       "      <td>0</td>\n",
       "      <td>NaN</td>\n",
       "      <td>NaN</td>\n",
       "      <td>NaN</td>\n",
       "    </tr>\n",
       "    <tr>\n",
       "      <th>4</th>\n",
       "      <td>5</td>\n",
       "      <td>a</td>\n",
       "      <td>a</td>\n",
       "      <td>29910.0</td>\n",
       "      <td>4.0</td>\n",
       "      <td>2015.0</td>\n",
       "      <td>0</td>\n",
       "      <td>NaN</td>\n",
       "      <td>NaN</td>\n",
       "      <td>NaN</td>\n",
       "    </tr>\n",
       "  </tbody>\n",
       "</table>\n",
       "</div>"
      ]
     },
     "metadata": {}
    },
    {
     "output_type": "display_data",
     "data": {
      "text/plain": [
       "            Store  CompetitionDistance  CompetitionOpenSinceMonth  \\\n",
       "count  1115.00000          1112.000000                 761.000000   \n",
       "mean    558.00000          5404.901079                   7.224704   \n",
       "std     322.01708          7663.174720                   3.212348   \n",
       "min       1.00000            20.000000                   1.000000   \n",
       "25%     279.50000           717.500000                   4.000000   \n",
       "50%     558.00000          2325.000000                   8.000000   \n",
       "75%     836.50000          6882.500000                  10.000000   \n",
       "max    1115.00000         75860.000000                  12.000000   \n",
       "\n",
       "       CompetitionOpenSinceYear       Promo2  Promo2SinceWeek  Promo2SinceYear  \n",
       "count                761.000000  1115.000000       571.000000       571.000000  \n",
       "mean                2008.668857     0.512108        23.595447      2011.763573  \n",
       "std                    6.195983     0.500078        14.141984         1.674935  \n",
       "min                 1900.000000     0.000000         1.000000      2009.000000  \n",
       "25%                 2006.000000     0.000000        13.000000      2011.000000  \n",
       "50%                 2010.000000     1.000000        22.000000      2012.000000  \n",
       "75%                 2013.000000     1.000000        37.000000      2013.000000  \n",
       "max                 2015.000000     1.000000        50.000000      2015.000000  "
      ],
      "text/html": [
       "<div>\n",
       "<style scoped>\n",
       "    .dataframe tbody tr th:only-of-type {\n",
       "        vertical-align: middle;\n",
       "    }\n",
       "\n",
       "    .dataframe tbody tr th {\n",
       "        vertical-align: top;\n",
       "    }\n",
       "\n",
       "    .dataframe thead th {\n",
       "        text-align: right;\n",
       "    }\n",
       "</style>\n",
       "<table border=\"1\" class=\"dataframe\">\n",
       "  <thead>\n",
       "    <tr style=\"text-align: right;\">\n",
       "      <th></th>\n",
       "      <th>Store</th>\n",
       "      <th>CompetitionDistance</th>\n",
       "      <th>CompetitionOpenSinceMonth</th>\n",
       "      <th>CompetitionOpenSinceYear</th>\n",
       "      <th>Promo2</th>\n",
       "      <th>Promo2SinceWeek</th>\n",
       "      <th>Promo2SinceYear</th>\n",
       "    </tr>\n",
       "  </thead>\n",
       "  <tbody>\n",
       "    <tr>\n",
       "      <th>count</th>\n",
       "      <td>1115.00000</td>\n",
       "      <td>1112.000000</td>\n",
       "      <td>761.000000</td>\n",
       "      <td>761.000000</td>\n",
       "      <td>1115.000000</td>\n",
       "      <td>571.000000</td>\n",
       "      <td>571.000000</td>\n",
       "    </tr>\n",
       "    <tr>\n",
       "      <th>mean</th>\n",
       "      <td>558.00000</td>\n",
       "      <td>5404.901079</td>\n",
       "      <td>7.224704</td>\n",
       "      <td>2008.668857</td>\n",
       "      <td>0.512108</td>\n",
       "      <td>23.595447</td>\n",
       "      <td>2011.763573</td>\n",
       "    </tr>\n",
       "    <tr>\n",
       "      <th>std</th>\n",
       "      <td>322.01708</td>\n",
       "      <td>7663.174720</td>\n",
       "      <td>3.212348</td>\n",
       "      <td>6.195983</td>\n",
       "      <td>0.500078</td>\n",
       "      <td>14.141984</td>\n",
       "      <td>1.674935</td>\n",
       "    </tr>\n",
       "    <tr>\n",
       "      <th>min</th>\n",
       "      <td>1.00000</td>\n",
       "      <td>20.000000</td>\n",
       "      <td>1.000000</td>\n",
       "      <td>1900.000000</td>\n",
       "      <td>0.000000</td>\n",
       "      <td>1.000000</td>\n",
       "      <td>2009.000000</td>\n",
       "    </tr>\n",
       "    <tr>\n",
       "      <th>25%</th>\n",
       "      <td>279.50000</td>\n",
       "      <td>717.500000</td>\n",
       "      <td>4.000000</td>\n",
       "      <td>2006.000000</td>\n",
       "      <td>0.000000</td>\n",
       "      <td>13.000000</td>\n",
       "      <td>2011.000000</td>\n",
       "    </tr>\n",
       "    <tr>\n",
       "      <th>50%</th>\n",
       "      <td>558.00000</td>\n",
       "      <td>2325.000000</td>\n",
       "      <td>8.000000</td>\n",
       "      <td>2010.000000</td>\n",
       "      <td>1.000000</td>\n",
       "      <td>22.000000</td>\n",
       "      <td>2012.000000</td>\n",
       "    </tr>\n",
       "    <tr>\n",
       "      <th>75%</th>\n",
       "      <td>836.50000</td>\n",
       "      <td>6882.500000</td>\n",
       "      <td>10.000000</td>\n",
       "      <td>2013.000000</td>\n",
       "      <td>1.000000</td>\n",
       "      <td>37.000000</td>\n",
       "      <td>2013.000000</td>\n",
       "    </tr>\n",
       "    <tr>\n",
       "      <th>max</th>\n",
       "      <td>1115.00000</td>\n",
       "      <td>75860.000000</td>\n",
       "      <td>12.000000</td>\n",
       "      <td>2015.000000</td>\n",
       "      <td>1.000000</td>\n",
       "      <td>50.000000</td>\n",
       "      <td>2015.000000</td>\n",
       "    </tr>\n",
       "  </tbody>\n",
       "</table>\n",
       "</div>"
      ]
     },
     "metadata": {}
    }
   ],
   "metadata": {}
  },
  {
   "cell_type": "code",
   "execution_count": 26,
   "source": [
    "df_store.dtypes"
   ],
   "outputs": [
    {
     "output_type": "execute_result",
     "data": {
      "text/plain": [
       "Store                          int64\n",
       "StoreType                     object\n",
       "Assortment                    object\n",
       "CompetitionDistance          float64\n",
       "CompetitionOpenSinceMonth    float64\n",
       "CompetitionOpenSinceYear     float64\n",
       "Promo2                         int64\n",
       "Promo2SinceWeek              float64\n",
       "Promo2SinceYear              float64\n",
       "PromoInterval                 object\n",
       "dtype: object"
      ]
     },
     "metadata": {},
     "execution_count": 26
    }
   ],
   "metadata": {}
  },
  {
   "cell_type": "code",
   "execution_count": 27,
   "source": [
    "for columna in df_store.columns:\r\n",
    "    print(\"\\n\\nColumn name: \",columna,\"\\nValue\\t# Registers\")\r\n",
    "    display(df_store[columna].value_counts())"
   ],
   "outputs": [
    {
     "output_type": "stream",
     "name": "stdout",
     "text": [
      "\n",
      "\n",
      "Column name:  Store \n",
      "Value\t# Registers\n"
     ]
    },
    {
     "output_type": "display_data",
     "data": {
      "text/plain": [
       "1       1\n",
       "742     1\n",
       "748     1\n",
       "747     1\n",
       "746     1\n",
       "       ..\n",
       "378     1\n",
       "379     1\n",
       "380     1\n",
       "381     1\n",
       "1115    1\n",
       "Name: Store, Length: 1115, dtype: int64"
      ]
     },
     "metadata": {}
    },
    {
     "output_type": "stream",
     "name": "stdout",
     "text": [
      "\n",
      "\n",
      "Column name:  StoreType \n",
      "Value\t# Registers\n"
     ]
    },
    {
     "output_type": "display_data",
     "data": {
      "text/plain": [
       "a    602\n",
       "d    348\n",
       "c    148\n",
       "b     17\n",
       "Name: StoreType, dtype: int64"
      ]
     },
     "metadata": {}
    },
    {
     "output_type": "stream",
     "name": "stdout",
     "text": [
      "\n",
      "\n",
      "Column name:  Assortment \n",
      "Value\t# Registers\n"
     ]
    },
    {
     "output_type": "display_data",
     "data": {
      "text/plain": [
       "a    593\n",
       "c    513\n",
       "b      9\n",
       "Name: Assortment, dtype: int64"
      ]
     },
     "metadata": {}
    },
    {
     "output_type": "stream",
     "name": "stdout",
     "text": [
      "\n",
      "\n",
      "Column name:  CompetitionDistance \n",
      "Value\t# Registers\n"
     ]
    },
    {
     "output_type": "display_data",
     "data": {
      "text/plain": [
       "250.0      12\n",
       "1200.0      9\n",
       "50.0        8\n",
       "190.0       8\n",
       "350.0       8\n",
       "           ..\n",
       "470.0       1\n",
       "3870.0      1\n",
       "5140.0      1\n",
       "11900.0     1\n",
       "36410.0     1\n",
       "Name: CompetitionDistance, Length: 654, dtype: int64"
      ]
     },
     "metadata": {}
    },
    {
     "output_type": "stream",
     "name": "stdout",
     "text": [
      "\n",
      "\n",
      "Column name:  CompetitionOpenSinceMonth \n",
      "Value\t# Registers\n"
     ]
    },
    {
     "output_type": "display_data",
     "data": {
      "text/plain": [
       "9.0     125\n",
       "4.0      94\n",
       "11.0     92\n",
       "3.0      70\n",
       "7.0      67\n",
       "12.0     64\n",
       "10.0     61\n",
       "6.0      50\n",
       "5.0      44\n",
       "2.0      41\n",
       "8.0      39\n",
       "1.0      14\n",
       "Name: CompetitionOpenSinceMonth, dtype: int64"
      ]
     },
     "metadata": {}
    },
    {
     "output_type": "stream",
     "name": "stdout",
     "text": [
      "\n",
      "\n",
      "Column name:  CompetitionOpenSinceYear \n",
      "Value\t# Registers\n"
     ]
    },
    {
     "output_type": "display_data",
     "data": {
      "text/plain": [
       "2013.0    83\n",
       "2012.0    82\n",
       "2014.0    70\n",
       "2005.0    62\n",
       "2010.0    55\n",
       "2011.0    54\n",
       "2009.0    54\n",
       "2008.0    54\n",
       "2007.0    48\n",
       "2006.0    47\n",
       "2015.0    38\n",
       "2002.0    27\n",
       "2004.0    22\n",
       "2003.0    19\n",
       "2001.0    16\n",
       "2000.0    10\n",
       "1999.0     8\n",
       "1990.0     5\n",
       "1994.0     2\n",
       "1995.0     2\n",
       "1900.0     1\n",
       "1961.0     1\n",
       "1998.0     1\n",
       "Name: CompetitionOpenSinceYear, dtype: int64"
      ]
     },
     "metadata": {}
    },
    {
     "output_type": "stream",
     "name": "stdout",
     "text": [
      "\n",
      "\n",
      "Column name:  Promo2 \n",
      "Value\t# Registers\n"
     ]
    },
    {
     "output_type": "display_data",
     "data": {
      "text/plain": [
       "1    571\n",
       "0    544\n",
       "Name: Promo2, dtype: int64"
      ]
     },
     "metadata": {}
    },
    {
     "output_type": "stream",
     "name": "stdout",
     "text": [
      "\n",
      "\n",
      "Column name:  Promo2SinceWeek \n",
      "Value\t# Registers\n"
     ]
    },
    {
     "output_type": "display_data",
     "data": {
      "text/plain": [
       "14.0    81\n",
       "40.0    77\n",
       "31.0    44\n",
       "10.0    42\n",
       "5.0     39\n",
       "37.0    35\n",
       "1.0     35\n",
       "45.0    34\n",
       "13.0    34\n",
       "22.0    33\n",
       "18.0    29\n",
       "35.0    25\n",
       "9.0     14\n",
       "27.0    11\n",
       "36.0    10\n",
       "48.0     9\n",
       "39.0     6\n",
       "23.0     5\n",
       "44.0     3\n",
       "26.0     1\n",
       "50.0     1\n",
       "6.0      1\n",
       "28.0     1\n",
       "49.0     1\n",
       "Name: Promo2SinceWeek, dtype: int64"
      ]
     },
     "metadata": {}
    },
    {
     "output_type": "stream",
     "name": "stdout",
     "text": [
      "\n",
      "\n",
      "Column name:  Promo2SinceYear \n",
      "Value\t# Registers\n"
     ]
    },
    {
     "output_type": "display_data",
     "data": {
      "text/plain": [
       "2011.0    128\n",
       "2013.0    120\n",
       "2014.0     95\n",
       "2012.0     81\n",
       "2009.0     73\n",
       "2010.0     64\n",
       "2015.0     10\n",
       "Name: Promo2SinceYear, dtype: int64"
      ]
     },
     "metadata": {}
    },
    {
     "output_type": "stream",
     "name": "stdout",
     "text": [
      "\n",
      "\n",
      "Column name:  PromoInterval \n",
      "Value\t# Registers\n"
     ]
    },
    {
     "output_type": "display_data",
     "data": {
      "text/plain": [
       "Jan,Apr,Jul,Oct     335\n",
       "Feb,May,Aug,Nov     130\n",
       "Mar,Jun,Sept,Dec    106\n",
       "Name: PromoInterval, dtype: int64"
      ]
     },
     "metadata": {}
    }
   ],
   "metadata": {}
  },
  {
   "cell_type": "code",
   "execution_count": 28,
   "source": [
    "print(\"Datos faltantes por columna:\")\r\n",
    "display(df_store.shape[0] - df_store[~df_store[\"Store\"].isna()].count())"
   ],
   "outputs": [
    {
     "output_type": "stream",
     "name": "stdout",
     "text": [
      "Datos faltantes por columna:\n"
     ]
    },
    {
     "output_type": "display_data",
     "data": {
      "text/plain": [
       "Store                          0\n",
       "StoreType                      0\n",
       "Assortment                     0\n",
       "CompetitionDistance            3\n",
       "CompetitionOpenSinceMonth    354\n",
       "CompetitionOpenSinceYear     354\n",
       "Promo2                         0\n",
       "Promo2SinceWeek              544\n",
       "Promo2SinceYear              544\n",
       "PromoInterval                544\n",
       "dtype: int64"
      ]
     },
     "metadata": {}
    }
   ],
   "metadata": {}
  },
  {
   "cell_type": "code",
   "execution_count": 29,
   "source": [
    "columns_na = [\"CompetitionDistance\", \"CompetitionOpenSinceMonth\", \"CompetitionOpenSinceYear\", \"Promo2SinceWeek\", \"Promo2SinceYear\"]\r\n",
    "for col in columns_na:\r\n",
    "    df_store[col] = df_store[col].fillna(df_store[col].mean())\r\n",
    "df_store[\"PromoInterval\"] = df_store[\"PromoInterval\"].fillna(df_store['PromoInterval'].value_counts().index[0])\r\n",
    "display(df_store.shape[0] - df_store[~df_store[\"Store\"].isna()].count())\r\n"
   ],
   "outputs": [
    {
     "output_type": "display_data",
     "data": {
      "text/plain": [
       "Store                        0\n",
       "StoreType                    0\n",
       "Assortment                   0\n",
       "CompetitionDistance          0\n",
       "CompetitionOpenSinceMonth    0\n",
       "CompetitionOpenSinceYear     0\n",
       "Promo2                       0\n",
       "Promo2SinceWeek              0\n",
       "Promo2SinceYear              0\n",
       "PromoInterval                0\n",
       "dtype: int64"
      ]
     },
     "metadata": {}
    }
   ],
   "metadata": {}
  },
  {
   "cell_type": "code",
   "execution_count": 30,
   "source": [
    "# Assortment, StoreType, PromoInterval\r\n",
    "transform_type = {\"a\": 0, \"b\": 1, \"c\": 2, \"d\": 3}\r\n",
    "transform_assortment = {\"a\": 0, \"b\": 1, \"c\": 2}\r\n",
    "transform_interval = {\"Jan,Apr,Jul,Oct\": 0, \"Feb,May,Aug,Nov\": 1, \"Mar,Jun,Sept,Dec\": 2}\r\n",
    "df_store[\"Assortment\"] = df_store[\"Assortment\"].map(lambda x: transform_assortment[x], na_action=\"ignore\")\r\n",
    "df_store[\"StoreType\"] = df_store[\"StoreType\"].map(lambda x: transform_type[x], na_action=\"ignore\")\r\n",
    "df_store[\"PromoInterval\"] = df_store[\"PromoInterval\"].map(lambda x: transform_interval[x], na_action=\"ignore\")\r\n",
    "df_store.dtypes"
   ],
   "outputs": [
    {
     "output_type": "execute_result",
     "data": {
      "text/plain": [
       "Store                          int64\n",
       "StoreType                      int64\n",
       "Assortment                     int64\n",
       "CompetitionDistance          float64\n",
       "CompetitionOpenSinceMonth    float64\n",
       "CompetitionOpenSinceYear     float64\n",
       "Promo2                         int64\n",
       "Promo2SinceWeek              float64\n",
       "Promo2SinceYear              float64\n",
       "PromoInterval                  int64\n",
       "dtype: object"
      ]
     },
     "metadata": {},
     "execution_count": 30
    }
   ],
   "metadata": {}
  },
  {
   "cell_type": "code",
   "execution_count": 31,
   "source": [
    "# Features categoricas\r\n",
    "for col in [\"Store\", \"StoreType\", \"Assortment\", \"PromoInterval\", \"Promo2\"]:\r\n",
    "    df_store[col] = label_encoder.fit_transform(df_store[col])"
   ],
   "outputs": [],
   "metadata": {}
  },
  {
   "cell_type": "code",
   "execution_count": 32,
   "source": [
    "df = df_master.copy().merge(df_store, on=\"Store\", how=\"left\")\r\n",
    "display(df.head())\r\n",
    "display(df.describe())"
   ],
   "outputs": [
    {
     "output_type": "display_data",
     "data": {
      "text/plain": [
       "   Store  DayOfWeek  Date  Sales  Customers  Open  Promo  StateHoliday  \\\n",
       "0      0          4   941   5263        555     1      1             0   \n",
       "1      1          4   941   6064        625     1      1             0   \n",
       "2      2          4   941   8314        821     1      1             0   \n",
       "3      3          4   941  13995       1498     1      1             0   \n",
       "4      4          4   941   4822        559     1      1             0   \n",
       "\n",
       "   SchoolHoliday  Customers_log  Sales_log  StoreType  Assortment  \\\n",
       "0              1       6.318968   8.568456          2           0   \n",
       "1              1       6.437752   8.710125          0           0   \n",
       "2              1       6.710523   9.025696          0           0   \n",
       "3              1       7.311886   9.546455          2           2   \n",
       "4              1       6.326149   8.480944          0           0   \n",
       "\n",
       "   CompetitionDistance  CompetitionOpenSinceMonth  CompetitionOpenSinceYear  \\\n",
       "0               1270.0                        9.0                    2008.0   \n",
       "1                570.0                       11.0                    2007.0   \n",
       "2              14130.0                       12.0                    2006.0   \n",
       "3                620.0                        9.0                    2009.0   \n",
       "4              29910.0                        4.0                    2015.0   \n",
       "\n",
       "   Promo2  Promo2SinceWeek  Promo2SinceYear  PromoInterval  \n",
       "0       0        23.595447      2011.763573              0  \n",
       "1       1        13.000000      2010.000000              0  \n",
       "2       1        14.000000      2011.000000              0  \n",
       "3       0        23.595447      2011.763573              0  \n",
       "4       0        23.595447      2011.763573              0  "
      ],
      "text/html": [
       "<div>\n",
       "<style scoped>\n",
       "    .dataframe tbody tr th:only-of-type {\n",
       "        vertical-align: middle;\n",
       "    }\n",
       "\n",
       "    .dataframe tbody tr th {\n",
       "        vertical-align: top;\n",
       "    }\n",
       "\n",
       "    .dataframe thead th {\n",
       "        text-align: right;\n",
       "    }\n",
       "</style>\n",
       "<table border=\"1\" class=\"dataframe\">\n",
       "  <thead>\n",
       "    <tr style=\"text-align: right;\">\n",
       "      <th></th>\n",
       "      <th>Store</th>\n",
       "      <th>DayOfWeek</th>\n",
       "      <th>Date</th>\n",
       "      <th>Sales</th>\n",
       "      <th>Customers</th>\n",
       "      <th>Open</th>\n",
       "      <th>Promo</th>\n",
       "      <th>StateHoliday</th>\n",
       "      <th>SchoolHoliday</th>\n",
       "      <th>Customers_log</th>\n",
       "      <th>Sales_log</th>\n",
       "      <th>StoreType</th>\n",
       "      <th>Assortment</th>\n",
       "      <th>CompetitionDistance</th>\n",
       "      <th>CompetitionOpenSinceMonth</th>\n",
       "      <th>CompetitionOpenSinceYear</th>\n",
       "      <th>Promo2</th>\n",
       "      <th>Promo2SinceWeek</th>\n",
       "      <th>Promo2SinceYear</th>\n",
       "      <th>PromoInterval</th>\n",
       "    </tr>\n",
       "  </thead>\n",
       "  <tbody>\n",
       "    <tr>\n",
       "      <th>0</th>\n",
       "      <td>0</td>\n",
       "      <td>4</td>\n",
       "      <td>941</td>\n",
       "      <td>5263</td>\n",
       "      <td>555</td>\n",
       "      <td>1</td>\n",
       "      <td>1</td>\n",
       "      <td>0</td>\n",
       "      <td>1</td>\n",
       "      <td>6.318968</td>\n",
       "      <td>8.568456</td>\n",
       "      <td>2</td>\n",
       "      <td>0</td>\n",
       "      <td>1270.0</td>\n",
       "      <td>9.0</td>\n",
       "      <td>2008.0</td>\n",
       "      <td>0</td>\n",
       "      <td>23.595447</td>\n",
       "      <td>2011.763573</td>\n",
       "      <td>0</td>\n",
       "    </tr>\n",
       "    <tr>\n",
       "      <th>1</th>\n",
       "      <td>1</td>\n",
       "      <td>4</td>\n",
       "      <td>941</td>\n",
       "      <td>6064</td>\n",
       "      <td>625</td>\n",
       "      <td>1</td>\n",
       "      <td>1</td>\n",
       "      <td>0</td>\n",
       "      <td>1</td>\n",
       "      <td>6.437752</td>\n",
       "      <td>8.710125</td>\n",
       "      <td>0</td>\n",
       "      <td>0</td>\n",
       "      <td>570.0</td>\n",
       "      <td>11.0</td>\n",
       "      <td>2007.0</td>\n",
       "      <td>1</td>\n",
       "      <td>13.000000</td>\n",
       "      <td>2010.000000</td>\n",
       "      <td>0</td>\n",
       "    </tr>\n",
       "    <tr>\n",
       "      <th>2</th>\n",
       "      <td>2</td>\n",
       "      <td>4</td>\n",
       "      <td>941</td>\n",
       "      <td>8314</td>\n",
       "      <td>821</td>\n",
       "      <td>1</td>\n",
       "      <td>1</td>\n",
       "      <td>0</td>\n",
       "      <td>1</td>\n",
       "      <td>6.710523</td>\n",
       "      <td>9.025696</td>\n",
       "      <td>0</td>\n",
       "      <td>0</td>\n",
       "      <td>14130.0</td>\n",
       "      <td>12.0</td>\n",
       "      <td>2006.0</td>\n",
       "      <td>1</td>\n",
       "      <td>14.000000</td>\n",
       "      <td>2011.000000</td>\n",
       "      <td>0</td>\n",
       "    </tr>\n",
       "    <tr>\n",
       "      <th>3</th>\n",
       "      <td>3</td>\n",
       "      <td>4</td>\n",
       "      <td>941</td>\n",
       "      <td>13995</td>\n",
       "      <td>1498</td>\n",
       "      <td>1</td>\n",
       "      <td>1</td>\n",
       "      <td>0</td>\n",
       "      <td>1</td>\n",
       "      <td>7.311886</td>\n",
       "      <td>9.546455</td>\n",
       "      <td>2</td>\n",
       "      <td>2</td>\n",
       "      <td>620.0</td>\n",
       "      <td>9.0</td>\n",
       "      <td>2009.0</td>\n",
       "      <td>0</td>\n",
       "      <td>23.595447</td>\n",
       "      <td>2011.763573</td>\n",
       "      <td>0</td>\n",
       "    </tr>\n",
       "    <tr>\n",
       "      <th>4</th>\n",
       "      <td>4</td>\n",
       "      <td>4</td>\n",
       "      <td>941</td>\n",
       "      <td>4822</td>\n",
       "      <td>559</td>\n",
       "      <td>1</td>\n",
       "      <td>1</td>\n",
       "      <td>0</td>\n",
       "      <td>1</td>\n",
       "      <td>6.326149</td>\n",
       "      <td>8.480944</td>\n",
       "      <td>0</td>\n",
       "      <td>0</td>\n",
       "      <td>29910.0</td>\n",
       "      <td>4.0</td>\n",
       "      <td>2015.0</td>\n",
       "      <td>0</td>\n",
       "      <td>23.595447</td>\n",
       "      <td>2011.763573</td>\n",
       "      <td>0</td>\n",
       "    </tr>\n",
       "  </tbody>\n",
       "</table>\n",
       "</div>"
      ]
     },
     "metadata": {}
    },
    {
     "output_type": "display_data",
     "data": {
      "text/plain": [
       "              Store     DayOfWeek          Date         Sales     Customers  \\\n",
       "count  1.017209e+06  1.017209e+06  1.017209e+06  1.017209e+06  1.017209e+06   \n",
       "mean   5.574297e+02  2.998341e+00  4.650630e+02  5.773819e+03  6.331459e+02   \n",
       "std    3.219087e+02  1.997391e+00  2.744541e+02  3.849926e+03  4.644117e+02   \n",
       "min    0.000000e+00  0.000000e+00  0.000000e+00  0.000000e+00  0.000000e+00   \n",
       "25%    2.790000e+02  1.000000e+00  2.280000e+02  3.727000e+03  4.050000e+02   \n",
       "50%    5.570000e+02  3.000000e+00  4.560000e+02  5.744000e+03  6.090000e+02   \n",
       "75%    8.370000e+02  5.000000e+00  7.100000e+02  7.856000e+03  8.370000e+02   \n",
       "max    1.114000e+03  6.000000e+00  9.410000e+02  4.155100e+04  7.388000e+03   \n",
       "\n",
       "               Open         Promo  StateHoliday  SchoolHoliday  Customers_log  \\\n",
       "count  1.017209e+06  1.017209e+06  1.017209e+06   1.017209e+06   1.017209e+06   \n",
       "mean   8.301067e-01  3.815145e-01  4.516279e-02   1.786467e-01   5.423487e+00   \n",
       "std    3.755392e-01  4.857586e-01  2.836559e-01   3.830564e-01   2.486588e+00   \n",
       "min    0.000000e+00  0.000000e+00  0.000000e+00   0.000000e+00   0.000000e+00   \n",
       "25%    1.000000e+00  0.000000e+00  0.000000e+00   0.000000e+00   6.003887e+00   \n",
       "50%    1.000000e+00  0.000000e+00  0.000000e+00   0.000000e+00   6.411818e+00   \n",
       "75%    1.000000e+00  1.000000e+00  0.000000e+00   0.000000e+00   6.729824e+00   \n",
       "max    1.000000e+00  1.000000e+00  3.000000e+00   1.000000e+00   8.907612e+00   \n",
       "\n",
       "          Sales_log     StoreType    Assortment  CompetitionDistance  \\\n",
       "count  1.017209e+06  1.017209e+06  1.017209e+06         1.017209e+06   \n",
       "mean   7.269248e+00  1.207467e+00  9.351412e-01         5.430020e+03   \n",
       "std    3.311960e+00  1.365376e+00  9.938011e-01         7.705298e+03   \n",
       "min    0.000000e+00  0.000000e+00  0.000000e+00         2.000000e+01   \n",
       "25%    8.223359e+00  0.000000e+00  0.000000e+00         7.100000e+02   \n",
       "50%    8.655911e+00  0.000000e+00  0.000000e+00         2.330000e+03   \n",
       "75%    8.969033e+00  3.000000e+00  2.000000e+00         6.880000e+03   \n",
       "max    1.063468e+01  3.000000e+00  2.000000e+00         7.586000e+04   \n",
       "\n",
       "       CompetitionOpenSinceMonth  CompetitionOpenSinceYear        Promo2  \\\n",
       "count               1.017209e+06              1.017209e+06  1.017209e+06   \n",
       "mean                7.223450e+00              2.008683e+03  5.005638e-01   \n",
       "std                 2.652674e+00              4.949376e+00  4.999999e-01   \n",
       "min                 1.000000e+00              1.900000e+03  0.000000e+00   \n",
       "25%                 6.000000e+00              2.008000e+03  0.000000e+00   \n",
       "50%                 7.224704e+00              2.008669e+03  1.000000e+00   \n",
       "75%                 9.000000e+00              2.011000e+03  1.000000e+00   \n",
       "max                 1.200000e+01              2.015000e+03  1.000000e+00   \n",
       "\n",
       "       Promo2SinceWeek  Promo2SinceYear  PromoInterval  \n",
       "count     1.017209e+06     1.017209e+06   1.017209e+06  \n",
       "mean      2.343209e+01     2.011758e+03   3.082120e-01  \n",
       "std       9.974306e+00     1.176502e+00   6.362705e-01  \n",
       "min       1.000000e+00     2.009000e+03   0.000000e+00  \n",
       "25%       2.200000e+01     2.011764e+03   0.000000e+00  \n",
       "50%       2.359545e+01     2.011764e+03   0.000000e+00  \n",
       "75%       2.359545e+01     2.012000e+03   0.000000e+00  \n",
       "max       5.000000e+01     2.015000e+03   2.000000e+00  "
      ],
      "text/html": [
       "<div>\n",
       "<style scoped>\n",
       "    .dataframe tbody tr th:only-of-type {\n",
       "        vertical-align: middle;\n",
       "    }\n",
       "\n",
       "    .dataframe tbody tr th {\n",
       "        vertical-align: top;\n",
       "    }\n",
       "\n",
       "    .dataframe thead th {\n",
       "        text-align: right;\n",
       "    }\n",
       "</style>\n",
       "<table border=\"1\" class=\"dataframe\">\n",
       "  <thead>\n",
       "    <tr style=\"text-align: right;\">\n",
       "      <th></th>\n",
       "      <th>Store</th>\n",
       "      <th>DayOfWeek</th>\n",
       "      <th>Date</th>\n",
       "      <th>Sales</th>\n",
       "      <th>Customers</th>\n",
       "      <th>Open</th>\n",
       "      <th>Promo</th>\n",
       "      <th>StateHoliday</th>\n",
       "      <th>SchoolHoliday</th>\n",
       "      <th>Customers_log</th>\n",
       "      <th>Sales_log</th>\n",
       "      <th>StoreType</th>\n",
       "      <th>Assortment</th>\n",
       "      <th>CompetitionDistance</th>\n",
       "      <th>CompetitionOpenSinceMonth</th>\n",
       "      <th>CompetitionOpenSinceYear</th>\n",
       "      <th>Promo2</th>\n",
       "      <th>Promo2SinceWeek</th>\n",
       "      <th>Promo2SinceYear</th>\n",
       "      <th>PromoInterval</th>\n",
       "    </tr>\n",
       "  </thead>\n",
       "  <tbody>\n",
       "    <tr>\n",
       "      <th>count</th>\n",
       "      <td>1.017209e+06</td>\n",
       "      <td>1.017209e+06</td>\n",
       "      <td>1.017209e+06</td>\n",
       "      <td>1.017209e+06</td>\n",
       "      <td>1.017209e+06</td>\n",
       "      <td>1.017209e+06</td>\n",
       "      <td>1.017209e+06</td>\n",
       "      <td>1.017209e+06</td>\n",
       "      <td>1.017209e+06</td>\n",
       "      <td>1.017209e+06</td>\n",
       "      <td>1.017209e+06</td>\n",
       "      <td>1.017209e+06</td>\n",
       "      <td>1.017209e+06</td>\n",
       "      <td>1.017209e+06</td>\n",
       "      <td>1.017209e+06</td>\n",
       "      <td>1.017209e+06</td>\n",
       "      <td>1.017209e+06</td>\n",
       "      <td>1.017209e+06</td>\n",
       "      <td>1.017209e+06</td>\n",
       "      <td>1.017209e+06</td>\n",
       "    </tr>\n",
       "    <tr>\n",
       "      <th>mean</th>\n",
       "      <td>5.574297e+02</td>\n",
       "      <td>2.998341e+00</td>\n",
       "      <td>4.650630e+02</td>\n",
       "      <td>5.773819e+03</td>\n",
       "      <td>6.331459e+02</td>\n",
       "      <td>8.301067e-01</td>\n",
       "      <td>3.815145e-01</td>\n",
       "      <td>4.516279e-02</td>\n",
       "      <td>1.786467e-01</td>\n",
       "      <td>5.423487e+00</td>\n",
       "      <td>7.269248e+00</td>\n",
       "      <td>1.207467e+00</td>\n",
       "      <td>9.351412e-01</td>\n",
       "      <td>5.430020e+03</td>\n",
       "      <td>7.223450e+00</td>\n",
       "      <td>2.008683e+03</td>\n",
       "      <td>5.005638e-01</td>\n",
       "      <td>2.343209e+01</td>\n",
       "      <td>2.011758e+03</td>\n",
       "      <td>3.082120e-01</td>\n",
       "    </tr>\n",
       "    <tr>\n",
       "      <th>std</th>\n",
       "      <td>3.219087e+02</td>\n",
       "      <td>1.997391e+00</td>\n",
       "      <td>2.744541e+02</td>\n",
       "      <td>3.849926e+03</td>\n",
       "      <td>4.644117e+02</td>\n",
       "      <td>3.755392e-01</td>\n",
       "      <td>4.857586e-01</td>\n",
       "      <td>2.836559e-01</td>\n",
       "      <td>3.830564e-01</td>\n",
       "      <td>2.486588e+00</td>\n",
       "      <td>3.311960e+00</td>\n",
       "      <td>1.365376e+00</td>\n",
       "      <td>9.938011e-01</td>\n",
       "      <td>7.705298e+03</td>\n",
       "      <td>2.652674e+00</td>\n",
       "      <td>4.949376e+00</td>\n",
       "      <td>4.999999e-01</td>\n",
       "      <td>9.974306e+00</td>\n",
       "      <td>1.176502e+00</td>\n",
       "      <td>6.362705e-01</td>\n",
       "    </tr>\n",
       "    <tr>\n",
       "      <th>min</th>\n",
       "      <td>0.000000e+00</td>\n",
       "      <td>0.000000e+00</td>\n",
       "      <td>0.000000e+00</td>\n",
       "      <td>0.000000e+00</td>\n",
       "      <td>0.000000e+00</td>\n",
       "      <td>0.000000e+00</td>\n",
       "      <td>0.000000e+00</td>\n",
       "      <td>0.000000e+00</td>\n",
       "      <td>0.000000e+00</td>\n",
       "      <td>0.000000e+00</td>\n",
       "      <td>0.000000e+00</td>\n",
       "      <td>0.000000e+00</td>\n",
       "      <td>0.000000e+00</td>\n",
       "      <td>2.000000e+01</td>\n",
       "      <td>1.000000e+00</td>\n",
       "      <td>1.900000e+03</td>\n",
       "      <td>0.000000e+00</td>\n",
       "      <td>1.000000e+00</td>\n",
       "      <td>2.009000e+03</td>\n",
       "      <td>0.000000e+00</td>\n",
       "    </tr>\n",
       "    <tr>\n",
       "      <th>25%</th>\n",
       "      <td>2.790000e+02</td>\n",
       "      <td>1.000000e+00</td>\n",
       "      <td>2.280000e+02</td>\n",
       "      <td>3.727000e+03</td>\n",
       "      <td>4.050000e+02</td>\n",
       "      <td>1.000000e+00</td>\n",
       "      <td>0.000000e+00</td>\n",
       "      <td>0.000000e+00</td>\n",
       "      <td>0.000000e+00</td>\n",
       "      <td>6.003887e+00</td>\n",
       "      <td>8.223359e+00</td>\n",
       "      <td>0.000000e+00</td>\n",
       "      <td>0.000000e+00</td>\n",
       "      <td>7.100000e+02</td>\n",
       "      <td>6.000000e+00</td>\n",
       "      <td>2.008000e+03</td>\n",
       "      <td>0.000000e+00</td>\n",
       "      <td>2.200000e+01</td>\n",
       "      <td>2.011764e+03</td>\n",
       "      <td>0.000000e+00</td>\n",
       "    </tr>\n",
       "    <tr>\n",
       "      <th>50%</th>\n",
       "      <td>5.570000e+02</td>\n",
       "      <td>3.000000e+00</td>\n",
       "      <td>4.560000e+02</td>\n",
       "      <td>5.744000e+03</td>\n",
       "      <td>6.090000e+02</td>\n",
       "      <td>1.000000e+00</td>\n",
       "      <td>0.000000e+00</td>\n",
       "      <td>0.000000e+00</td>\n",
       "      <td>0.000000e+00</td>\n",
       "      <td>6.411818e+00</td>\n",
       "      <td>8.655911e+00</td>\n",
       "      <td>0.000000e+00</td>\n",
       "      <td>0.000000e+00</td>\n",
       "      <td>2.330000e+03</td>\n",
       "      <td>7.224704e+00</td>\n",
       "      <td>2.008669e+03</td>\n",
       "      <td>1.000000e+00</td>\n",
       "      <td>2.359545e+01</td>\n",
       "      <td>2.011764e+03</td>\n",
       "      <td>0.000000e+00</td>\n",
       "    </tr>\n",
       "    <tr>\n",
       "      <th>75%</th>\n",
       "      <td>8.370000e+02</td>\n",
       "      <td>5.000000e+00</td>\n",
       "      <td>7.100000e+02</td>\n",
       "      <td>7.856000e+03</td>\n",
       "      <td>8.370000e+02</td>\n",
       "      <td>1.000000e+00</td>\n",
       "      <td>1.000000e+00</td>\n",
       "      <td>0.000000e+00</td>\n",
       "      <td>0.000000e+00</td>\n",
       "      <td>6.729824e+00</td>\n",
       "      <td>8.969033e+00</td>\n",
       "      <td>3.000000e+00</td>\n",
       "      <td>2.000000e+00</td>\n",
       "      <td>6.880000e+03</td>\n",
       "      <td>9.000000e+00</td>\n",
       "      <td>2.011000e+03</td>\n",
       "      <td>1.000000e+00</td>\n",
       "      <td>2.359545e+01</td>\n",
       "      <td>2.012000e+03</td>\n",
       "      <td>0.000000e+00</td>\n",
       "    </tr>\n",
       "    <tr>\n",
       "      <th>max</th>\n",
       "      <td>1.114000e+03</td>\n",
       "      <td>6.000000e+00</td>\n",
       "      <td>9.410000e+02</td>\n",
       "      <td>4.155100e+04</td>\n",
       "      <td>7.388000e+03</td>\n",
       "      <td>1.000000e+00</td>\n",
       "      <td>1.000000e+00</td>\n",
       "      <td>3.000000e+00</td>\n",
       "      <td>1.000000e+00</td>\n",
       "      <td>8.907612e+00</td>\n",
       "      <td>1.063468e+01</td>\n",
       "      <td>3.000000e+00</td>\n",
       "      <td>2.000000e+00</td>\n",
       "      <td>7.586000e+04</td>\n",
       "      <td>1.200000e+01</td>\n",
       "      <td>2.015000e+03</td>\n",
       "      <td>1.000000e+00</td>\n",
       "      <td>5.000000e+01</td>\n",
       "      <td>2.015000e+03</td>\n",
       "      <td>2.000000e+00</td>\n",
       "    </tr>\n",
       "  </tbody>\n",
       "</table>\n",
       "</div>"
      ]
     },
     "metadata": {}
    }
   ],
   "metadata": {}
  },
  {
   "cell_type": "code",
   "execution_count": 33,
   "source": [
    "cut_33p = df.shape[0] // 3 # Para separar en entrenamiento y test\r\n",
    "\r\n",
    "df_2 = df.copy()  # copiamos el data frame para no seguir cambiando el original\r\n",
    "\r\n",
    "df_test = df_2.loc[:cut_33p].copy() # tercio más reciente para test (esto es válido solo porque están ordenados)\r\n",
    "df_train = df_2.loc[(cut_33p+1):].copy()\r\n",
    "\r\n",
    "col = [\"Customers_log\"] # La feature a normalizar\r\n",
    "df_train, df_test = escalar(df_train, df_test, col)\r\n",
    "col = [\"CompetitionDistance\"] # La feature a normalizar\r\n",
    "df_train, df_test = escalar(df_train, df_test, col)"
   ],
   "outputs": [],
   "metadata": {}
  },
  {
   "cell_type": "code",
   "execution_count": 34,
   "source": [
    "features = [\"Store\", \"DayOfWeek\", \"Date\", \"Customers_log\", \"Open\", \"Promo\", \"StateHoliday\", \"SchoolHoliday\", \"StoreType\",\"Assortment\",\"CompetitionDistance\",\"CompetitionOpenSinceMonth\",\"CompetitionOpenSinceYear\",\"Promo2\",\"Promo2SinceWeek\",\"Promo2SinceYear\",\"PromoInterval\"]\r\n",
    "target = \"Sales_log\""
   ],
   "outputs": [],
   "metadata": {}
  },
  {
   "cell_type": "markdown",
   "source": [
    "### Regresión lineal"
   ],
   "metadata": {
    "id": "interracial-minnesota"
   }
  },
  {
   "cell_type": "code",
   "execution_count": 35,
   "source": [
    "lineal = train_and_test_model(LinearRegression, df_train, df_test)\r\n",
    "# CV\r\n",
    "parameters_l = {\"fit_intercept\": [True, False], \"normalize\": [True, False]}\r\n",
    "lineal_cv = train_and_test_model(GridSearchCV, df_train, df_test, LinearRegression(), parameters_l)"
   ],
   "outputs": [
    {
     "output_type": "stream",
     "name": "stdout",
     "text": [
      "El error cuadrático medio es: 0.02795285544012219\n",
      "El error cuadrático medio es: 0.027952855440121396\n"
     ]
    }
   ],
   "metadata": {
    "colab": {
     "base_uri": "https://localhost:8080/"
    },
    "id": "unique-chorus",
    "outputId": "ef762ce6-c2a5-4bb1-87dd-bf1513c984f9"
   }
  },
  {
   "cell_type": "markdown",
   "source": [
    "### Red neuronal (dura 3000 segundos aprox.)"
   ],
   "metadata": {
    "id": "concrete-respect"
   }
  },
  {
   "cell_type": "code",
   "execution_count": 36,
   "source": [
    "mpl = train_and_test_model(MLPRegressor, df_train, df_test, max_iter=300)\r\n",
    "# CV\r\n",
    "parameters_mpl = {\"max_iter\": [300, 350, 400]}\r\n",
    "mpl_cv = train_and_test_model(GridSearchCV, df_train, df_test, MLPRegressor(), parameters_mpl)"
   ],
   "outputs": [
    {
     "output_type": "stream",
     "name": "stdout",
     "text": [
      "El error cuadrático medio es: 0.177829223811953\n",
      "El error cuadrático medio es: 0.02398242193532253\n"
     ]
    }
   ],
   "metadata": {
    "colab": {
     "base_uri": "https://localhost:8080/"
    },
    "id": "fifteen-victor",
    "outputId": "066e4ebb-c507-4d39-8a22-534c90b906f7"
   }
  },
  {
   "cell_type": "markdown",
   "source": [
    "### Árbol de decisión (dura 400 segundos aprox.)"
   ],
   "metadata": {
    "id": "minus-kidney"
   }
  },
  {
   "cell_type": "code",
   "execution_count": 37,
   "source": [
    "tree = train_and_test_model(DecisionTreeRegressor, df_train, df_test)\r\n",
    "# CV\r\n",
    "parameters_mpl = {\"criterion\": [\"mse\", \"friedman_mse\", \"poisson\"]}\r\n",
    "tree_cv = train_and_test_model(GridSearchCV, df_train, df_test, DecisionTreeRegressor(), parameters_mpl)"
   ],
   "outputs": [
    {
     "output_type": "stream",
     "name": "stdout",
     "text": [
      "El error cuadrático medio es: 0.0086910793083396\n",
      "El error cuadrático medio es: 0.008669124270517675\n"
     ]
    }
   ],
   "metadata": {
    "colab": {
     "base_uri": "https://localhost:8080/"
    },
    "id": "relative-champion",
    "outputId": "e320dbb8-b543-49c6-8904-3e9b75ea1d36"
   }
  },
  {
   "cell_type": "markdown",
   "source": [
    "# Resumen\r\n",
    "\r\n",
    "Regresor|MSE|CV\r\n",
    "-|-|-\r\n",
    "Lineal|0,028|0,028\r\n",
    "Red neuronal|0,178|0,024\r\n",
    "Árbol de decisión|0,009|0,009\r\n",
    "\r\n",
    "\r\n",
    "## Notas\r\n",
    "* Los valores de los MSE pueden variar al ejecutar nuevamente ya que hay aleatoriedad en la red neuronal y en el árbol de decisión, pero debieran ser similares.\r\n",
    "* No se encontro una variacion en la version con *cross-over* de la regresión lineal dado que los parametros de este no permiten una variación en el entrenamiento del modelo.\r\n",
    "* El modelo de redes neuronales probo tardar mucho al probar multiples variaciones de parametros.\r\n",
    "* Se utilizo 300 iteraciones como caso base para el modelo de redes neuronales ya que con menos iteraciones no alcanzaba a converger a una solucion en la mayoria de los casos.\r\n",
    "\r\n",
    "El modelo que mejor ajusta es el árbol de decisián. Además, en este caso el *cross-validation* utlizado genera diferencias marginales, por lo que parece que la configuracián por *default* de los modelos es óptima para esta base de datos.\r\n",
    "\r\n",
    "Claramente el modelo de arbol de decicison se vio mas beneficiado por la nueva informacion, el modelo de regresion lineal tambien se vio beneficiado en un menor grado.\r\n",
    "\r\n",
    "El gran incremento de rendimiento en el modelo de árbol de decisión se puede deber a que la información agregada posee varias variables categóricas que son de gran aporte a este tipo de modelos."
   ],
   "metadata": {
    "id": "spiritual-greene"
   }
  },
  {
   "cell_type": "markdown",
   "source": [
    "# Misión 3"
   ],
   "metadata": {}
  },
  {
   "cell_type": "code",
   "execution_count": 38,
   "source": [
    "    from sklearn.decomposition import PCA"
   ],
   "outputs": [],
   "metadata": {}
  },
  {
   "cell_type": "code",
   "execution_count": 39,
   "source": [
    "pca = PCA(n_components=2)\r\n",
    "df_reduced = pd.DataFrame(pca.fit_transform(df.copy().loc[:, df.columns != \"Sales_log\"]), columns=[\"0\", \"1\"])\r\n",
    "df_reduced[\"Sales_log\"] = df[\"Sales_log\"]\r\n",
    "display(df_reduced)"
   ],
   "outputs": [
    {
     "output_type": "display_data",
     "data": {
      "text/plain": [
       "                    0            1  Sales_log\n",
       "0        -4151.763969  -571.800286   8.568456\n",
       "1        -4862.579716   222.450497   8.710125\n",
       "2         8665.383520  2665.381973   9.025696\n",
       "3        -4921.592860  8201.240253   9.546455\n",
       "4        24490.884437  -618.803745   8.480944\n",
       "...               ...          ...        ...\n",
       "1017204  -3450.942544 -5857.208877   0.000000\n",
       "1017205  -3470.941260 -5857.482290   0.000000\n",
       "1017206   3908.268191 -5756.734857   0.000000\n",
       "1017207  -4480.835488 -5871.269393   0.000000\n",
       "1017208     -1.315723 -5810.111113   0.000000\n",
       "\n",
       "[1017209 rows x 3 columns]"
      ],
      "text/html": [
       "<div>\n",
       "<style scoped>\n",
       "    .dataframe tbody tr th:only-of-type {\n",
       "        vertical-align: middle;\n",
       "    }\n",
       "\n",
       "    .dataframe tbody tr th {\n",
       "        vertical-align: top;\n",
       "    }\n",
       "\n",
       "    .dataframe thead th {\n",
       "        text-align: right;\n",
       "    }\n",
       "</style>\n",
       "<table border=\"1\" class=\"dataframe\">\n",
       "  <thead>\n",
       "    <tr style=\"text-align: right;\">\n",
       "      <th></th>\n",
       "      <th>0</th>\n",
       "      <th>1</th>\n",
       "      <th>Sales_log</th>\n",
       "    </tr>\n",
       "  </thead>\n",
       "  <tbody>\n",
       "    <tr>\n",
       "      <th>0</th>\n",
       "      <td>-4151.763969</td>\n",
       "      <td>-571.800286</td>\n",
       "      <td>8.568456</td>\n",
       "    </tr>\n",
       "    <tr>\n",
       "      <th>1</th>\n",
       "      <td>-4862.579716</td>\n",
       "      <td>222.450497</td>\n",
       "      <td>8.710125</td>\n",
       "    </tr>\n",
       "    <tr>\n",
       "      <th>2</th>\n",
       "      <td>8665.383520</td>\n",
       "      <td>2665.381973</td>\n",
       "      <td>9.025696</td>\n",
       "    </tr>\n",
       "    <tr>\n",
       "      <th>3</th>\n",
       "      <td>-4921.592860</td>\n",
       "      <td>8201.240253</td>\n",
       "      <td>9.546455</td>\n",
       "    </tr>\n",
       "    <tr>\n",
       "      <th>4</th>\n",
       "      <td>24490.884437</td>\n",
       "      <td>-618.803745</td>\n",
       "      <td>8.480944</td>\n",
       "    </tr>\n",
       "    <tr>\n",
       "      <th>...</th>\n",
       "      <td>...</td>\n",
       "      <td>...</td>\n",
       "      <td>...</td>\n",
       "    </tr>\n",
       "    <tr>\n",
       "      <th>1017204</th>\n",
       "      <td>-3450.942544</td>\n",
       "      <td>-5857.208877</td>\n",
       "      <td>0.000000</td>\n",
       "    </tr>\n",
       "    <tr>\n",
       "      <th>1017205</th>\n",
       "      <td>-3470.941260</td>\n",
       "      <td>-5857.482290</td>\n",
       "      <td>0.000000</td>\n",
       "    </tr>\n",
       "    <tr>\n",
       "      <th>1017206</th>\n",
       "      <td>3908.268191</td>\n",
       "      <td>-5756.734857</td>\n",
       "      <td>0.000000</td>\n",
       "    </tr>\n",
       "    <tr>\n",
       "      <th>1017207</th>\n",
       "      <td>-4480.835488</td>\n",
       "      <td>-5871.269393</td>\n",
       "      <td>0.000000</td>\n",
       "    </tr>\n",
       "    <tr>\n",
       "      <th>1017208</th>\n",
       "      <td>-1.315723</td>\n",
       "      <td>-5810.111113</td>\n",
       "      <td>0.000000</td>\n",
       "    </tr>\n",
       "  </tbody>\n",
       "</table>\n",
       "<p>1017209 rows × 3 columns</p>\n",
       "</div>"
      ]
     },
     "metadata": {}
    }
   ],
   "metadata": {}
  },
  {
   "cell_type": "code",
   "execution_count": 40,
   "source": [
    "cut_33p = df_reduced.shape[0] // 3 # Para separar en entrenamiento y test\r\n",
    "\r\n",
    "df_reduced_2 = df_reduced.copy()  # copiamos el data frame para no seguir cambiando el original\r\n",
    "\r\n",
    "df_test_pca = df_reduced_2.loc[:cut_33p].copy() # tercio más reciente para test (esto es válido solo porque están ordenados)\r\n",
    "df_train_pca = df_reduced_2.loc[(cut_33p+1):].copy()\r\n",
    "features = [\"0\", \"1\"]\r\n",
    "target = \"Sales_log\""
   ],
   "outputs": [],
   "metadata": {}
  },
  {
   "cell_type": "markdown",
   "source": [
    "### Regresión lineal"
   ],
   "metadata": {
    "id": "interracial-minnesota"
   }
  },
  {
   "cell_type": "code",
   "execution_count": 42,
   "source": [
    "lineal_pca = train_and_test_model(LinearRegression, df_train_pca, df_test_pca)"
   ],
   "outputs": [
    {
     "output_type": "stream",
     "name": "stdout",
     "text": [
      "El error cuadrático medio es: 4.694201384915021\n"
     ]
    }
   ],
   "metadata": {}
  },
  {
   "cell_type": "markdown",
   "source": [
    "\r\n",
    "### Red neuronal (dura 300 segundos aprox.)"
   ],
   "metadata": {
    "id": "concrete-respect"
   }
  },
  {
   "cell_type": "code",
   "execution_count": 43,
   "source": [
    "mpl_pca = train_and_test_model(MLPRegressor, df_train_pca, df_test_pca, max_iter=300)"
   ],
   "outputs": [
    {
     "output_type": "stream",
     "name": "stdout",
     "text": [
      "El error cuadrático medio es: 0.040105239537966735\n"
     ]
    }
   ],
   "metadata": {
    "colab": {
     "base_uri": "https://localhost:8080/"
    },
    "id": "fifteen-victor",
    "outputId": "066e4ebb-c507-4d39-8a22-534c90b906f7"
   }
  },
  {
   "cell_type": "markdown",
   "source": [
    "### Árbol de decisión"
   ],
   "metadata": {
    "id": "minus-kidney"
   }
  },
  {
   "cell_type": "code",
   "execution_count": 44,
   "source": [
    "tree_pca = train_and_test_model(DecisionTreeRegressor, df_train_pca, df_test_pca)"
   ],
   "outputs": [
    {
     "output_type": "stream",
     "name": "stdout",
     "text": [
      "El error cuadrático medio es: 0.0027068264944538033\n"
     ]
    }
   ],
   "metadata": {
    "colab": {
     "base_uri": "https://localhost:8080/"
    },
    "id": "relative-champion",
    "outputId": "e320dbb8-b543-49c6-8904-3e9b75ea1d36"
   }
  },
  {
   "cell_type": "markdown",
   "source": [
    "# Resumen\r\n",
    "\r\n",
    "Regresor|MSE|PCA\r\n",
    "-|-|-\r\n",
    "Lineal|0,028|4,694\r\n",
    "Red neuronal|0,178|0,040\r\n",
    "Árbol de decisión|0,009|0,003\r\n",
    "\r\n",
    "\r\n",
    "## Notas\r\n",
    "* Los valores de los MSE pueden variar al ejecutar nuevamente ya que hay aleatoriedad en la red neuronal y en el árbol de decisión, pero debieran ser similares.\r\n",
    "* Se utilizo 300 iteraciones como caso base para el modelo de redes neuronales ya que con menos iteraciones no alcanzaba a converger a una solucion en la mayoria de los casos.\r\n",
    "\r\n",
    "El reducir la dimensionalidad de los datos a 2 *features* tenemos una pérdida de rendimiento de varios grados de magnitud en la regresión lineal y una mejora importante en tanto la red neuronal y como en el árbol de decisión."
   ],
   "metadata": {
    "id": "spiritual-greene"
   }
  },
  {
   "cell_type": "code",
   "execution_count": 58,
   "source": [
    "def plot_var_and_predictions(model_returned, test, title, predictions=\"predictions\", variable=\"Sales_log\"):\r\n",
    "    plt.plot(np.exp(test[variable]), np.exp(model_returned[predictions]), \".\")\r\n",
    "    plt.ylabel(\"Predictions\")\r\n",
    "    plt.xlabel(variable)\r\n",
    "    plt.title(title)\r\n",
    "    plt.show()"
   ],
   "outputs": [],
   "metadata": {}
  },
  {
   "cell_type": "code",
   "execution_count": 59,
   "source": [
    "plot_var_and_predictions(lineal, df_train, \"Lineal (train)\", predictions=\"selfpredict\")\r\n",
    "plot_var_and_predictions(lineal_pca, df_train_pca, \"Lineal PCA (train)\", predictions=\"selfpredict\")\r\n",
    "plot_var_and_predictions(lineal, df_test, \"Lineal (test)\")\r\n",
    "plot_var_and_predictions(lineal_pca, df_test_pca, \"Lineal PCA (test)\")\r\n",
    "\r\n",
    "plot_var_and_predictions(mpl, df_train, \"Red neuronal (train)\", predictions=\"selfpredict\")\r\n",
    "plot_var_and_predictions(mpl_pca, df_train_pca, \"Red neuronal PCA (train)\", predictions=\"selfpredict\")\r\n",
    "plot_var_and_predictions(mpl, df_test, \"Red neuronal (test)\")\r\n",
    "plot_var_and_predictions(mpl_pca, df_test_pca, \"Red neuronal PCA (test)\")\r\n",
    "\r\n",
    "plot_var_and_predictions(tree, df_train, \"Árbol (train)\", predictions=\"selfpredict\")\r\n",
    "plot_var_and_predictions(tree_pca, df_train_pca, \"Árbol PCA (train)\", predictions=\"selfpredict\")\r\n",
    "plot_var_and_predictions(tree, df_test, \"Árbol (test)\")\r\n",
    "plot_var_and_predictions(tree_pca, df_test_pca, \"Árbol PCA (test)\")"
   ],
   "outputs": [
    {
     "output_type": "display_data",
     "data": {
      "text/plain": [
       "<Figure size 432x288 with 1 Axes>"
      ],
      "image/png": "[encoded data removed]"
     },
     "metadata": {
      "needs_background": "light"
     }
    },
    {
     "output_type": "display_data",
     "data": {
      "text/plain": [
       "<Figure size 432x288 with 1 Axes>"
      ],
      "image/png": "[encoded data removed]"
     },
     "metadata": {
      "needs_background": "light"
     }
    },
    {
     "output_type": "display_data",
     "data": {
      "text/plain": [
       "<Figure size 432x288 with 1 Axes>"
      ],
      "image/png": "[encoded data removed]"
     },
     "metadata": {
      "needs_background": "light"
     }
    },
    {
     "output_type": "display_data",
     "data": {
      "text/plain": [
       "<Figure size 432x288 with 1 Axes>"
      ],
      "image/png": "[encoded data removed]"
     },
     "metadata": {
      "needs_background": "light"
     }
    },
    {
     "output_type": "display_data",
     "data": {
      "text/plain": [
       "<Figure size 432x288 with 1 Axes>"
      ],
      "image/png": "[encoded data removed]"
     },
     "metadata": {
      "needs_background": "light"
     }
    },
    {
     "output_type": "display_data",
     "data": {
      "text/plain": [
       "<Figure size 432x288 with 1 Axes>"
      ],
      "image/png": "[encoded data removed]"
     },
     "metadata": {
      "needs_background": "light"
     }
    },
    {
     "output_type": "display_data",
     "data": {
      "text/plain": [
       "<Figure size 432x288 with 1 Axes>"
      ],
      "image/png": "[encoded data removed]"
     },
     "metadata": {
      "needs_background": "light"
     }
    },
    {
     "output_type": "display_data",
     "data": {
      "text/plain": [
       "<Figure size 432x288 with 1 Axes>"
      ],
      "image/png": "[encoded data removed]"
     },
     "metadata": {
      "needs_background": "light"
     }
    },
    {
     "output_type": "display_data",
     "data": {
      "text/plain": [
       "<Figure size 432x288 with 1 Axes>"
      ],
      "image/png": "[encoded data removed]"
     },
     "metadata": {
      "needs_background": "light"
     }
    },
    {
     "output_type": "display_data",
     "data": {
      "text/plain": [
       "<Figure size 432x288 with 1 Axes>"
      ],
      "image/png": "[encoded data removed]"
     },
     "metadata": {
      "needs_background": "light"
     }
    },
    {
     "output_type": "display_data",
     "data": {
      "text/plain": [
       "<Figure size 432x288 with 1 Axes>"
      ],
      "image/png": "[encoded data removed]"
     },
     "metadata": {
      "needs_background": "light"
     }
    },
    {
     "output_type": "display_data",
     "data": {
      "text/plain": [
       "<Figure size 432x288 with 1 Axes>"
      ],
      "image/png": "[encoded data removed]"
     },
     "metadata": {
      "needs_background": "light"
     }
    }
   ],
   "metadata": {}
  },
  {
   "cell_type": "markdown",
   "source": [
    "Gráficamente podemos confirmar los resultados obtenidos. Las predicciones del modelo de regresión lineal están bastante alejadas del modelo sin reducción de dimensionalidad, luego vemos como la red neuronal se acerca bastante más al set de validación y finalmente tenemos el modelo de árbol de decisión que logra una precisión muy alta."
   ],
   "metadata": {}
  }
 ],
 "metadata": {
  "colab": {
   "collapsed_sections": [],
   "name": "A4_v2.ipynb",
   "provenance": []
  },
  "interpreter": {
   "hash": "ac59ebe37160ed0dfa835113d9b8498d9f09ceb179beaac4002f036b9467c963"
  },
  "kernelspec": {
   "display_name": "Python 3.9.5 64-bit",
   "name": "python3"
  },
  "language_info": {
   "codemirror_mode": {
    "name": "ipython",
    "version": 3
   },
   "file_extension": ".py",
   "mimetype": "text/x-python",
   "name": "python",
   "nbconvert_exporter": "python",
   "pygments_lexer": "ipython3",
   "version": "3.9.5"
  }
 },
 "nbformat": 4,
 "nbformat_minor": 5
}