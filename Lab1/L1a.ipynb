{
 "cells": [
  {
   "cell_type": "markdown",
   "id": "certain-invasion",
   "metadata": {},
   "source": [
    "# L1a\n",
    "\n",
    "### Ejercicio 1"
   ]
  },
  {
   "cell_type": "code",
   "execution_count": 1,
   "metadata": {},
   "outputs": [],
   "source": [
    "def asignar_colores(lineas, combinaciones):\n",
    "    n_lineas = len(lineas)\n",
    "    vecinos = [[] for i in range(n_lineas)]\n",
    "    colores = [-1 for i in range(n_lineas)]\n",
    "    # asignar estaciones a su linea de forma optima, asi saber en orden de 1 a que linea corresponde cada estación\n",
    "    estaciones = {}\n",
    "    i = 0\n",
    "    while i < n_lineas:\n",
    "        j = 0\n",
    "        while j < len(lineas[i]):\n",
    "            estaciones[str(lineas[i][j])] = i\n",
    "            j += 1\n",
    "        i += 1\n",
    "    for comb in combinaciones:\n",
    "        # Ver q lineas son las q corresponden al par\n",
    "        linea_a = estaciones[str(comb[0])]\n",
    "        linea_b = estaciones[str(comb[1])]\n",
    "        # Ver si la linea tiene color asignado\n",
    "        if colores[linea_a] != -1:\n",
    "            # Linea a tiene color, linea b no tiene color\n",
    "            if colores[linea_b] == -1:\n",
    "                for i in range(n_lineas):\n",
    "                    # Asignar color distinto a la otra linea\n",
    "                    if i != colores[linea_a]:\n",
    "                        # Asignar color distinto a otros vecinos\n",
    "                        if i not in [colores[vecino] for vecino in vecinos[linea_b]]:\n",
    "                            colores[linea_b] = i\n",
    "                            break\n",
    "        else:\n",
    "            # Linea a no tiene color, linea b tiene color\n",
    "            if colores[linea_b] != -1:\n",
    "                for i in range(n_lineas):\n",
    "                    # Asignar color distinto a la otra linea\n",
    "                    if i != colores[linea_b]:\n",
    "                        # Asignar color distinto a otros vecinos\n",
    "                        if i not in [colores[vecino] for vecino in vecinos[linea_a]]:\n",
    "                            colores[linea_a] = i\n",
    "                            break\n",
    "            # Linea a no tiene color, linea b no tiene color\n",
    "            else:\n",
    "                for i in range(n_lineas):\n",
    "                    # Asignar color distinto a otros vecinos\n",
    "                    if i not in [colores[vecino] for vecino in vecinos[linea_a]]:\n",
    "                        colores[linea_a] = i\n",
    "                        break\n",
    "                for i in range(n_lineas):\n",
    "                    # Asignar color distinto a la otra linea\n",
    "                    if i != colores[linea_a]:\n",
    "                        # Asignar color distinto a otros vecinos\n",
    "                        if i not in [colores[vecino] for vecino in vecinos[linea_b]]:\n",
    "                            colores[linea_b] = i\n",
    "                            break\n",
    "        # Agregar a vecinos\n",
    "        if linea_b not in vecinos[linea_a]:\n",
    "            vecinos[linea_a].append(linea_b)\n",
    "        if linea_a not in vecinos[linea_b]:\n",
    "            vecinos[linea_b].append(linea_a)\n",
    "\n",
    "    return colores"
   ]
  },
  {
   "cell_type": "code",
   "execution_count": null,
   "metadata": {},
   "outputs": [],
   "source": [
    "lineas = [[0, 1, 2], [3, 4, 5, 6], [7, 8, 9, 10, 11, 12]]\n",
    "combinaciones = {(0, 10), (1, 6)}\n",
    "\n",
    "colores = asignar_colores(lineas, combinaciones)\n",
    "print(colores)"
   ]
  },
  {
   "source": [
    "### Ejercicio 2"
   ],
   "cell_type": "markdown",
   "metadata": {}
  },
  {
   "cell_type": "code",
   "execution_count": 2,
   "metadata": {},
   "outputs": [],
   "source": [
    "def encontrar_ocurrencias(sopa, texto):\n",
    "    posiciones = []\n",
    "    m = len(sopa)\n",
    "    for i in range(m):\n",
    "        for j in range(m):\n",
    "            if sopa[i][j] == texto[0]:\n",
    "                # DFS\n",
    "                ocs = enc_oc_dfs(sopa, texto, posiciones, [i, j], 0, [], [])\n",
    "                if ocs != []:\n",
    "                    for oc in ocs:\n",
    "                        posiciones.append(oc)\n",
    "\n",
    "    return posiciones\n",
    "\n",
    "\n",
    "def enc_oc_dfs(sopa, texto, posiciones, posición, letra_a_buscar, ocurrencia, ocurrencias):\n",
    "    oc_agregar = ocurrencia.copy()\n",
    "    # Agregar a posiciones\n",
    "    if texto[letra_a_buscar] in sopa[posición[0]][posición[1]]:\n",
    "        oc_agregar.append((posición[0], posición[1]))\n",
    "    # Si la letra agregada es la ultima, retornar\n",
    "    if letra_a_buscar+1 == len(texto):\n",
    "        if oc_agregar not in ocurrencias:\n",
    "            ocurrencias.append(oc_agregar)\n",
    "        return\n",
    "    # Revisar proxima letra en las distintas direcciones\n",
    "    letra_sig = texto[letra_a_buscar+1]\n",
    "    # Revisar arriba\n",
    "    if posición[1]-1 >= 0 and sopa[posición[0]][posición[1]-1] == letra_sig and (posición[0], posición[1]-1) not in oc_agregar:\n",
    "        enc_oc_dfs(sopa, texto, posiciones, [\n",
    "            posición[0], posición[1]-1], letra_a_buscar+1, oc_agregar, ocurrencias)\n",
    "    # Revisar abajo\n",
    "    if posición[1]+1 <= len(sopa)-1 and sopa[posición[0]][posición[1]+1] == letra_sig and (posición[0], posición[1]+1) not in oc_agregar:\n",
    "        enc_oc_dfs(sopa, texto, posiciones, [\n",
    "            posición[0], posición[1]+1], letra_a_buscar+1, oc_agregar, ocurrencias)\n",
    "    # Revisar izquierda\n",
    "    if posición[0]-1 >= 0 and sopa[posición[0]-1][posición[1]] == letra_sig and (posición[0]-1, posición[1]) not in oc_agregar:\n",
    "        enc_oc_dfs(sopa, texto, posiciones, [\n",
    "            posición[0]-1, posición[1]], letra_a_buscar+1, oc_agregar, ocurrencias)\n",
    "    # Revisar derecha\n",
    "    if posición[0]+1 <= len(sopa)-1 and sopa[posición[0]+1][posición[1]] == letra_sig and (posición[0]+1, posición[1]) not in oc_agregar:\n",
    "        enc_oc_dfs(sopa, texto, posiciones, [\n",
    "            posición[0]+1, posición[1]], letra_a_buscar+1, oc_agregar, ocurrencias)\n",
    "    # Revisar arriba-izquierda\n",
    "    if posición[1]-1 >= 0 and posición[0]-1 >= 0 and sopa[posición[0]-1][posición[1]-1] == letra_sig and (posición[0]-1, posición[1]-1) not in oc_agregar:\n",
    "        enc_oc_dfs(sopa, texto, posiciones, [\n",
    "            posición[0]-1, posición[1]-1], letra_a_buscar+1, oc_agregar, ocurrencias)\n",
    "    # Revisar arriba-derecha\n",
    "    if posición[1]-1 >= 0 and posición[0]+1 <= len(sopa)-1 and sopa[posición[0]+1][posición[1]-1] == letra_sig and (posición[0]+1, posición[1]-1) not in oc_agregar:\n",
    "        enc_oc_dfs(sopa, texto, posiciones, [\n",
    "            posición[0]+1, posición[1]-1], letra_a_buscar+1, oc_agregar, ocurrencias)\n",
    "    # Revisar abajo-izquierda\n",
    "    if posición[1]+1 <= len(sopa)-1 and posición[0]-1 >= 0 and sopa[posición[0]-1][posición[1]+1] == letra_sig and (posición[0]-1, posición[1]+1) not in oc_agregar:\n",
    "        enc_oc_dfs(sopa, texto, posiciones, [\n",
    "            posición[0]-1, posición[1]+1], letra_a_buscar+1, oc_agregar, ocurrencias)\n",
    "    # Revisar abajo-derecha\n",
    "    if posición[1]+1 <= len(sopa)-1 and posición[0]+1 <= len(sopa)-1 and sopa[posición[0]+1][posición[1]+1] == letra_sig and (posición[0]+1, posición[1]+1) not in oc_agregar:\n",
    "        enc_oc_dfs(sopa, texto, posiciones, [\n",
    "            posición[0]+1, posición[1]+1], letra_a_buscar+1, oc_agregar, ocurrencias)\n",
    "    # Retornar ocurrencias encontradas\n",
    "    return ocurrencias"
   ]
  },
  {
   "cell_type": "code",
   "execution_count": null,
   "metadata": {},
   "outputs": [],
   "source": [
    "sopa = [\"LAMXB\", \"AOEYF\", \"FCHTB\", \"GFKAR\", \"POSFD\"]\n",
    "texto = \"HOLA\"\n",
    "posiciones = encontrar_ocurrencias(sopa, texto)\n",
    "print(*posiciones, sep=\"\\n\")"
   ]
  },
  {
   "cell_type": "code",
   "execution_count": null,
   "metadata": {},
   "outputs": [],
   "source": [
    "sopa = [\"TAKXX\", \"AOEYF\", \"FCHTB\", \"GFKAR\", \"POSFD\"]\n",
    "texto = \"TAKA\"\n",
    "posiciones = encontrar_ocurrencias(sopa, texto)\n",
    "print(*posiciones, sep=\"\\n\")"
   ]
  },
  {
   "source": [
    "### Ejercicio 3, no realizado"
   ],
   "cell_type": "markdown",
   "metadata": {}
  },
  {
   "cell_type": "code",
   "execution_count": 4,
   "metadata": {},
   "outputs": [],
   "source": [
    "def programar_evaluaciones(evaluaciones):\n",
    "    return (1,1)"
   ]
  },
  {
   "cell_type": "code",
   "execution_count": 5,
   "metadata": {},
   "outputs": [
    {
     "output_type": "stream",
     "name": "stdout",
     "text": [
      "1\n1\n"
     ]
    }
   ],
   "source": [
    "evaluaciones = [(\"Tarea4\", 9, 15),\n",
    "                (\"Control1\", 2, 2),\n",
    "                (\"I1\", 5, 18),\n",
    "                (\"Control3\", 7, 1),\n",
    "                (\"Control2\", 4, 25),\n",
    "                (\"Taller1\", 2, 20),\n",
    "                (\"Tarea2\", 5, 8),\n",
    "                (\"Tarea3\", 7, 10),\n",
    "                (\"Taller2\", 4, 12),\n",
    "                (\"Tarea1\", 3, 5)]\n",
    "\n",
    "orden, nota = programar_evaluaciones(evaluaciones)\n",
    "print(orden)\n",
    "print(nota)"
   ]
  },
  {
   "source": [
    "### Ejercicio 4, no se llego al resultado"
   ],
   "cell_type": "markdown",
   "metadata": {}
  },
  {
   "cell_type": "code",
   "execution_count": 6,
   "metadata": {},
   "outputs": [],
   "source": [
    "def search_relation(rel_dic, start, to_search):\n",
    "    if start in rel_dic:\n",
    "        for r in rel_dic[start]:\n",
    "            if r in rel_dic and to_search in rel_dic[r]:\n",
    "                return True\n",
    "            else:\n",
    "                return search_relation(rel_dic, r, to_search)\n",
    "    return False\n",
    "\n",
    "\n",
    "def ordenes_vacunacion(relaciones):\n",
    "    rel = {}\n",
    "    personas = []\n",
    "    for r in relaciones:\n",
    "        if str(r[0]) not in rel:\n",
    "            rel[str(r[0])] = [str(r[1])]\n",
    "        else:\n",
    "            rel[str(r[0])].append(str(r[1]))\n",
    "        if r[0] not in personas:\n",
    "            personas.append(str(r[0]))\n",
    "        if r[1] not in personas:\n",
    "            personas.append(str(r[1]))\n",
    "    ordenes = []\n",
    "    ordenar(personas, rel, 0, ordenes, [])\n",
    "    return ordenes\n",
    "\n",
    "\n",
    "def ordenar(personas, rel_dic, p_actual, ordenes, orden):\n",
    "    # Condicion de termino\n",
    "    if p_actual == len(personas):\n",
    "        ordenes.append(orden)\n",
    "        return\n",
    "    if orden == []:\n",
    "        orden.append(personas[p_actual])\n",
    "        ordenar(personas, rel_dic, p_actual+1, ordenes, orden)\n",
    "    else:\n",
    "        # agregar por insertion sort\n",
    "        value = personas[p_actual]\n",
    "        if value not in orden:\n",
    "            orden.append(value)\n",
    "            largo_o = len(orden)\n",
    "            test_slot = largo_o - 2\n",
    "            while test_slot > -1 and value in rel_dic and (orden[test_slot] in rel_dic[value] or search_relation(rel_dic, value, orden[test_slot])):\n",
    "                orden[test_slot + 1] = orden[test_slot]\n",
    "                test_slot += -1\n",
    "            if not test_slot == largo_o - 1:\n",
    "                orden[test_slot + 1] = value\n",
    "            # Ver que el elemento siguiente sea mayor o no que el elemento agregado\n",
    "            if test_slot > -1:\n",
    "                if (orden[test_slot] not in rel_dic or value not in rel_dic[orden[test_slot]]) and not search_relation(rel_dic, orden[test_slot], value):\n",
    "                    # Aqui se generan multiples ordenes\n",
    "                    while test_slot > -1 and (value not in rel_dic or orden[test_slot] not in rel_dic[value]) and not search_relation(rel_dic, orden[test_slot], value):\n",
    "                        orden_n = orden.copy()\n",
    "                        orden_n[test_slot + 1] = orden_n[test_slot]\n",
    "                        test_slot += -1\n",
    "                        orden_n[test_slot + 1] = value\n",
    "                        ordenar(personas, rel_dic,\n",
    "                                p_actual+1, ordenes, orden_n)\n",
    "        return ordenar(personas, rel_dic, p_actual+1, ordenes, orden)"
   ]
  },
  {
   "source": [
    "Aviso, actualemente hay un loop infinito."
   ],
   "cell_type": "markdown",
   "metadata": {}
  },
  {
   "cell_type": "code",
   "execution_count": null,
   "metadata": {},
   "outputs": [],
   "source": [
    "# relaciones = [(0, 6), (1, 2), (1, 4), (1, 6), (3, 0),\n",
    "#               (3, 4), (5, 1), (7, 0), (7, 1)]\n",
    "# resultado = ordenes_vacunacion(relaciones)\n",
    "# print(resultado)\n",
    "\n",
    "# relaciones = [(0,6),(1,2),(1,4),(1,6),(3,0),(3,4),(5,1),(6,3),(7,0),(7,1)]\n",
    "# resultado = ordenes_vacunacion(relaciones)\n",
    "# print(resultado)"
   ]
  }
 ],
 "metadata": {
  "kernelspec": {
   "name": "python395jvsc74a57bd0ac59ebe37160ed0dfa835113d9b8498d9f09ceb179beaac4002f036b9467c963",
   "display_name": "Python 3.9.5 64-bit"
  },
  "language_info": {
   "codemirror_mode": {
    "name": "ipython",
    "version": 3
   },
   "file_extension": ".py",
   "mimetype": "text/x-python",
   "name": "python",
   "nbconvert_exporter": "python",
   "pygments_lexer": "ipython3",
   "version": "3.9.5"
  },
  "metadata": {
   "interpreter": {
    "hash": "ac59ebe37160ed0dfa835113d9b8498d9f09ceb179beaac4002f036b9467c963"
   }
  }
 },
 "nbformat": 4,
 "nbformat_minor": 5
}