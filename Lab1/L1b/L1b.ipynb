{
 "cells": [
  {
   "cell_type": "code",
   "execution_count": 1,
   "metadata": {},
   "outputs": [],
   "source": [
    "import json\n",
    "import sqlite3\n",
    "import urllib.request as net\n",
    "import ssl\n",
    "import bs4\n",
    "\n",
    "connection = sqlite3.connect('data.db')\n",
    "cursor = connection.cursor()"
   ]
  },
  {
   "cell_type": "markdown",
   "id": "certain-invasion",
   "metadata": {},
   "source": [
    "# L1b\n",
    "\n",
    "### Misión 0\n",
    "\n",
    "La base de datos se compone de películas que poseen los siguientes atributos: \n",
    "- Titulo\n",
    "- Actores involucrados en la película\n",
    "- Año de estreno de la película\n",
    "- Géneros de la película\n",
    "\n",
    "De esta información distingo 3 entidades, los actores, los géneros y las películas. El año no lo tome como entidad ya que encuentro que es algo muy global y me hace más sentido como atributo de la entidad película.\n",
    "Ademas de estas tablas, se agregaron dos mas que denotan la relacion entre peliculas con sus actores y peliculas con sus generos.\n",
    "\n",
    "Respecto a la limpieza de datos, se eliminaron los actores y generos que no tengan una mayuscula en su nombre, tambien los que tenian un nombre monocaracter y finalmente habia una alta frecuencia de actores llamados \"The\", por lo que tambien se elimino."
   ]
  },
  {
   "cell_type": "code",
   "execution_count": 2,
   "metadata": {},
   "outputs": [],
   "source": [
    "# M0\n",
    "# Código obtenido de la pauta del taller 3a, https://github.com/IIC2115/Syllabus/blob/main/Pautas/Talleres/T3a_pauta.ipynb\n",
    "# Se utiliza este código ya que cumple con lo pedido en esta mision y fue entregado por el cuerpo docente.\n",
    "\n",
    "# Se crean las 3 tablas de entidades mas 2 tablas de relaciones entre entidades\n",
    "cursor.execute(\n",
    "    \"CREATE TABLE Movies(mid INTEGER PRIMARY KEY, title TEXT, year INTEGER)\")\n",
    "cursor.execute(\"CREATE TABLE Actors(aid INTEGER PRIMARY KEY, name TEXT)\")\n",
    "cursor.execute(\"CREATE TABLE Genres(gid INTEGER PRIMARY KEY, genre TEXT)\")\n",
    "cursor.execute(\"CREATE TABLE ActorsMovies(actor_id INTEGER, movie_id INTEGER, FOREIGN KEY (actor_id) REFERENCES Actors, FOREIGN KEY (movie_id) REFERENCES Movies)\")\n",
    "cursor.execute(\"CREATE TABLE GenresMovies(genre_id INTEGER, movie_id INTEGER, FOREIGN KEY (genre_id) REFERENCES Genres, FOREIGN KEY (movie_id) REFERENCES Movies)\")\n",
    "\n",
    "# Variables de indice y almacenamiento de generos y actores unicos\n",
    "mid = 1\n",
    "aid = 1\n",
    "gid = 1\n",
    "genres = {}\n",
    "actors = {}\n",
    "\n",
    "with open(\"movies.json\", encoding=\"utf8\") as movies_file:\n",
    "    movies = json.load(movies_file)\n",
    "    for movie in movies:\n",
    "\n",
    "        title = movie[\"title\"]\n",
    "        year = movie[\"year\"]\n",
    "\n",
    "        if len(title) > 1 and int(year):\n",
    "\n",
    "            cursor.execute(\"INSERT INTO Movies VALUES (?,?,?)\",\n",
    "                           (mid, title, year))\n",
    "\n",
    "            for genre in movie[\"genres\"]:\n",
    "                # Se utiliza el diccionario genres para saber si ya se había agregado el genero y se almacena el gid\n",
    "                if not genre.islower() and not genre.isupper() and len(genre) > 1:\n",
    "                    if genre not in genres:\n",
    "                        genres[genre] = gid\n",
    "                        cursor.execute(\n",
    "                            \"INSERT INTO Genres VALUES (?,?)\", (gid, genre))\n",
    "                        gid += 1\n",
    "                    cursor.execute(\"INSERT INTO GenresMovies VALUES (?,?)\",\n",
    "                                   (genres[genre], mid))\n",
    "\n",
    "            for actor in movie[\"cast\"]:\n",
    "                if not actor.islower() and not actor.isupper() and len(actor) > 1 and actor.lower() != \"the\":\n",
    "                    if actor not in actors:\n",
    "                        # Analogo a genre\n",
    "                        actors[actor] = aid\n",
    "                        cursor.execute(\n",
    "                            \"INSERT INTO Actors VALUES (?,?)\", (aid, actor))\n",
    "                        aid += 1\n",
    "                    cursor.execute(\"INSERT INTO ActorsMovies VALUES (?,?)\",\n",
    "                                   (actors[actor], mid))\n",
    "\n",
    "            mid += 1"
   ]
  },
  {
   "source": [
    "### Misión 1"
   ],
   "cell_type": "markdown",
   "metadata": {}
  },
  {
   "cell_type": "code",
   "execution_count": 3,
   "metadata": {},
   "outputs": [],
   "source": [
    "# Código obtenido del material de clases/capitulo 3/Parte a, https://github.com/IIC2115/Syllabus/blob/main/Pautas/Talleres/T3a_pauta.ipynb\n",
    "# Se utiliza este código con el propósito de obtener el código fuente de la pagina de wikipedia.\n",
    "class WebDownloader:\n",
    "\n",
    "    def __init__(self, link):\n",
    "        self.user_agent = 'Mozilla/5.0 (Windows; U; Windows NT 5.1; en-US; rv:1.9.0.7) Gecko/2009021910 Firefox/3.0.7'\n",
    "        self.url = link\n",
    "\n",
    "    def getHtmlAsString(self):\n",
    "        headers = {'User-Agent': self.user_agent}\n",
    "        request = net.Request(self.url, None, headers)\n",
    "        gcontext = ssl.SSLContext()\n",
    "        response = net.urlopen(request, context=gcontext)\n",
    "        return response.read().decode('utf-8')\n",
    "\n",
    "\n",
    "url = \"https://en.wikipedia.org/wiki/\""
   ]
  },
  {
   "cell_type": "code",
   "execution_count": 5,
   "metadata": {},
   "outputs": [],
   "source": [
    "# Se Agrega la descripcion del genero cinematografico segun lo que aparece en su pagina de wikipedia.\n",
    "cursor.execute(\"ALTER TABLE Genres ADD Description TEXT\")\n",
    "for genre in genres:\n",
    "    # Manejo de excepciones\n",
    "    if genre == \"Found Footage\":\n",
    "        wd = WebDownloader(url+\"Found_footage_(film_technique)\")\n",
    "    elif genre == \"Martial Arts\":\n",
    "        wd = WebDownloader(url+'Martial_arts_film')\n",
    "    elif genre == \"Live Action\":\n",
    "        wd = WebDownloader(url+genre.replace(\" \", \"_\"))\n",
    "    elif genre == \"Performance\":\n",
    "        wd = WebDownloader(url+genre)\n",
    "    elif \" \" in genre:\n",
    "        wd = WebDownloader(url+genre.replace(\" \", \"_\")+\"_film\")\n",
    "    else:\n",
    "        wd = WebDownloader(url+genre+\"_film\")\n",
    "    sourceCode = wd.getHtmlAsString()\n",
    "    soup = bs4.BeautifulSoup(sourceCode)\n",
    "    if genre == \"Horror\":\n",
    "        for node in soup.findAll('p', limit=5):\n",
    "            text = str(u''.join(node.findAll(text=True)).encode('utf-8'))[2:-1]\n",
    "            if len(text) > 3:\n",
    "                cursor.execute(\n",
    "                    \"UPDATE Genres SET Description = ? WHERE genre == ?\", (text, genre))\n",
    "                break\n",
    "    else:\n",
    "        for node in soup.findAll('p', limit=3):\n",
    "            text = str(u''.join(node.findAll(text=True)).encode('utf-8'))[2:-1]\n",
    "            if len(text) > 3:\n",
    "                cursor.execute(\n",
    "                    \"UPDATE Genres SET Description = ? WHERE genre == ?\", (text, genre))\n",
    "                break"
   ]
  },
  {
   "cell_type": "code",
   "execution_count": 4,
   "metadata": {},
   "outputs": [],
   "source": [
    "# Se Agrega la descripcion del actor/actriz de cine segun lo que aparece en su pagina de wikipedia.\n",
    "# Debido a lo antiguo que son algunas peliculas, no se encontro informacion de algunos actores/actrices.\n",
    "# Esta consulta se demora bastante debido a la cantidad de actores, si se compara a la anterior se ve que esta funciona.\n",
    "cursor.execute(\"ALTER TABLE Actors ADD Description TEXT\")\n",
    "for actor in actors:\n",
    "    names = \"\"\n",
    "    for name in actor.split(\" \"):\n",
    "        names += \"_\" + name\n",
    "    wd = WebDownloader(url+names)\n",
    "    try:\n",
    "        sourceCode = wd.getHtmlAsString()\n",
    "    except:\n",
    "        pass\n",
    "    soup = bs4.BeautifulSoup(sourceCode)\n",
    "    for node in soup.findAll('p', limit=3):\n",
    "        text = str(u''.join(node.findAll(text=True)).encode('utf-8'))[2:-1]\n",
    "        if \"may refer to\" in text:\n",
    "            break\n",
    "        elif len(text) > 3:\n",
    "            cursor.execute(\n",
    "                \"UPDATE Actors SET Description = ? WHERE name == ?\", (text, actor))\n",
    "            break"
   ]
  },
  {
   "source": [
    "### Misión 2"
   ],
   "cell_type": "markdown",
   "metadata": {}
  },
  {
   "cell_type": "code",
   "execution_count": 5,
   "metadata": {},
   "outputs": [
    {
     "output_type": "stream",
     "name": "stdout",
     "text": [
      "[(7, 1902), (7, 1906), (7, 1907)]\n"
     ]
    }
   ],
   "source": [
    "# Consulta 1\n",
    "cursor.execute(\n",
    "    \"SELECT count(M.title) as n_movies, M.year FROM Movies M GROUP BY M.year ORDER BY n_movies LIMIT 3\")\n",
    "print(cursor.fetchall())"
   ]
  },
  {
   "cell_type": "code",
   "execution_count": 6,
   "metadata": {},
   "outputs": [
    {
     "output_type": "stream",
     "name": "stdout",
     "text": [
      "[('Harrison Ford', 99), ('Gloria Stuart', 81), ('Lillian Gish', 76), ('Kenny Baker', 76), ('Mickey Rooney', 75)]\n"
     ]
    }
   ],
   "source": [
    "# Consulta 2\n",
    "cursor.execute(\n",
    "    \"SELECT A.name, (MAX(M.year) - MIN(M.year) + 1) as career FROM Movies M, Actors A, ActorsMovies AM WHERE M.mid == AM.movie_id AND A.aid == AM.actor_id GROUP BY A.name ORDER BY career DESC LIMIT 5\")\n",
    "print(cursor.fetchall())"
   ]
  },
  {
   "cell_type": "code",
   "execution_count": 7,
   "metadata": {},
   "outputs": [
    {
     "output_type": "stream",
     "name": "stdout",
     "text": [
      "[('Drama', 'Bette Davis,Lionel Barrymore,Mary Astor'), ('Comedy', 'Bebe Daniels,Harold Lloyd,The Three Stooges'), ('Western', 'Charles Starrett,Hoot Gibson,Johnny Mack Brown'), ('Crime', 'Chester Morris,Edward G. Robinson,George Raft'), ('Musical', 'Bing Crosby,Fred Astaire,Judy Garland'), ('Horror', 'Bela Lugosi,Boris Karloff,Vincent Price'), ('Romance', 'Conrad Nagel,Gary Cooper,Loretta Young'), ('Action', 'Bruce Willis,Chuck Norris,Jean-Claude Van Damme'), ('Adventure', 'Jack Holt,Johnny Weissmuller,Jon Hall,Victor McLaglen'), ('Thriller', 'Forest Whitaker,Liam Neeson,Michael Douglas,Nicolas Cage'), ('Science Fiction', 'Arnold Schwarzenegger,Boris Karloff,John Agar,Leonard Nimoy,Sigourney Weaver,William Shatner'), ('Animated', 'Bugs Bunny,Looney Tunes,Tom and Jerry'), ('Mystery', 'Edmund Lowe,Sidney Toler,Tom Conway,Warner Oland'), ('War', 'Dana Andrews,Gary Cooper,John Wayne,Robert Mitchum'), ('Documentary', '. Narrated by,Archive footage of,Iraq War'), ('Biography', 'Anthony Hopkins,Dennis Quaid,Ed Harris,Sam Rockwell'), ('Noir', 'Edward G. Robinson,Howard Duff,Humphrey Bogart,Lizabeth Scott,Robert Mitchum,Robert Ryan'), ('Family', 'Bonnie Hunt,Dean Jones,Maggie Smith'), ('Short', 'Harold Lloyd,The Three Stooges,Tom and Jerry'), ('Fantasy', 'Daniel Radcliffe,Emma Watson,Maggie Smith,Robbie Coltrane,Rupert Grint'), ('Sports', 'Elyse Knox,Jane Nigh,Leon Errol,Marian Nixon'), ('Suspense', 'Anthony Hopkins,Anthony Perkins,Beverly Garland,Bruce Willis,Cary Grant,Chester Morris,Christopher Walken,Dennis Hopper,Don Castle,George Sanders,Geraldine Fitzgerald,Glenn Ford,Grace Kelly,Ingrid Bergman,James Stephenson,John Gavin,Leo G. Carroll,Lindsay Crouse,Mickey Rourke,Mimi Rogers,Patric Knowles,Peter Lawford,Richard Denning,Robert Cummings,Roddy McDowall,Roy Scheider,Sigourney Weaver,Tippi Hedren,Tom Berenger,Victoria Tennant,William Hurt'), ('Historical', 'Charlton Heston,Liam Neeson,Marion Davies,Tyrone Power'), ('Superhero', 'Chris Evans,Hugh Jackman,Idris Elba'), ('Spy', 'Conrad Veidt,Constance Bennett,Daliah Lavi,Dean Martin,Elke Sommer,Hedy Lamarr,James Coburn,Jason Isaacs,Jeremy Renner,Joel McCrea,Karl Malden,Lee J. Cobb,Matt Damon,Michael Caine,Nancy Kwan,Orson Welles,Robert Vaughn,Robert Wagner,Sharon Tate,Tom Cruise,Tom Wilkinson'), ('Satire', \"Anna Faris,Catherine O'Hara,Eugene Levy,Parker Posey\"), ('Erotic', 'Constance Money,Gloria Leonard,Harry Reems,Jamie Gillis'), ('Disaster', 'Ava Gardner,Barry Newman,Bill Paxton,Charlton Heston,Emmy Rossum,Ernest Borgnine,George Kennedy,Jacqueline Bisset,Kate Winslet,Lee Grant,Maximilian Schell,Olivia de Havilland,Paul Newman,Red Buttons,Richard Chamberlain,Susan Clark,William Holden'), ('Performance', \". Scenes are taken from the,. Shows scenes from their,2011 California Dreams Tour,A look at American rock band,Adam Clayton,Amber Riley,Arnel Pineda,Ashley Fink,Beastie Boys,Billy Ray Cyrus,Bob Dylan,Bono,Chord Overstreet,Chris Colfer,Christa B. Allen,Chronicles the life of teen sensation,Chronicling the life and career of singer,Chronicling the lives of British boy band,Cory Monteith,Dale Bozzio,Darren Criss,Demi Lovato,Dianna Agron,Eddie Griffin,Frank Zappa,Gilda Radner,Grateful Dead,Gwyneth Paltrow,Harry Dean Stanton,Harry Shum, Jr.,Heather Morris,Jenna Ushkowitz,Joan Baez,Jonas Brothers,Journey,Justin Bieber,Katy Perry,Kenny Ortega,Kevin McHale,Larry Mullen, Jr.,Lea Michele,Led Zeppelin,Los Angeles,Mark Salling,Miley Cyrus,My World Tour,Naya Rivera,Neil Young,One Direction,Otis Redding,Prince,Revelation Tour,Sandra Bernhard,Staples Center,Taylor Swift,The Edge,The Grateful Dead,The Rolling Stones,Tom Waits,and his career. Shows concert footage of his 2010,in the United States and Pineda's homecoming in the Philippines.\"), ('Teen', 'Aundrea Fares,Caitlin Mehner,Caroline Luft,Collin Summers,Eleanore Pienta,Emma Roberts,Gonzalo Cordova,Jessica Pinfield,Kate Lyn Sheil,Kati Schwartz,Liz Toonkel,Mike Faist,Sky Hirschkron,Sunita Mani,Tallie Medel,Thomas McDonell,Zelda Knapp'), ('Martial Arts', 'Abbi Jacobson,Alice Braga,Angelina Jolie,Ben Miles,Brandon Lee,Bruce Lee,Byron Mann,Cameron Mitchell,Chiwetel Ejiofor,Chris Yen,Christopher McDonald,Christopher Murney,Cung Le,Cynthia Rothrock,Dave Franco,David Bautista,David Paymer,Don Wilson,Donnie Yen,Dustin Hoffman,Emily Mortimer,Eric Roberts,Fred Armisen,Jack Black,Jackie Chan,Jaden Smith,James Earl Jones,James Hong,Jamie Chung,Jason London,Jean Glaudé,Jet Li,Jim Kelly,Joe Mantegna,John Saxon,Jonathan Quan,Julius Carry,Justin Theroux,Kelly Perine,Kumail Nanjiani,Liu Yifei,Loren Avedon,Lucy Liu,Matt Mullins,Matthew Twining,Michael Angarano,Michael Peña,Naomie Harris,Olivia Munn,Phillip Rhee,Rain,Randy Couture,Rebecca Pidgeon,Rick Yune,Ricky Jay,Rodrigo Santoro,Russell Crowe,Sally Kirkland,Seth Rogen,Sho Kosugi,Sung Kang,Taimak,Taraji P. Henson,Tim Allen,Will Egan,Zach Woods'), ('Slasher', \"Alexandra Daddario,Angela O'Neill,Bill Moseley,Bo Hopkins,C. J. Graham,Caroline Williams,Clint Howard,Cody Blue Snider,Connie Mason,Corey Haim,Courteney Cox,Crystal Bernard,Dan Yeager,Danielle Harris,David Arquette,David Kagen,Derek Mears,Donald Pleasence,Drew Barrymore,Eric Freeman,Heather Langenkamp,Jack Palance,Jamie Kennedy,Jennifer Cooke,John Saxon,Kane Hodder,Keram Malicki-Sánchez,Kim Myers,Lar Park Lincoln,Laurence Fishburne,Mario Lopez,Mark Patton,Matthew Lillard,Neve Campbell,Olivia Hussey,Patricia Arquette,Paul Rae,Robert Englund,Robert Rusler,Rose McGowan,Skeet Ulrich,Tania Raymonde,Thom Barry,Thom Mathews,Tony Todd,Tremaine 'Trey Songz' Neverson,Virginia Madsen,Wendy Martel,Zach Galligan\"), ('Political', 'Chris Cooper,Evan Rachel Wood,George Clooney,Jeffrey Wright,Marisa Tomei,Paul Giamatti,Philip Seymour Hoffman,Ryan Gosling'), ('Dance', 'Adam G. Sevani,Alyson Stoner,Briana Evigan,Chris Brown,Marques Houston,Misha Gabriel,Ryan Guzman'), ('Supernatural', 'Katie Featherston,Patrick Wilson,Vera Farmiga'), ('Live Action', 'Anna Faris,Christina Applegate,Fred Armisen,George Lopez,Hank Azaria,James Marsden,Neil Patrick Harris'), ('Sport', 'Aileen Pringle,Alice Day,Andy Devine,Constance Moore,Dorothy Gulliver,Edward Buzzell,Evelyn Brent,Hugh Trevor,Jack Oakie,John Wayne,Josephine Dunn,Matt Adler,Peggy Moran,Richard Arlen,Robert Wilcox,Tom Brown,William Collier Jr.'), ('Silent', 'Conway Tearle,Dorothy Revier,Erik Steffen Maahs,Eugenie Besserer,Gertrude Astor,Gretchen Krich,Margaret Morris,Marguerite Snow,Maya Lawson,Patsy Ruth Miller,Ralph Ince,Rex Lease,Sullivan Brown,Tom Gallery,Viola Dana,William Garwood'), ('Independent', 'Brian Ronalds,Gregor Collins,Sarah Prikryl'), ('Legal', 'Brett Cullen,Chris Evans,Jesse L. Martin,Kate Burton,Mark Kassen,Marshall Bell,Michael Biehn,Roxanna Hope,Tess Parker,Vinessa Shaw'), ('Found Footage', 'Found footage of the death of a female teen.')]\n"
     ]
    }
   ],
   "source": [
    "# Consulta 3\n",
    "\n",
    "# Se obtiene el numero de veces que cada actor actuo en cada genero de pelicula\n",
    "participacion_actor_genero = \"SELECT A.name as name, G.genre as genre, G.gid as genre_id, count(M.mid) as n_movies FROM Movies M, Genres G, Actors A, GenresMovies GM, ActorsMovies AM WHERE M.mid == GM.movie_id AND G.gid == GM.genre_id AND A.aid == AM.actor_id AND M.mid == AM.movie_id GROUP BY A.name, G.genre\"\n",
    "# Se obtiene el top 3 de actores por cada genero, se toma inspiracion del siguiente post https://www.reddit.com/r/SQL/comments/f8pir6/sql_veterans_how_do_you_solve_the/\n",
    "top_actors_genre = \"SELECT PAG.genre, GROUP_CONCAT(PAG.name) as top_actors, PAG.genre_id FROM ({}) AS PAG WHERE (SELECT count(*) FROM ({}) AS PAGS WHERE PAGS.genre == PAG.genre AND PAGS.n_movies > PAG.n_movies) < 3 GROUP BY PAG.genre\".format(\n",
    "    participacion_actor_genero, participacion_actor_genero)\n",
    "# Finalmente se ordena segun el genero mas popular\n",
    "cursor.execute(\n",
    "    \"SELECT G.genre, TOP_AG.top_actors FROM Movies M, Genres G, GenresMovies GM, ({}) as TOP_AG WHERE M.mid == GM.movie_id AND G.gid == GM.genre_id AND TOP_AG.genre_id == G.gid GROUP BY G.genre ORDER BY count(GM.movie_id) DESC\".format(top_actors_genre))\n",
    "print(cursor.fetchall())"
   ]
  },
  {
   "cell_type": "code",
   "execution_count": null,
   "metadata": {},
   "outputs": [],
   "source": []
  }
 ],
 "metadata": {
  "kernelspec": {
   "name": "python395jvsc74a57bd0ac59ebe37160ed0dfa835113d9b8498d9f09ceb179beaac4002f036b9467c963",
   "display_name": "Python 3.9.5 64-bit"
  },
  "language_info": {
   "codemirror_mode": {
    "name": "ipython",
    "version": 3
   },
   "file_extension": ".py",
   "mimetype": "text/x-python",
   "name": "python",
   "nbconvert_exporter": "python",
   "pygments_lexer": "ipython3",
   "version": "3.9.5"
  },
  "metadata": {
   "interpreter": {
    "hash": "ac59ebe37160ed0dfa835113d9b8498d9f09ceb179beaac4002f036b9467c963"
   }
  }
 },
 "nbformat": 4,
 "nbformat_minor": 5
}