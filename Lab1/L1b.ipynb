{
 "cells": [
  {
   "cell_type": "code",
   "execution_count": 2,
   "metadata": {},
   "outputs": [],
   "source": [
    "import json\n",
    "import sqlite3\n",
    "import urllib.request as net\n",
    "import ssl\n",
    "import bs4\n",
    "\n",
    "connection = sqlite3.connect('data.db')\n",
    "cursor = connection.cursor()"
   ]
  },
  {
   "cell_type": "markdown",
   "id": "certain-invasion",
   "metadata": {},
   "source": [
    "# L1b\n",
    "\n",
    "### Misión 0\n",
    "\n",
    "La base de datos se compone de películas que poseen los siguientes atributos: \n",
    "- Titulo\n",
    "- Actores involucrados en la película\n",
    "- Año de estreno de la película\n",
    "- Géneros de la película\n",
    "\n",
    "De esta información distingo 3 entidades, los actores, los géneros y las películas. El año no lo tome como entidad ya que encuentro que es algo muy global y me hace más sentido como atributo de la entidad película.\n",
    "Ademas de estas tablas, se agregaron dos mas que denotan la relacion entre peliculas con sus actores y peliculas con sus generos.\n",
    "\n",
    "Respecto a la limpieza de datos, se eliminaron los actores y generos que no tengan una mayuscula en su nombre, tambien los que tenian un nombre monocaracter y finalmente habia una alta frecuencia de actores llamados \"The\", por lo que tambien se elimino."
   ]
  },
  {
   "cell_type": "code",
   "execution_count": 3,
   "metadata": {},
   "outputs": [],
   "source": [
    "# M0\n",
    "# Código obtenido de la pauta del taller 3a, https://github.com/IIC2115/Syllabus/blob/main/Pautas/Talleres/T3a_pauta.ipynb\n",
    "# Se utiliza este código ya que cumple con lo pedido en esta mision y fue entregado por el cuerpo docente.\n",
    "\n",
    "# Se crean las 3 tablas de entidades mas 2 tablas de relaciones entre entidades\n",
    "cursor.execute(\n",
    "    \"CREATE TABLE Movies(mid INTEGER PRIMARY KEY, title TEXT, year INTEGER)\")\n",
    "cursor.execute(\"CREATE TABLE Actors(aid INTEGER PRIMARY KEY, name TEXT)\")\n",
    "cursor.execute(\"CREATE TABLE Genres(gid INTEGER PRIMARY KEY, genre TEXT)\")\n",
    "cursor.execute(\"CREATE TABLE ActorsMovies(actor_id INTEGER, movie_id INTEGER, FOREIGN KEY (actor_id) REFERENCES Actors, FOREIGN KEY (movie_id) REFERENCES Movies)\")\n",
    "cursor.execute(\"CREATE TABLE GenresMovies(genre_id INTEGER, movie_id INTEGER, FOREIGN KEY (genre_id) REFERENCES Genres, FOREIGN KEY (movie_id) REFERENCES Movies)\")\n",
    "\n",
    "# Variables de indice y almacenamiento de generos y actores unicos\n",
    "mid = 1\n",
    "aid = 1\n",
    "gid = 1\n",
    "genres = {}\n",
    "actors = {}\n",
    "\n",
    "with open(\"movies.json\", encoding=\"utf8\") as movies_file:\n",
    "    movies = json.load(movies_file)\n",
    "    for movie in movies:\n",
    "\n",
    "        title = movie[\"title\"]\n",
    "        year = movie[\"year\"]\n",
    "\n",
    "        if len(title) > 1 and int(year):\n",
    "\n",
    "            cursor.execute(\"INSERT INTO Movies VALUES (?,?,?)\",\n",
    "                           (mid, title, year))\n",
    "\n",
    "            for genre in movie[\"genres\"]:\n",
    "                # Se utiliza el diccionario genres para saber si ya se había agregado el genero y se almacena el gid\n",
    "                if not genre.islower() and not genre.isupper() and len(genre) > 1:\n",
    "                    if genre not in genres:\n",
    "                        genres[genre] = gid\n",
    "                        cursor.execute(\n",
    "                            \"INSERT INTO Genres VALUES (?,?)\", (gid, genre))\n",
    "                        gid += 1\n",
    "                    cursor.execute(\"INSERT INTO GenresMovies VALUES (?,?)\",\n",
    "                                   (genres[genre], mid))\n",
    "\n",
    "            for actor in movie[\"cast\"]:\n",
    "                if not actor.islower() and not actor.isupper() and len(actor) > 1 and actor.lower() != \"the\":\n",
    "                    if actor not in actors:\n",
    "                        # Analogo a genre\n",
    "                        actors[actor] = aid\n",
    "                        cursor.execute(\n",
    "                            \"INSERT INTO Actors VALUES (?,?)\", (aid, actor))\n",
    "                        aid += 1\n",
    "                    cursor.execute(\"INSERT INTO ActorsMovies VALUES (?,?)\",\n",
    "                                   (actors[actor], mid))\n",
    "\n",
    "            mid += 1"
   ]
  },
  {
   "source": [
    "### Misión 1"
   ],
   "cell_type": "markdown",
   "metadata": {}
  },
  {
   "cell_type": "code",
   "execution_count": 4,
   "metadata": {},
   "outputs": [],
   "source": [
    "# Código obtenido del material de clases/capitulo 3/Parte a, https://github.com/IIC2115/Syllabus/blob/main/Pautas/Talleres/T3a_pauta.ipynb\n",
    "# Se utiliza este código con el propósito de obtener el código fuente de la pagina de wikipedia.\n",
    "class WebDownloader:\n",
    "\n",
    "    def __init__(self, link):\n",
    "        self.user_agent = 'Mozilla/5.0 (Windows; U; Windows NT 5.1; en-US; rv:1.9.0.7) Gecko/2009021910 Firefox/3.0.7'\n",
    "        self.url = link\n",
    "\n",
    "    def getHtmlAsString(self):\n",
    "        headers = {'User-Agent': self.user_agent}\n",
    "        request = net.Request(self.url, None, headers)\n",
    "        gcontext = ssl.SSLContext()\n",
    "        response = net.urlopen(request, context=gcontext)\n",
    "        return response.read().decode('utf-8')\n",
    "\n",
    "\n",
    "url = \"https://en.wikipedia.org/wiki/\""
   ]
  },
  {
   "cell_type": "code",
   "execution_count": 5,
   "metadata": {},
   "outputs": [],
   "source": [
    "# Se Agrega la descripcion del genero cinematografico segun lo que aparece en su pagina de wikipedia.\n",
    "cursor.execute(\"ALTER TABLE Genres ADD Description TEXT\")\n",
    "for genre in genres:\n",
    "    # Manejo de excepciones\n",
    "    if genre == \"Found Footage\":\n",
    "        wd = WebDownloader(url+\"Found_footage_(film_technique)\")\n",
    "    elif genre == \"Martial Arts\":\n",
    "        wd = WebDownloader(url+'Martial_arts_film')\n",
    "    elif genre == \"Live Action\":\n",
    "        wd = WebDownloader(url+genre.replace(\" \", \"_\"))\n",
    "    elif genre == \"Performance\":\n",
    "        wd = WebDownloader(url+genre)\n",
    "    elif \" \" in genre:\n",
    "        wd = WebDownloader(url+genre.replace(\" \", \"_\")+\"_film\")\n",
    "    else:\n",
    "        wd = WebDownloader(url+genre+\"_film\")\n",
    "    sourceCode = wd.getHtmlAsString()\n",
    "    soup = bs4.BeautifulSoup(sourceCode)\n",
    "    if genre == \"Horror\":\n",
    "        for node in soup.findAll('p', limit=5):\n",
    "            text = str(u''.join(node.findAll(text=True)).encode('utf-8'))[2:-1]\n",
    "            if len(text) > 3:\n",
    "                cursor.execute(\n",
    "                    \"UPDATE Genres SET Description = ? WHERE genre == ?\", (text, genre))\n",
    "                break\n",
    "    else:\n",
    "        for node in soup.findAll('p', limit=3):\n",
    "            text = str(u''.join(node.findAll(text=True)).encode('utf-8'))[2:-1]\n",
    "            if len(text) > 3:\n",
    "                cursor.execute(\n",
    "                    \"UPDATE Genres SET Description = ? WHERE genre == ?\", (text, genre))\n",
    "                break"
   ]
  },
  {
   "cell_type": "code",
   "execution_count": 6,
   "metadata": {},
   "outputs": [
    {
     "output_type": "error",
     "ename": "OperationalError",
     "evalue": "no such column: actor",
     "traceback": [
      "\u001b[1;31m---------------------------------------------------------------------------\u001b[0m",
      "\u001b[1;31mOperationalError\u001b[0m                          Traceback (most recent call last)",
      "\u001b[1;32m<ipython-input-6-8d249ad48f0d>\u001b[0m in \u001b[0;36m<module>\u001b[1;34m\u001b[0m\n\u001b[0;32m     17\u001b[0m             \u001b[1;32mbreak\u001b[0m\u001b[1;33m\u001b[0m\u001b[1;33m\u001b[0m\u001b[0m\n\u001b[0;32m     18\u001b[0m         \u001b[1;32melif\u001b[0m \u001b[0mlen\u001b[0m\u001b[1;33m(\u001b[0m\u001b[0mtext\u001b[0m\u001b[1;33m)\u001b[0m \u001b[1;33m>\u001b[0m \u001b[1;36m3\u001b[0m\u001b[1;33m:\u001b[0m\u001b[1;33m\u001b[0m\u001b[1;33m\u001b[0m\u001b[0m\n\u001b[1;32m---> 19\u001b[1;33m             cursor.execute(\n\u001b[0m\u001b[0;32m     20\u001b[0m                 \"UPDATE Actors SET Description = ? WHERE actor == ?\", (text, actor))\n\u001b[0;32m     21\u001b[0m             \u001b[1;32mbreak\u001b[0m\u001b[1;33m\u001b[0m\u001b[1;33m\u001b[0m\u001b[0m\n",
      "\u001b[1;31mOperationalError\u001b[0m: no such column: actor"
     ]
    }
   ],
   "source": [
    "# Se Agrega la descripcion del actor/actriz de cine segun lo que aparece en su pagina de wikipedia.\n",
    "# Debido a lo antiguo que son algunas peliculas, no se encontro informacion de algunos actores/actrices.\n",
    "# Esta consulta se demora bastante debido a la cantidad de actores, si se compara a la anterior se ve que esta funciona.\n",
    "cursor.execute(\"ALTER TABLE Actors ADD Description TEXT\")\n",
    "for actor in actors:\n",
    "    names = \"\"\n",
    "    for name in actor.split(\" \"):\n",
    "        names += \"_\" + name\n",
    "    wd = WebDownloader(url+names)\n",
    "    try:\n",
    "        sourceCode = wd.getHtmlAsString()\n",
    "    except:\n",
    "        pass\n",
    "    soup = bs4.BeautifulSoup(sourceCode)\n",
    "    for node in soup.findAll('p', limit=3):\n",
    "        text = str(u''.join(node.findAll(text=True)).encode('utf-8'))[2:-1]\n",
    "        if \"may refer to\" in text:\n",
    "            break\n",
    "        elif len(text) > 3:\n",
    "            cursor.execute(\n",
    "                \"UPDATE Actors SET Description = ? WHERE name == ?\", (text, actor))\n",
    "            break"
   ]
  },
  {
   "source": [
    "### Misión 2"
   ],
   "cell_type": "markdown",
   "metadata": {}
  },
  {
   "cell_type": "code",
   "execution_count": 7,
   "metadata": {},
   "outputs": [],
   "source": [
    "# Consulta 1\n",
    "cursor.execute(\n",
    "    \"SELECT count(M.title) as n_movies, M.year FROM Movies M GROUP BY M.year ORDER BY n_movies LIMIT 3\")\n",
    "print(cursor.fetchall())"
   ]
  },
  {
   "cell_type": "code",
   "execution_count": 4,
   "metadata": {},
   "outputs": [
    {
     "output_type": "error",
     "ename": "NameError",
     "evalue": "name 'cursor' is not defined",
     "traceback": [
      "\u001b[1;31m---------------------------------------------------------------------------\u001b[0m",
      "\u001b[1;31mNameError\u001b[0m                                 Traceback (most recent call last)",
      "\u001b[1;32m<ipython-input-4-1de5ce414f75>\u001b[0m in \u001b[0;36m<module>\u001b[1;34m\u001b[0m\n\u001b[0;32m      1\u001b[0m \u001b[1;31m# Consulta 2\u001b[0m\u001b[1;33m\u001b[0m\u001b[1;33m\u001b[0m\u001b[1;33m\u001b[0m\u001b[0m\n\u001b[1;32m----> 2\u001b[1;33m cursor.execute(\n\u001b[0m\u001b[0;32m      3\u001b[0m     \"SELECT A.name, (MAX(M.year) - MIN(M.year) + 1) as career FROM Movies M, Actors A, ActorsMovies AM WHERE M.mid == AM.movie_id AND A.aid == AM.actor_id GROUP BY A.name ORDER BY career DESC LIMIT 5\")\n\u001b[0;32m      4\u001b[0m \u001b[0mprint\u001b[0m\u001b[1;33m(\u001b[0m\u001b[0mcursor\u001b[0m\u001b[1;33m.\u001b[0m\u001b[0mfetchall\u001b[0m\u001b[1;33m(\u001b[0m\u001b[1;33m)\u001b[0m\u001b[1;33m)\u001b[0m\u001b[1;33m\u001b[0m\u001b[1;33m\u001b[0m\u001b[0m\n",
      "\u001b[1;31mNameError\u001b[0m: name 'cursor' is not defined"
     ]
    }
   ],
   "source": [
    "# Consulta 2\n",
    "cursor.execute(\n",
    "    \"SELECT A.name, (MAX(M.year) - MIN(M.year) + 1) as career FROM Movies M, Actors A, ActorsMovies AM WHERE M.mid == AM.movie_id AND A.aid == AM.actor_id GROUP BY A.name ORDER BY career DESC LIMIT 5\")\n",
    "print(cursor.fetchall())"
   ]
  },
  {
   "cell_type": "code",
   "execution_count": null,
   "metadata": {},
   "outputs": [],
   "source": [
    "# Consulta 3\n",
    "\n",
    "# Se obtiene el numero de veces que cada actor actuo en cada genero de pelicula\n",
    "participacion_actor_genero = \"SELECT A.name as name, G.genre as genre, G.gid as genre_id, count(M.mid) as n_movies FROM Movies M, Genres G, Actors A, GenresMovies GM, ActorsMovies AM WHERE M.mid == GM.movie_id AND G.gid == GM.genre_id AND A.aid == AM.actor_id AND M.mid == AM.movie_id GROUP BY A.name, G.genre\"\n",
    "# Se obtiene el top 3 de actores por cada genero, se toma inspiracion del siguiente post https://www.reddit.com/r/SQL/comments/f8pir6/sql_veterans_how_do_you_solve_the/\n",
    "top_actors_genre = \"SELECT PAG.genre, GROUP_CONCAT(PAG.name) as top_actors, PAG.genre_id FROM ({}) AS PAG WHERE (SELECT count(*) FROM ({}) AS PAGS WHERE PAGS.genre == PAG.genre AND PAGS.n_movies > PAG.n_movies) < 3 GROUP BY PAG.genre\".format(\n",
    "    participacion_actor_genero, participacion_actor_genero)\n",
    "# Finalmente se ordena segun el genero mas popular\n",
    "cursor.execute(\n",
    "    \"SELECT G.genre, TOP_AG.top_actors FROM Movies M, Genres G, GenresMovies GM, ({}) as TOP_AG WHERE M.mid == GM.movie_id AND G.gid == GM.genre_id AND TOP_AG.genre_id == G.gid GROUP BY G.genre ORDER BY count(GM.movie_id) DESC\".format(top_actors_genre))\n",
    "print(cursor.fetchall())"
   ]
  }
 ],
 "metadata": {
  "kernelspec": {
   "name": "python395jvsc74a57bd0ac59ebe37160ed0dfa835113d9b8498d9f09ceb179beaac4002f036b9467c963",
   "display_name": "Python 3.9.5 64-bit"
  },
  "language_info": {
   "codemirror_mode": {
    "name": "ipython",
    "version": 3
   },
   "file_extension": ".py",
   "mimetype": "text/x-python",
   "name": "python",
   "nbconvert_exporter": "python",
   "pygments_lexer": "ipython3",
   "version": "3.9.5"
  },
  "metadata": {
   "interpreter": {
    "hash": "ac59ebe37160ed0dfa835113d9b8498d9f09ceb179beaac4002f036b9467c963"
   }
  }
 },
 "nbformat": 4,
 "nbformat_minor": 5
}