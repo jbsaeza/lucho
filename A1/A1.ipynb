{
 "cells": [
  {
   "cell_type": "markdown",
   "id": "certain-invasion",
   "metadata": {},
   "source": [
    "# A1\n",
    "\n",
    "### Misión 1\n",
    "\n",
    "La base de datos se compone de películas que poseen los siguientes atributos: \n",
    "- Titulo\n",
    "- Actores involucrados en la película\n",
    "- Año de estreno de la película\n",
    "- Géneros de la película\n",
    "\n",
    "De esta información distingo 3 entidades, los actores, los géneros y las películas que son una composición o agregación de las entidades anteriores. El año no lo tome como entidad ya que encuentro que es algo muy global y me hace más sentido como atributo de la entidad película.\n",
    "Respecto a las relaciones entre entidades, tenemos que las películas se ven compuestas por los actores dado que sin los actores no existiría la película. También tenemos una relación de agregación entre los géneros y las películas, donde los géneros agregan información a la película.\n",
    "\n",
    "A cada clase se le agrego un atributo de clase donde se almacenan las instancias generadas y los nombres de estas para simplicidad de las operaciones que se realizaran.\n",
    "\n",
    "\n",
    "\n",
    "![](A1.png)\n"
   ]
  },
  {
   "cell_type": "code",
   "execution_count": 5,
   "metadata": {},
   "outputs": [],
   "source": [
    "class Movie:\n",
    "\n",
    "    instances = []\n",
    "\n",
    "    def __init__(self, title, year):\n",
    "        self.title = title\n",
    "        self.genres = []\n",
    "        self.cast = []\n",
    "        self.year = year\n",
    "        Movie.instances.append(self)\n",
    "\n",
    "class Actor:\n",
    "\n",
    "    instances = []\n",
    "    names = []\n",
    "\n",
    "    def __init__(self, name):\n",
    "        self.name = name\n",
    "        Actor.instances.append(self)\n",
    "        Actor.names.append(name)\n",
    "\n",
    "class Genre:\n",
    "\n",
    "    instances = []\n",
    "    names = []\n",
    "\n",
    "    def __init__(self, name):\n",
    "        self.name = name\n",
    "        Genre.instances.append(self)\n",
    "        Genre.names.append(name)"
   ]
  },
  {
   "source": [
    "### Misión 2"
   ],
   "cell_type": "markdown",
   "metadata": {}
  },
  {
   "cell_type": "code",
   "execution_count": 6,
   "metadata": {},
   "outputs": [],
   "source": [
    "import json\n",
    "\n",
    "#movie: {title, year, cast, genres}\n",
    "with open('movies.json', encoding = 'utf8') as movies_file:\n",
    "    movies = json.load(movies_file)\n",
    "    for movie in movies:\n",
    "        m = Movie(movie['title'], movie['year'])\n",
    "        for genre in movie['genres']:\n",
    "            if genre not in Genre.names:\n",
    "                Genre(genre)\n",
    "            m.genres.append(genre)\n",
    "        for actor in movie['cast']:\n",
    "            if actor not in Actor.names:\n",
    "                Actor(actor)\n",
    "            m.cast.append(actor)"
   ]
  },
  {
   "source": [
    "### Misión 3"
   ],
   "cell_type": "markdown",
   "metadata": {}
  },
  {
   "cell_type": "code",
   "execution_count": 7,
   "metadata": {},
   "outputs": [],
   "source": [
    "def top5_populars_genres():\n",
    "    genres = {}\n",
    "    for movie in Movie.instances:\n",
    "        for genre in movie.genres:\n",
    "            if genre not in genres.keys():\n",
    "                genres[genre] = 1\n",
    "            else:\n",
    "                genres[genre] += 1\n",
    "    genres = [(key, genres[key]) for key in genres.keys()]\n",
    "    genres.sort(key=(lambda x: x[1]))\n",
    "    print(genres[-5:])\n",
    "\n",
    "def top3_years_most_movies():\n",
    "    years = {}\n",
    "    for movie in Movie.instances:\n",
    "        if movie.year not in years.keys():\n",
    "            years[movie.year] = 1\n",
    "        else:\n",
    "            years[movie.year] += 1\n",
    "    years = [(key, years[key]) for key in years.keys()]\n",
    "    years.sort(key=(lambda x: x[1]))\n",
    "    print(years[-3:])\n",
    "\n",
    "def top5_oldest_actors():\n",
    "    top_actors = {}\n",
    "    for movie in Movie.instances:\n",
    "        for actor in movie.cast:\n",
    "            if actor not in top_actors.keys():\n",
    "                top_actors[actor] = {}\n",
    "                top_actors[actor]['min'] = movie.year\n",
    "                top_actors[actor]['max'] = movie.year\n",
    "            elif top_actors[actor]['max'] < movie.year:\n",
    "                top_actors[actor]['max'] = movie.year\n",
    "            elif movie.year < top_actors[actor]['min']:\n",
    "                top_actors[actor]['min'] = movie.year\n",
    "    top_actors = [(key, top_actors[key]['min'], top_actors[key]['max']) for key in top_actors.keys()]\n",
    "    top_actors.sort(key=(lambda x: x[2] - x[1]))\n",
    "    print(top_actors[-5:])\n",
    "\n",
    "def most_freq_cast():\n",
    "    casts = []\n",
    "    for movie in Movie.instances:\n",
    "        if 2 <= len(movie.cast):\n",
    "            added = False\n",
    "            for cast in casts:\n",
    "                if all([actor in cast[0] for actor in movie.cast]):\n",
    "                    cast[1] += 1\n",
    "                    added = True\n",
    "                    break\n",
    "            if not added:\n",
    "                casts.append([movie.cast, 1])\n",
    "    casts.sort(key=(lambda x: x[1]))\n",
    "    print(casts[-1])"
   ]
  },
  {
   "cell_type": "code",
   "execution_count": 8,
   "metadata": {},
   "outputs": [
    {
     "output_type": "stream",
     "name": "stdout",
     "text": [
      "[('Musical', 1166), ('Crime', 1499), ('Western', 3013), ('Comedy', 7363), ('Drama', 8744)]\n"
     ]
    }
   ],
   "source": [
    "top5_populars_genres()"
   ]
  },
  {
   "cell_type": "code",
   "execution_count": 9,
   "metadata": {},
   "outputs": [
    {
     "output_type": "stream",
     "name": "stdout",
     "text": [
      "[(1936, 504), (1925, 572), (1919, 634)]\n"
     ]
    }
   ],
   "source": [
    "top3_years_most_movies()"
   ]
  },
  {
   "cell_type": "code",
   "execution_count": 10,
   "metadata": {},
   "outputs": [
    {
     "output_type": "stream",
     "name": "stdout",
     "text": [
      "[('Kenny Baker', 1937, 2012), ('Gloria Stuart', 1932, 2012), ('and', 1915, 2013), ('Harrison Ford', 1919, 2017), ('.', 1912, 2013)]\n"
     ]
    }
   ],
   "source": [
    "top5_oldest_actors()"
   ]
  },
  {
   "cell_type": "code",
   "execution_count": 11,
   "metadata": {},
   "outputs": [
    {
     "output_type": "stream",
     "name": "stdout",
     "text": [
      "[['Harold Lloyd', 'Bebe Daniels'], 44]\n"
     ]
    }
   ],
   "source": [
    "most_freq_cast()"
   ]
  }
 ],
 "metadata": {
  "kernelspec": {
   "name": "python392jvsc74a57bd0ac59ebe37160ed0dfa835113d9b8498d9f09ceb179beaac4002f036b9467c963",
   "display_name": "Python 3.9.2 64-bit"
  },
  "language_info": {
   "codemirror_mode": {
    "name": "ipython",
    "version": 3
   },
   "file_extension": ".py",
   "mimetype": "text/x-python",
   "name": "python",
   "nbconvert_exporter": "python",
   "pygments_lexer": "ipython3",
   "version": "3.9.2-final"
  },
  "metadata": {
   "interpreter": {
    "hash": "ac59ebe37160ed0dfa835113d9b8498d9f09ceb179beaac4002f036b9467c963"
   }
  }
 },
 "nbformat": 4,
 "nbformat_minor": 5
}