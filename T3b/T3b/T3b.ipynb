{
 "cells": [
  {
   "cell_type": "markdown",
   "id": "certain-invasion",
   "metadata": {},
   "source": [
    "# T3b"
   ]
  },
  {
   "cell_type": "code",
   "execution_count": 3,
   "metadata": {},
   "outputs": [],
   "source": [
    "import sqlite3\n",
    "\n",
    "connection = sqlite3.connect('data.db')\n",
    "cursor = connection.cursor()"
   ]
  },
  {
   "source": [
    "### Consulta 1\n",
    "Para todos los niveles, con excepción de JR, encuentre el nivel y el promedio de edad de los estudiantes\n",
    "del nivel."
   ],
   "cell_type": "markdown",
   "metadata": {}
  },
  {
   "cell_type": "code",
   "execution_count": 5,
   "metadata": {},
   "outputs": [
    {
     "output_type": "stream",
     "name": "stdout",
     "text": [
      "[('FR', 17.666666666666668), ('SO', 18.4), ('SR', 20.714285714285715)]\n"
     ]
    }
   ],
   "source": [
    "cursor.execute(\n",
    "    \"SELECT nivel, AVG (E.edad) FROM Estudiantes E GROUP BY E.nivel HAVING E.nivel != 'JR'\"\n",
    ")\n",
    "print(cursor.fetchall())"
   ]
  },
  {
   "source": [
    "### Consulta 2\n",
    "Encuentre los nombres de todos los alumnos que no están inscritos en ningún curso."
   ],
   "cell_type": "markdown",
   "metadata": {}
  },
  {
   "cell_type": "code",
   "execution_count": 6,
   "metadata": {},
   "outputs": [
    {
     "output_type": "stream",
     "name": "stdout",
     "text": [
      "[('Maria White',), ('Charles Harris',), ('Angela Martinez',), ('Thomas Robinson',), ('Margaret Clark',), ('Dorthy Lewis',), ('Daniel Lee',), ('Nancy Allen',), ('Mark Young',), ('Donald King',), ('George Wright',), ('Steven Green',), ('Edward Baker',)]\n"
     ]
    }
   ],
   "source": [
    "cursor.execute(\n",
    "    \"SELECT E.nombre FROM Estudiantes E WHERE E.num NOT IN (SELECT I.num_est FROM Inscritos I)\"\n",
    ")\n",
    "\n",
    "print(cursor.fetchall())"
   ]
  },
  {
   "source": [
    "### Consulta 3\n",
    "Encuentre los nombres de los profesores para los cuales la suma de estudiantes de todos los cursos que\n",
    "dictan es menor que 5 (considere solo aquellos cursos con al menos 1 estudiante inscrito)."
   ],
   "cell_type": "markdown",
   "metadata": {}
  },
  {
   "cell_type": "code",
   "execution_count": 7,
   "metadata": {},
   "outputs": [
    {
     "output_type": "stream",
     "name": "stdout",
     "text": [
      "[('Elizabeth Taylor',), ('Jennifer Thomas',), ('John Williams',), ('Mary Johnson',), ('Patricia Jones',), ('Richard Jackson',), ('William Moore',)]\n"
     ]
    }
   ],
   "source": [
    "cursor.execute(\n",
    "    \"SELECT X.nombre FROM (SELECT COUNT (I.num_est) AS c_est, P.nombre AS nombre FROM Inscritos I, Profesores P, Cursos C WHERE I.nombre_curso == C.nombre AND C.id_profesor == P.id GROUP BY P.nombre) AS X WHERE X.c_est < 5\"\n",
    ")\n",
    "\n",
    "print(cursor.fetchall())"
   ]
  },
  {
   "source": [
    "### Consulta 4\n",
    "Encuentre los nombres de todos los cursos que tienen cátedra en la sala R128 o tienen cinco o más\n",
    "estudiantes."
   ],
   "cell_type": "markdown",
   "metadata": {}
  },
  {
   "cell_type": "code",
   "execution_count": 8,
   "metadata": {},
   "outputs": [
    {
     "output_type": "stream",
     "name": "stdout",
     "text": [
      "[('Archaeology of the Incas',), ('Dairy Herd Management',), ('Data Structures',), ('Database Systems',), ('Intoduction to Math',), ('Operating System Design',), ('Patent Law',)]\n"
     ]
    }
   ],
   "source": [
    "cursor.execute(\n",
    "    \"SELECT C.nombre FROM Cursos C WHERE C.sala == 'R128' UNION SELECT Y.nombre FROM (SELECT COUNT(I.num_est) AS c_est, I.nombre_curso AS nombre FROM Inscritos I GROUP BY I.nombre_curso) AS Y WHERE Y.c_est > 4\"\n",
    ")\n",
    "\n",
    "print(cursor.fetchall())"
   ]
  },
  {
   "cell_type": "code",
   "execution_count": 9,
   "metadata": {},
   "outputs": [],
   "source": [
    "connection.close()\n"
   ]
  }
 ],
 "metadata": {
  "kernelspec": {
   "name": "python395jvsc74a57bd0ac59ebe37160ed0dfa835113d9b8498d9f09ceb179beaac4002f036b9467c963",
   "display_name": "Python 3.9.5 64-bit"
  },
  "language_info": {
   "codemirror_mode": {
    "name": "ipython",
    "version": 3
   },
   "file_extension": ".py",
   "mimetype": "text/x-python",
   "name": "python",
   "nbconvert_exporter": "python",
   "pygments_lexer": "ipython3",
   "version": "3.9.5"
  },
  "metadata": {
   "interpreter": {
    "hash": "ac59ebe37160ed0dfa835113d9b8498d9f09ceb179beaac4002f036b9467c963"
   }
  }
 },
 "nbformat": 4,
 "nbformat_minor": 5
}